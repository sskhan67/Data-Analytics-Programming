{
 "cells": [
  {
   "cell_type": "markdown",
   "metadata": {},
   "source": [
    "Name:\n",
    "Syeduzzaman Khan\n",
    "\n",
    "Project Title: Does SFO require expansion ?\n",
    "\n",
    "\n",
    "1. Objectives:\n",
    "<p style='text-align: justify;'>\n",
    "SFO is the largest airport in Northern California and the second-busiest in California. It has flights to points throughout North America and is a major gateway to Europe and Asia. SFO is owned and policed by the City and County of San Francisco, but is in San Mateo County. \n",
    " </p> \n",
    " <p style='text-align: justify;'>\n",
    "The purpose of this project is to analysis the four different datasets (SF Air Traffic Passenger, Landings Statistics, Airlines, and Countries of the World) and help to San Mateo County to support their airport expansion plan.\n",
    "  \n",
    "  </p> \n",
    "  <p style='text-align: justify;'>\n",
    "o achieve San Mateo County goals, we have to carefully analyze the dataset considering different perspectives. At the beginning of the project, we will get to familiar with datasets and look into different columns. Then, we will pick the relevant columns that will lead us to reach our goals. The obtained results will be visualized using plot and table. \n",
    "</p>\n",
    "  \n"
   ]
  },
  {
   "cell_type": "markdown",
   "metadata": {},
   "source": [
    "# 2. Data Exploration: "
   ]
  },
  {
   "cell_type": "markdown",
   "metadata": {},
   "source": [
    "Read dataset"
   ]
  },
  {
   "cell_type": "code",
   "execution_count": 1,
   "metadata": {},
   "outputs": [],
   "source": [
    "# read csv file \n",
    "\n",
    "landings <- read.csv (\"air-traffic-landings-statistics.csv\", na.strings=\"\",stringsAsFactors=FALSE)\n",
    "\n",
    "passenger <- read.csv (\"air-traffic-passenger-statistics.csv\", na.strings=\"\",stringsAsFactors=FALSE)\n",
    "\n",
    "countries<-read.csv(\"Countries of the World.csv\")\n",
    "\n",
    "airlines<-read.csv(\"Airlines.csv\")\n"
   ]
  },
  {
   "cell_type": "code",
   "execution_count": 2,
   "metadata": {},
   "outputs": [
    {
     "name": "stdout",
     "output_type": "stream",
     "text": [
      "Landings dataset: "
     ]
    },
    {
     "data": {
      "text/html": [
       "<table>\n",
       "<thead><tr><th scope=col>Activity.Period</th><th scope=col>Operating.Airline</th><th scope=col>Operating.Airline.IATA.Code</th><th scope=col>Published.Airline</th><th scope=col>Published.Airline.IATA.Code</th><th scope=col>GEO.Summary</th><th scope=col>GEO.Region</th><th scope=col>Landing.Aircraft.Type</th><th scope=col>Aircraft.Body.Type</th><th scope=col>Aircraft.Manufacturer</th><th scope=col>Aircraft.Model</th><th scope=col>Aircraft.Version</th><th scope=col>Landing.Count</th><th scope=col>Total.Landed.Weight</th></tr></thead>\n",
       "<tbody>\n",
       "\t<tr><td>200204                                 </td><td>ATA Airlines                           </td><td>TZ                                     </td><td>ATA Airlines                           </td><td>TZ                                     </td><td>Domestic                               </td><td>US                                     </td><td>Passenger                              </td><td>Narrow Body                            </td><td>Boeing                                 </td><td>757                                    </td><td>200                                    </td><td>83                                     </td><td>16434000                               </td></tr>\n",
       "\t<tr><td>200204                                 </td><td>ATA Airlines                           </td><td>TZ                                     </td><td>ATA Airlines                           </td><td>TZ                                     </td><td>Domestic                               </td><td>US                                     </td><td>Passenger                              </td><td>Narrow Body                            </td><td>Boeing                                 </td><td>757                                    </td><td>300                                    </td><td> 3                                     </td><td>  672000                               </td></tr>\n",
       "\t<tr><td>200204                                 </td><td>ATA Airlines                           </td><td>TZ                                     </td><td>ATA Airlines                           </td><td>TZ                                     </td><td>Domestic                               </td><td>US                                     </td><td>Passenger                              </td><td>Wide Body                              </td><td>Lockheed                               </td><td>L1011                                  </td><td>0                                      </td><td>27                                     </td><td> 9666000                               </td></tr>\n",
       "\t<tr><td>200204                                 </td><td>Aeroflot Russian International Airlines</td><td>NA                                     </td><td>Aeroflot Russian International Airlines</td><td>NA                                     </td><td>International                          </td><td>Europe                                 </td><td>Passenger                              </td><td>Wide Body                              </td><td>Boeing                                 </td><td>777                                    </td><td>0                                      </td><td> 9                                     </td><td> 4139946                               </td></tr>\n",
       "\t<tr><td>200204                                 </td><td>Air Canada                             </td><td>AC                                     </td><td>Air Canada                             </td><td>AC                                     </td><td>International                          </td><td>Canada                                 </td><td>Passenger                              </td><td>Narrow Body                            </td><td>Boeing                                 </td><td>737                                    </td><td>200                                    </td><td> 5                                     </td><td>  525000                               </td></tr>\n",
       "\t<tr><td>200204                                 </td><td>Air Canada                             </td><td>AC                                     </td><td>Air Canada                             </td><td>AC                                     </td><td>International                          </td><td>Canada                                 </td><td>Passenger                              </td><td>Narrow Body                            </td><td>Boeing                                 </td><td>737                                    </td><td>NA                                     </td><td>15                                     </td><td> 1605000                               </td></tr>\n",
       "</tbody>\n",
       "</table>\n"
      ],
      "text/latex": [
       "\\begin{tabular}{r|llllllllllllll}\n",
       " Activity.Period & Operating.Airline & Operating.Airline.IATA.Code & Published.Airline & Published.Airline.IATA.Code & GEO.Summary & GEO.Region & Landing.Aircraft.Type & Aircraft.Body.Type & Aircraft.Manufacturer & Aircraft.Model & Aircraft.Version & Landing.Count & Total.Landed.Weight\\\\\n",
       "\\hline\n",
       "\t 200204                                  & ATA Airlines                            & TZ                                      & ATA Airlines                            & TZ                                      & Domestic                                & US                                      & Passenger                               & Narrow Body                             & Boeing                                  & 757                                     & 200                                     & 83                                      & 16434000                               \\\\\n",
       "\t 200204                                  & ATA Airlines                            & TZ                                      & ATA Airlines                            & TZ                                      & Domestic                                & US                                      & Passenger                               & Narrow Body                             & Boeing                                  & 757                                     & 300                                     &  3                                      &   672000                               \\\\\n",
       "\t 200204                                  & ATA Airlines                            & TZ                                      & ATA Airlines                            & TZ                                      & Domestic                                & US                                      & Passenger                               & Wide Body                               & Lockheed                                & L1011                                   & 0                                       & 27                                      &  9666000                               \\\\\n",
       "\t 200204                                  & Aeroflot Russian International Airlines & NA                                      & Aeroflot Russian International Airlines & NA                                      & International                           & Europe                                  & Passenger                               & Wide Body                               & Boeing                                  & 777                                     & 0                                       &  9                                      &  4139946                               \\\\\n",
       "\t 200204                                  & Air Canada                              & AC                                      & Air Canada                              & AC                                      & International                           & Canada                                  & Passenger                               & Narrow Body                             & Boeing                                  & 737                                     & 200                                     &  5                                      &   525000                               \\\\\n",
       "\t 200204                                  & Air Canada                              & AC                                      & Air Canada                              & AC                                      & International                           & Canada                                  & Passenger                               & Narrow Body                             & Boeing                                  & 737                                     & NA                                      & 15                                      &  1605000                               \\\\\n",
       "\\end{tabular}\n"
      ],
      "text/markdown": [
       "\n",
       "Activity.Period | Operating.Airline | Operating.Airline.IATA.Code | Published.Airline | Published.Airline.IATA.Code | GEO.Summary | GEO.Region | Landing.Aircraft.Type | Aircraft.Body.Type | Aircraft.Manufacturer | Aircraft.Model | Aircraft.Version | Landing.Count | Total.Landed.Weight | \n",
       "|---|---|---|---|---|---|\n",
       "| 200204                                  | ATA Airlines                            | TZ                                      | ATA Airlines                            | TZ                                      | Domestic                                | US                                      | Passenger                               | Narrow Body                             | Boeing                                  | 757                                     | 200                                     | 83                                      | 16434000                                | \n",
       "| 200204                                  | ATA Airlines                            | TZ                                      | ATA Airlines                            | TZ                                      | Domestic                                | US                                      | Passenger                               | Narrow Body                             | Boeing                                  | 757                                     | 300                                     |  3                                      |   672000                                | \n",
       "| 200204                                  | ATA Airlines                            | TZ                                      | ATA Airlines                            | TZ                                      | Domestic                                | US                                      | Passenger                               | Wide Body                               | Lockheed                                | L1011                                   | 0                                       | 27                                      |  9666000                                | \n",
       "| 200204                                  | Aeroflot Russian International Airlines | NA                                      | Aeroflot Russian International Airlines | NA                                      | International                           | Europe                                  | Passenger                               | Wide Body                               | Boeing                                  | 777                                     | 0                                       |  9                                      |  4139946                                | \n",
       "| 200204                                  | Air Canada                              | AC                                      | Air Canada                              | AC                                      | International                           | Canada                                  | Passenger                               | Narrow Body                             | Boeing                                  | 737                                     | 200                                     |  5                                      |   525000                                | \n",
       "| 200204                                  | Air Canada                              | AC                                      | Air Canada                              | AC                                      | International                           | Canada                                  | Passenger                               | Narrow Body                             | Boeing                                  | 737                                     | NA                                      | 15                                      |  1605000                                | \n",
       "\n",
       "\n"
      ],
      "text/plain": [
       "  Activity.Period Operating.Airline                      \n",
       "1 200204          ATA Airlines                           \n",
       "2 200204          ATA Airlines                           \n",
       "3 200204          ATA Airlines                           \n",
       "4 200204          Aeroflot Russian International Airlines\n",
       "5 200204          Air Canada                             \n",
       "6 200204          Air Canada                             \n",
       "  Operating.Airline.IATA.Code Published.Airline                      \n",
       "1 TZ                          ATA Airlines                           \n",
       "2 TZ                          ATA Airlines                           \n",
       "3 TZ                          ATA Airlines                           \n",
       "4 NA                          Aeroflot Russian International Airlines\n",
       "5 AC                          Air Canada                             \n",
       "6 AC                          Air Canada                             \n",
       "  Published.Airline.IATA.Code GEO.Summary   GEO.Region Landing.Aircraft.Type\n",
       "1 TZ                          Domestic      US         Passenger            \n",
       "2 TZ                          Domestic      US         Passenger            \n",
       "3 TZ                          Domestic      US         Passenger            \n",
       "4 NA                          International Europe     Passenger            \n",
       "5 AC                          International Canada     Passenger            \n",
       "6 AC                          International Canada     Passenger            \n",
       "  Aircraft.Body.Type Aircraft.Manufacturer Aircraft.Model Aircraft.Version\n",
       "1 Narrow Body        Boeing                757            200             \n",
       "2 Narrow Body        Boeing                757            300             \n",
       "3 Wide Body          Lockheed              L1011          0               \n",
       "4 Wide Body          Boeing                777            0               \n",
       "5 Narrow Body        Boeing                737            200             \n",
       "6 Narrow Body        Boeing                737            NA              \n",
       "  Landing.Count Total.Landed.Weight\n",
       "1 83            16434000           \n",
       "2  3              672000           \n",
       "3 27             9666000           \n",
       "4  9             4139946           \n",
       "5  5              525000           \n",
       "6 15             1605000           "
      ]
     },
     "metadata": {},
     "output_type": "display_data"
    }
   ],
   "source": [
    "cat(\"Landings dataset: \")\n",
    "head(landings)"
   ]
  },
  {
   "cell_type": "code",
   "execution_count": 3,
   "metadata": {},
   "outputs": [
    {
     "name": "stdout",
     "output_type": "stream",
     "text": [
      "Passenger dataset: "
     ]
    },
    {
     "data": {
      "text/html": [
       "<table>\n",
       "<thead><tr><th scope=col>Activity.Period</th><th scope=col>Operating.Airline</th><th scope=col>Operating.Airline.IATA.Code</th><th scope=col>Published.Airline</th><th scope=col>Published.Airline.IATA.Code</th><th scope=col>GEO.Summary</th><th scope=col>GEO.Region</th><th scope=col>Activity.Type.Code</th><th scope=col>Price.Category.Code</th><th scope=col>Terminal</th><th scope=col>Boarding.Area</th><th scope=col>Passenger.Count</th></tr></thead>\n",
       "<tbody>\n",
       "\t<tr><td>200507        </td><td>ATA Airlines  </td><td>TZ            </td><td>ATA Airlines  </td><td>TZ            </td><td>Domestic      </td><td>US            </td><td>Deplaned      </td><td>Low Fare      </td><td>Terminal 1    </td><td>B             </td><td>27271         </td></tr>\n",
       "\t<tr><td>200507        </td><td>ATA Airlines  </td><td>TZ            </td><td>ATA Airlines  </td><td>TZ            </td><td>Domestic      </td><td>US            </td><td>Enplaned      </td><td>Low Fare      </td><td>Terminal 1    </td><td>B             </td><td>29131         </td></tr>\n",
       "\t<tr><td>200507        </td><td>ATA Airlines  </td><td>TZ            </td><td>ATA Airlines  </td><td>TZ            </td><td>Domestic      </td><td>US            </td><td>Thru / Transit</td><td>Low Fare      </td><td>Terminal 1    </td><td>B             </td><td> 5415         </td></tr>\n",
       "\t<tr><td>200507        </td><td>Air Canada    </td><td>AC            </td><td>Air Canada    </td><td>AC            </td><td>International </td><td>Canada        </td><td>Deplaned      </td><td>Other         </td><td>Terminal 1    </td><td>B             </td><td>35156         </td></tr>\n",
       "\t<tr><td>200507        </td><td>Air Canada    </td><td>AC            </td><td>Air Canada    </td><td>AC            </td><td>International </td><td>Canada        </td><td>Enplaned      </td><td>Other         </td><td>Terminal 1    </td><td>B             </td><td>34090         </td></tr>\n",
       "\t<tr><td>200507        </td><td>Air China     </td><td>CA            </td><td>Air China     </td><td>CA            </td><td>International </td><td>Asia          </td><td>Deplaned      </td><td>Other         </td><td>International </td><td>G             </td><td> 6263         </td></tr>\n",
       "</tbody>\n",
       "</table>\n"
      ],
      "text/latex": [
       "\\begin{tabular}{r|llllllllllll}\n",
       " Activity.Period & Operating.Airline & Operating.Airline.IATA.Code & Published.Airline & Published.Airline.IATA.Code & GEO.Summary & GEO.Region & Activity.Type.Code & Price.Category.Code & Terminal & Boarding.Area & Passenger.Count\\\\\n",
       "\\hline\n",
       "\t 200507         & ATA Airlines   & TZ             & ATA Airlines   & TZ             & Domestic       & US             & Deplaned       & Low Fare       & Terminal 1     & B              & 27271         \\\\\n",
       "\t 200507         & ATA Airlines   & TZ             & ATA Airlines   & TZ             & Domestic       & US             & Enplaned       & Low Fare       & Terminal 1     & B              & 29131         \\\\\n",
       "\t 200507         & ATA Airlines   & TZ             & ATA Airlines   & TZ             & Domestic       & US             & Thru / Transit & Low Fare       & Terminal 1     & B              &  5415         \\\\\n",
       "\t 200507         & Air Canada     & AC             & Air Canada     & AC             & International  & Canada         & Deplaned       & Other          & Terminal 1     & B              & 35156         \\\\\n",
       "\t 200507         & Air Canada     & AC             & Air Canada     & AC             & International  & Canada         & Enplaned       & Other          & Terminal 1     & B              & 34090         \\\\\n",
       "\t 200507         & Air China      & CA             & Air China      & CA             & International  & Asia           & Deplaned       & Other          & International  & G              &  6263         \\\\\n",
       "\\end{tabular}\n"
      ],
      "text/markdown": [
       "\n",
       "Activity.Period | Operating.Airline | Operating.Airline.IATA.Code | Published.Airline | Published.Airline.IATA.Code | GEO.Summary | GEO.Region | Activity.Type.Code | Price.Category.Code | Terminal | Boarding.Area | Passenger.Count | \n",
       "|---|---|---|---|---|---|\n",
       "| 200507         | ATA Airlines   | TZ             | ATA Airlines   | TZ             | Domestic       | US             | Deplaned       | Low Fare       | Terminal 1     | B              | 27271          | \n",
       "| 200507         | ATA Airlines   | TZ             | ATA Airlines   | TZ             | Domestic       | US             | Enplaned       | Low Fare       | Terminal 1     | B              | 29131          | \n",
       "| 200507         | ATA Airlines   | TZ             | ATA Airlines   | TZ             | Domestic       | US             | Thru / Transit | Low Fare       | Terminal 1     | B              |  5415          | \n",
       "| 200507         | Air Canada     | AC             | Air Canada     | AC             | International  | Canada         | Deplaned       | Other          | Terminal 1     | B              | 35156          | \n",
       "| 200507         | Air Canada     | AC             | Air Canada     | AC             | International  | Canada         | Enplaned       | Other          | Terminal 1     | B              | 34090          | \n",
       "| 200507         | Air China      | CA             | Air China      | CA             | International  | Asia           | Deplaned       | Other          | International  | G              |  6263          | \n",
       "\n",
       "\n"
      ],
      "text/plain": [
       "  Activity.Period Operating.Airline Operating.Airline.IATA.Code\n",
       "1 200507          ATA Airlines      TZ                         \n",
       "2 200507          ATA Airlines      TZ                         \n",
       "3 200507          ATA Airlines      TZ                         \n",
       "4 200507          Air Canada        AC                         \n",
       "5 200507          Air Canada        AC                         \n",
       "6 200507          Air China         CA                         \n",
       "  Published.Airline Published.Airline.IATA.Code GEO.Summary   GEO.Region\n",
       "1 ATA Airlines      TZ                          Domestic      US        \n",
       "2 ATA Airlines      TZ                          Domestic      US        \n",
       "3 ATA Airlines      TZ                          Domestic      US        \n",
       "4 Air Canada        AC                          International Canada    \n",
       "5 Air Canada        AC                          International Canada    \n",
       "6 Air China         CA                          International Asia      \n",
       "  Activity.Type.Code Price.Category.Code Terminal      Boarding.Area\n",
       "1 Deplaned           Low Fare            Terminal 1    B            \n",
       "2 Enplaned           Low Fare            Terminal 1    B            \n",
       "3 Thru / Transit     Low Fare            Terminal 1    B            \n",
       "4 Deplaned           Other               Terminal 1    B            \n",
       "5 Enplaned           Other               Terminal 1    B            \n",
       "6 Deplaned           Other               International G            \n",
       "  Passenger.Count\n",
       "1 27271          \n",
       "2 29131          \n",
       "3  5415          \n",
       "4 35156          \n",
       "5 34090          \n",
       "6  6263          "
      ]
     },
     "metadata": {},
     "output_type": "display_data"
    }
   ],
   "source": [
    "cat(\"Passenger dataset: \")\n",
    "\n",
    "head(passenger)"
   ]
  },
  {
   "cell_type": "code",
   "execution_count": 4,
   "metadata": {
    "scrolled": true
   },
   "outputs": [
    {
     "name": "stdout",
     "output_type": "stream",
     "text": [
      "Airlines dataset: "
     ]
    },
    {
     "data": {
      "text/html": [
       "<table>\n",
       "<thead><tr><th scope=col>Name</th><th scope=col>ICAO</th><th scope=col>IATA</th><th scope=col>CallSign</th><th scope=col>Country</th><th scope=col>Founded</th><th scope=col>Destinations</th><th scope=col>Fleet.Size</th></tr></thead>\n",
       "<tbody>\n",
       "\t<tr><td>Air Vanuatu                </td><td>AVN                        </td><td>NF                         </td><td>AIR VAN                    </td><td>Vanuatu                    </td><td>1981                       </td><td>33                         </td><td> 6                         </td></tr>\n",
       "\t<tr><td>Atlantic Airways           </td><td>FLI                        </td><td>RC                         </td><td>FAROELINE                  </td><td>Faroe Islands              </td><td>1987                       </td><td> 9                         </td><td> 5                         </td></tr>\n",
       "\t<tr><td>Express.Net Airlines       </td><td>XNA                        </td><td>                           </td><td>EXPRESSNET                 </td><td>                           </td><td>1972                       </td><td>NA                         </td><td> 4                         </td></tr>\n",
       "\t<tr><td>Sabah Air                  </td><td>SAX                        </td><td>SA                         </td><td>SABAH AIR                  </td><td>Malaysia                   </td><td>1975                       </td><td>NA                         </td><td>12                         </td></tr>\n",
       "\t<tr><td>Air Vega                   </td><td>                           </td><td>                           </td><td>                           </td><td>                           </td><td>2012                       </td><td>NA                         </td><td> 1                         </td></tr>\n",
       "\t<tr><td>Corporate Flight Management</td><td>VTE                        </td><td>                           </td><td>VOLUNTEER                  </td><td>                           </td><td>1982                       </td><td>NA                         </td><td>27                         </td></tr>\n",
       "</tbody>\n",
       "</table>\n"
      ],
      "text/latex": [
       "\\begin{tabular}{r|llllllll}\n",
       " Name & ICAO & IATA & CallSign & Country & Founded & Destinations & Fleet.Size\\\\\n",
       "\\hline\n",
       "\t Air Vanuatu                 & AVN                         & NF                          & AIR VAN                     & Vanuatu                     & 1981                        & 33                          &  6                         \\\\\n",
       "\t Atlantic Airways            & FLI                         & RC                          & FAROELINE                   & Faroe Islands               & 1987                        &  9                          &  5                         \\\\\n",
       "\t Express.Net Airlines        & XNA                         &                             & EXPRESSNET                  &                             & 1972                        & NA                          &  4                         \\\\\n",
       "\t Sabah Air                   & SAX                         & SA                          & SABAH AIR                   & Malaysia                    & 1975                        & NA                          & 12                         \\\\\n",
       "\t Air Vega                    &                             &                             &                             &                             & 2012                        & NA                          &  1                         \\\\\n",
       "\t Corporate Flight Management & VTE                         &                             & VOLUNTEER                   &                             & 1982                        & NA                          & 27                         \\\\\n",
       "\\end{tabular}\n"
      ],
      "text/markdown": [
       "\n",
       "Name | ICAO | IATA | CallSign | Country | Founded | Destinations | Fleet.Size | \n",
       "|---|---|---|---|---|---|\n",
       "| Air Vanuatu                 | AVN                         | NF                          | AIR VAN                     | Vanuatu                     | 1981                        | 33                          |  6                          | \n",
       "| Atlantic Airways            | FLI                         | RC                          | FAROELINE                   | Faroe Islands               | 1987                        |  9                          |  5                          | \n",
       "| Express.Net Airlines        | XNA                         |                             | EXPRESSNET                  |                             | 1972                        | NA                          |  4                          | \n",
       "| Sabah Air                   | SAX                         | SA                          | SABAH AIR                   | Malaysia                    | 1975                        | NA                          | 12                          | \n",
       "| Air Vega                    |                             |                             |                             |                             | 2012                        | NA                          |  1                          | \n",
       "| Corporate Flight Management | VTE                         |                             | VOLUNTEER                   |                             | 1982                        | NA                          | 27                          | \n",
       "\n",
       "\n"
      ],
      "text/plain": [
       "  Name                        ICAO IATA CallSign   Country       Founded\n",
       "1 Air Vanuatu                 AVN  NF   AIR VAN    Vanuatu       1981   \n",
       "2 Atlantic Airways            FLI  RC   FAROELINE  Faroe Islands 1987   \n",
       "3 Express.Net Airlines        XNA       EXPRESSNET               1972   \n",
       "4 Sabah Air                   SAX  SA   SABAH AIR  Malaysia      1975   \n",
       "5 Air Vega                                                       2012   \n",
       "6 Corporate Flight Management VTE       VOLUNTEER                1982   \n",
       "  Destinations Fleet.Size\n",
       "1 33            6        \n",
       "2  9            5        \n",
       "3 NA            4        \n",
       "4 NA           12        \n",
       "5 NA            1        \n",
       "6 NA           27        "
      ]
     },
     "metadata": {},
     "output_type": "display_data"
    }
   ],
   "source": [
    "cat(\"Airlines dataset: \")\n",
    "\n",
    "head(airlines)"
   ]
  },
  {
   "cell_type": "code",
   "execution_count": 5,
   "metadata": {},
   "outputs": [
    {
     "name": "stdout",
     "output_type": "stream",
     "text": [
      "Country dataset: "
     ]
    },
    {
     "data": {
      "text/html": [
       "<table>\n",
       "<thead><tr><th scope=col>Country</th><th scope=col>Region</th><th scope=col>Population</th><th scope=col>Area..sq..mi..</th><th scope=col>Pop..Density..per.sq..mi..</th><th scope=col>Coastline..coast.area.ratio.</th><th scope=col>Net.migration</th><th scope=col>Infant.mortality..per.1000.births.</th><th scope=col>GDP....per.capita.</th><th scope=col>Literacy....</th><th scope=col>Phones..per.1000.</th><th scope=col>Arable....</th><th scope=col>Crops....</th><th scope=col>Other....</th><th scope=col>Climate</th><th scope=col>Birthrate</th><th scope=col>Deathrate</th><th scope=col>Agriculture</th><th scope=col>Industry</th><th scope=col>Service</th></tr></thead>\n",
       "<tbody>\n",
       "\t<tr><td>Afghanistan         </td><td>ASIA (EX. NEAR EAST)</td><td>31056997            </td><td> 647500             </td><td>48,0                </td><td>0,00                </td><td>23,06               </td><td>163,07              </td><td>  700               </td><td>36,0                </td><td>3,2                 </td><td>12,13               </td><td>0,22                </td><td>87,65               </td><td>1                   </td><td>46,6                </td><td>20,34               </td><td>0,38                </td><td>0,24                </td><td>0,38                </td></tr>\n",
       "\t<tr><td>Albania             </td><td>EASTERN EUROPE      </td><td> 3581655            </td><td>  28748             </td><td>124,6               </td><td>1,26                </td><td>-4,93               </td><td>21,52               </td><td> 4500               </td><td>86,5                </td><td>71,2                </td><td>21,09               </td><td>4,42                </td><td>74,49               </td><td>3                   </td><td>15,11               </td><td>5,22                </td><td>0,232               </td><td>0,188               </td><td>0,579               </td></tr>\n",
       "\t<tr><td>Algeria             </td><td>NORTHERN AFRICA     </td><td>32930091            </td><td>2381740             </td><td>13,8                </td><td>0,04                </td><td>-0,39               </td><td>31                  </td><td> 6000               </td><td>70,0                </td><td>78,1                </td><td>3,22                </td><td>0,25                </td><td>96,53               </td><td>1                   </td><td>17,14               </td><td>4,61                </td><td>0,101               </td><td>0,6                 </td><td>0,298               </td></tr>\n",
       "\t<tr><td>American Samoa      </td><td>OCEANIA             </td><td>   57794            </td><td>    199             </td><td>290,4               </td><td>58,29               </td><td>-20,71              </td><td>9,27                </td><td> 8000               </td><td>97,0                </td><td>259,5               </td><td>10                  </td><td>15                  </td><td>75                  </td><td>2                   </td><td>22,46               </td><td>3,27                </td><td>                    </td><td>                    </td><td>                    </td></tr>\n",
       "\t<tr><td>Andorra             </td><td>WESTERN EUROPE      </td><td>   71201            </td><td>    468             </td><td>152,1               </td><td>0,00                </td><td>6,6                 </td><td>4,05                </td><td>19000               </td><td>100,0               </td><td>497,2               </td><td>2,22                </td><td>0                   </td><td>97,78               </td><td>3                   </td><td>8,71                </td><td>6,25                </td><td>                    </td><td>                    </td><td>                    </td></tr>\n",
       "\t<tr><td>Angola              </td><td>SUB-SAHARAN AFRICA  </td><td>12127071            </td><td>1246700             </td><td>9,7                 </td><td>0,13                </td><td>0                   </td><td>191,19              </td><td> 1900               </td><td>42,0                </td><td>7,8                 </td><td>2,41                </td><td>0,24                </td><td>97,35               </td><td>                    </td><td>45,11               </td><td>24,2                </td><td>0,096               </td><td>0,658               </td><td>0,246               </td></tr>\n",
       "</tbody>\n",
       "</table>\n"
      ],
      "text/latex": [
       "\\begin{tabular}{r|llllllllllllllllllll}\n",
       " Country & Region & Population & Area..sq..mi.. & Pop..Density..per.sq..mi.. & Coastline..coast.area.ratio. & Net.migration & Infant.mortality..per.1000.births. & GDP....per.capita. & Literacy.... & Phones..per.1000. & Arable.... & Crops.... & Other.... & Climate & Birthrate & Deathrate & Agriculture & Industry & Service\\\\\n",
       "\\hline\n",
       "\t Afghanistan          & ASIA (EX. NEAR EAST) & 31056997             &  647500              & 48,0                 & 0,00                 & 23,06                & 163,07               &   700                & 36,0                 & 3,2                  & 12,13                & 0,22                 & 87,65                & 1                    & 46,6                 & 20,34                & 0,38                 & 0,24                 & 0,38                \\\\\n",
       "\t Albania              & EASTERN EUROPE       &  3581655             &   28748              & 124,6                & 1,26                 & -4,93                & 21,52                &  4500                & 86,5                 & 71,2                 & 21,09                & 4,42                 & 74,49                & 3                    & 15,11                & 5,22                 & 0,232                & 0,188                & 0,579               \\\\\n",
       "\t Algeria              & NORTHERN AFRICA      & 32930091             & 2381740              & 13,8                 & 0,04                 & -0,39                & 31                   &  6000                & 70,0                 & 78,1                 & 3,22                 & 0,25                 & 96,53                & 1                    & 17,14                & 4,61                 & 0,101                & 0,6                  & 0,298               \\\\\n",
       "\t American Samoa       & OCEANIA              &    57794             &     199              & 290,4                & 58,29                & -20,71               & 9,27                 &  8000                & 97,0                 & 259,5                & 10                   & 15                   & 75                   & 2                    & 22,46                & 3,27                 &                      &                      &                     \\\\\n",
       "\t Andorra              & WESTERN EUROPE       &    71201             &     468              & 152,1                & 0,00                 & 6,6                  & 4,05                 & 19000                & 100,0                & 497,2                & 2,22                 & 0                    & 97,78                & 3                    & 8,71                 & 6,25                 &                      &                      &                     \\\\\n",
       "\t Angola               & SUB-SAHARAN AFRICA   & 12127071             & 1246700              & 9,7                  & 0,13                 & 0                    & 191,19               &  1900                & 42,0                 & 7,8                  & 2,41                 & 0,24                 & 97,35                &                      & 45,11                & 24,2                 & 0,096                & 0,658                & 0,246               \\\\\n",
       "\\end{tabular}\n"
      ],
      "text/markdown": [
       "\n",
       "Country | Region | Population | Area..sq..mi.. | Pop..Density..per.sq..mi.. | Coastline..coast.area.ratio. | Net.migration | Infant.mortality..per.1000.births. | GDP....per.capita. | Literacy.... | Phones..per.1000. | Arable.... | Crops.... | Other.... | Climate | Birthrate | Deathrate | Agriculture | Industry | Service | \n",
       "|---|---|---|---|---|---|\n",
       "| Afghanistan          | ASIA (EX. NEAR EAST) | 31056997             |  647500              | 48,0                 | 0,00                 | 23,06                | 163,07               |   700                | 36,0                 | 3,2                  | 12,13                | 0,22                 | 87,65                | 1                    | 46,6                 | 20,34                | 0,38                 | 0,24                 | 0,38                 | \n",
       "| Albania              | EASTERN EUROPE       |  3581655             |   28748              | 124,6                | 1,26                 | -4,93                | 21,52                |  4500                | 86,5                 | 71,2                 | 21,09                | 4,42                 | 74,49                | 3                    | 15,11                | 5,22                 | 0,232                | 0,188                | 0,579                | \n",
       "| Algeria              | NORTHERN AFRICA      | 32930091             | 2381740              | 13,8                 | 0,04                 | -0,39                | 31                   |  6000                | 70,0                 | 78,1                 | 3,22                 | 0,25                 | 96,53                | 1                    | 17,14                | 4,61                 | 0,101                | 0,6                  | 0,298                | \n",
       "| American Samoa       | OCEANIA              |    57794             |     199              | 290,4                | 58,29                | -20,71               | 9,27                 |  8000                | 97,0                 | 259,5                | 10                   | 15                   | 75                   | 2                    | 22,46                | 3,27                 |                      |                      |                      | \n",
       "| Andorra              | WESTERN EUROPE       |    71201             |     468              | 152,1                | 0,00                 | 6,6                  | 4,05                 | 19000                | 100,0                | 497,2                | 2,22                 | 0                    | 97,78                | 3                    | 8,71                 | 6,25                 |                      |                      |                      | \n",
       "| Angola               | SUB-SAHARAN AFRICA   | 12127071             | 1246700              | 9,7                  | 0,13                 | 0                    | 191,19               |  1900                | 42,0                 | 7,8                  | 2,41                 | 0,24                 | 97,35                |                      | 45,11                | 24,2                 | 0,096                | 0,658                | 0,246                | \n",
       "\n",
       "\n"
      ],
      "text/plain": [
       "  Country        Region               Population Area..sq..mi..\n",
       "1 Afghanistan    ASIA (EX. NEAR EAST) 31056997    647500       \n",
       "2 Albania        EASTERN EUROPE        3581655     28748       \n",
       "3 Algeria        NORTHERN AFRICA      32930091   2381740       \n",
       "4 American Samoa OCEANIA                 57794       199       \n",
       "5 Andorra        WESTERN EUROPE          71201       468       \n",
       "6 Angola         SUB-SAHARAN AFRICA   12127071   1246700       \n",
       "  Pop..Density..per.sq..mi.. Coastline..coast.area.ratio. Net.migration\n",
       "1 48,0                       0,00                         23,06        \n",
       "2 124,6                      1,26                         -4,93        \n",
       "3 13,8                       0,04                         -0,39        \n",
       "4 290,4                      58,29                        -20,71       \n",
       "5 152,1                      0,00                         6,6          \n",
       "6 9,7                        0,13                         0            \n",
       "  Infant.mortality..per.1000.births. GDP....per.capita. Literacy....\n",
       "1 163,07                               700              36,0        \n",
       "2 21,52                               4500              86,5        \n",
       "3 31                                  6000              70,0        \n",
       "4 9,27                                8000              97,0        \n",
       "5 4,05                               19000              100,0       \n",
       "6 191,19                              1900              42,0        \n",
       "  Phones..per.1000. Arable.... Crops.... Other.... Climate Birthrate Deathrate\n",
       "1 3,2               12,13      0,22      87,65     1       46,6      20,34    \n",
       "2 71,2              21,09      4,42      74,49     3       15,11     5,22     \n",
       "3 78,1              3,22       0,25      96,53     1       17,14     4,61     \n",
       "4 259,5             10         15        75        2       22,46     3,27     \n",
       "5 497,2             2,22       0         97,78     3       8,71      6,25     \n",
       "6 7,8               2,41       0,24      97,35             45,11     24,2     \n",
       "  Agriculture Industry Service\n",
       "1 0,38        0,24     0,38   \n",
       "2 0,232       0,188    0,579  \n",
       "3 0,101       0,6      0,298  \n",
       "4                             \n",
       "5                             \n",
       "6 0,096       0,658    0,246  "
      ]
     },
     "metadata": {},
     "output_type": "display_data"
    }
   ],
   "source": [
    "cat(\"Country dataset: \")\n",
    "\n",
    "head(countries)\n"
   ]
  },
  {
   "cell_type": "markdown",
   "metadata": {},
   "source": [
    "## Total landings:"
   ]
  },
  {
   "cell_type": "code",
   "execution_count": 6,
   "metadata": {},
   "outputs": [
    {
     "name": "stdout",
     "output_type": "stream",
     "text": [
      "Domestic Total Landings: "
     ]
    },
    {
     "data": {
      "text/html": [
       "2112342"
      ],
      "text/latex": [
       "2112342"
      ],
      "text/markdown": [
       "2112342"
      ],
      "text/plain": [
       "[1] 2112342"
      ]
     },
     "metadata": {},
     "output_type": "display_data"
    },
    {
     "name": "stdout",
     "output_type": "stream",
     "text": [
      "International Total Landings: "
     ]
    },
    {
     "data": {
      "text/html": [
       "356457"
      ],
      "text/latex": [
       "356457"
      ],
      "text/markdown": [
       "356457"
      ],
      "text/plain": [
       "[1] 356457"
      ]
     },
     "metadata": {},
     "output_type": "display_data"
    },
    {
     "name": "stdout",
     "output_type": "stream",
     "text": [
      "Domestic Total Passenger: "
     ]
    },
    {
     "data": {
      "text/html": [
       "433645094"
      ],
      "text/latex": [
       "433645094"
      ],
      "text/markdown": [
       "433645094"
      ],
      "text/plain": [
       "[1] 433645094"
      ]
     },
     "metadata": {},
     "output_type": "display_data"
    },
    {
     "name": "stdout",
     "output_type": "stream",
     "text": [
      "International Total Passenger: "
     ]
    },
    {
     "data": {
      "text/html": [
       "130577224"
      ],
      "text/latex": [
       "130577224"
      ],
      "text/markdown": [
       "130577224"
      ],
      "text/plain": [
       "[1] 130577224"
      ]
     },
     "metadata": {},
     "output_type": "display_data"
    },
    {
     "name": "stdout",
     "output_type": "stream",
     "text": [
      "Destination: "
     ]
    },
    {
     "data": {
      "text/html": [
       "727"
      ],
      "text/latex": [
       "727"
      ],
      "text/markdown": [
       "727"
      ],
      "text/plain": [
       "[1] 727"
      ]
     },
     "metadata": {},
     "output_type": "display_data"
    },
    {
     "name": "stdout",
     "output_type": "stream",
     "text": [
      "Avg Desitnation: "
     ]
    },
    {
     "data": {
      "text/html": [
       "28.2566752799311"
      ],
      "text/latex": [
       "28.2566752799311"
      ],
      "text/markdown": [
       "28.2566752799311"
      ],
      "text/plain": [
       "[1] 28.25668"
      ]
     },
     "metadata": {},
     "output_type": "display_data"
    },
    {
     "name": "stdout",
     "output_type": "stream",
     "text": [
      "Fleet size:"
     ]
    },
    {
     "data": {
      "text/html": [
       "945"
      ],
      "text/latex": [
       "945"
      ],
      "text/markdown": [
       "945"
      ],
      "text/plain": [
       "[1] 945"
      ]
     },
     "metadata": {},
     "output_type": "display_data"
    },
    {
     "name": "stdout",
     "output_type": "stream",
     "text": [
      "Avg. Fleet size:"
     ]
    },
    {
     "data": {
      "text/html": [
       "23.1307262569832"
      ],
      "text/latex": [
       "23.1307262569832"
      ],
      "text/markdown": [
       "23.1307262569832"
      ],
      "text/plain": [
       "[1] 23.13073"
      ]
     },
     "metadata": {},
     "output_type": "display_data"
    }
   ],
   "source": [
    "#1. \n",
    "    #  Domestic Total Landings\n",
    "    landings_domestic<-landings[landings$GEO.Summary==\"Domestic\",c(\"Landing.Count\")]\n",
    "    cat(\"Domestic Total Landings: \")\n",
    "    sum(landings_domestic)\n",
    "\n",
    "    # International total landings \n",
    "    landings_int<-landings[landings$GEO.Summary==\"International\",c(\"Landing.Count\")]\n",
    "    cat(\"International Total Landings: \")\n",
    "    sum(landings_int)\n",
    "#2. \n",
    "\n",
    "    # Domestic Total Passenger\n",
    "    passenger_domestic<-passenger[passenger$GEO.Summary==\"Domestic\",c(\"Passenger.Count\")]\n",
    "    cat(\"Domestic Total Passenger: \")\n",
    "    sum(passenger_domestic)\n",
    "\n",
    "\n",
    "    # International Total Passenger\n",
    "    passenger_International<-passenger[passenger$GEO.Summary==\"International\",c(\"Passenger.Count\")]\n",
    "    cat(\"International Total Passenger: \")\n",
    "    sum(passenger_International)\n",
    "\n",
    "#3. \n",
    "    # Destination \n",
    "\n",
    "    destination<-airlines$Destinations\n",
    "    destination[destination==\"NA\"]<-\"0\"\n",
    "    destination<-as.numeric(destination) # factor to interger conversion  \n",
    "\n",
    "    cat(\"Destination: \")\n",
    "    #sum(destination)\n",
    "    head(sort(destination,decreasing=TRUE),1)\n",
    "    cat(\"Avg Desitnation: \")\n",
    "    mean(airlines$Destinations,na.rm = TRUE)\n",
    "\n",
    "#4. \n",
    "max_fleetsize<-airlines$Fleet.Size\n",
    "cat(\"Fleet size:\")\n",
    "head(sort(max_fleetsize,decreasing=TRUE),1)\n",
    "cat(\"Avg. Fleet size:\")\n",
    "mean(airlines$Fleet.Size,na.rm = TRUE)\n",
    "\n",
    "\n",
    "\n"
   ]
  },
  {
   "cell_type": "markdown",
   "metadata": {},
   "source": [
    "# 3. Joins:"
   ]
  },
  {
   "cell_type": "code",
   "execution_count": 7,
   "metadata": {},
   "outputs": [
    {
     "name": "stdout",
     "output_type": "stream",
     "text": [
      "Dataset is connected using the left merge based on Country: "
     ]
    },
    {
     "data": {
      "text/html": [
       "<table>\n",
       "<thead><tr><th scope=col>Operating.Airline</th><th scope=col>Activity.Period</th><th scope=col>Operating.Airline.IATA.Code</th><th scope=col>Published.Airline</th><th scope=col>Published.Airline.IATA.Code</th><th scope=col>GEO.Summary</th><th scope=col>GEO.Region</th><th scope=col>Landing.Aircraft.Type</th><th scope=col>Aircraft.Body.Type</th><th scope=col>Aircraft.Manufacturer</th><th scope=col>⋯</th><th scope=col>Aircraft.Version</th><th scope=col>Landing.Count</th><th scope=col>Total.Landed.Weight</th><th scope=col>ICAO</th><th scope=col>IATA</th><th scope=col>CallSign</th><th scope=col>Country</th><th scope=col>Founded</th><th scope=col>Destinations</th><th scope=col>Fleet.Size</th></tr></thead>\n",
       "<tbody>\n",
       "\t<tr><td>ABX Air      </td><td>200510       </td><td>GB           </td><td>ABX Air      </td><td>GB           </td><td>Domestic     </td><td>US           </td><td>Freighter    </td><td>Wide Body    </td><td>Boeing       </td><td>⋯            </td><td>NA           </td><td>12           </td><td> 3264000     </td><td>ABX          </td><td>GB           </td><td>A BEX        </td><td>United States</td><td>1980         </td><td>183          </td><td>31           </td></tr>\n",
       "\t<tr><td>ABX Air      </td><td>201002       </td><td>GB           </td><td>ABX Air      </td><td>GB           </td><td>Domestic     </td><td>US           </td><td>Freighter    </td><td>Wide Body    </td><td>Boeing       </td><td>⋯            </td><td>-            </td><td>58           </td><td>15886000     </td><td>ABX          </td><td>GB           </td><td>A BEX        </td><td>United States</td><td>1980         </td><td>183          </td><td>31           </td></tr>\n",
       "\t<tr><td>ABX Air      </td><td>200710       </td><td>GB           </td><td>ABX Air      </td><td>GB           </td><td>Domestic     </td><td>US           </td><td>Freighter    </td><td>Wide Body    </td><td>Boeing       </td><td>⋯            </td><td>NA           </td><td>48           </td><td>13584000     </td><td>ABX          </td><td>GB           </td><td>A BEX        </td><td>United States</td><td>1980         </td><td>183          </td><td>31           </td></tr>\n",
       "\t<tr><td>ABX Air      </td><td>201211       </td><td>GB           </td><td>ABX Air      </td><td>GB           </td><td>Domestic     </td><td>US           </td><td>Freighter    </td><td>Wide Body    </td><td>Boeing       </td><td>⋯            </td><td>-            </td><td>22           </td><td> 5984000     </td><td>ABX          </td><td>GB           </td><td>A BEX        </td><td>United States</td><td>1980         </td><td>183          </td><td>31           </td></tr>\n",
       "\t<tr><td>ABX Air      </td><td>201204       </td><td>GB           </td><td>ABX Air      </td><td>GB           </td><td>Domestic     </td><td>US           </td><td>Freighter    </td><td>Wide Body    </td><td>Boeing       </td><td>⋯            </td><td>-            </td><td>41           </td><td>11196000     </td><td>ABX          </td><td>GB           </td><td>A BEX        </td><td>United States</td><td>1980         </td><td>183          </td><td>31           </td></tr>\n",
       "</tbody>\n",
       "</table>\n"
      ],
      "text/latex": [
       "\\begin{tabular}{r|lllllllllllllllllllll}\n",
       " Operating.Airline & Activity.Period & Operating.Airline.IATA.Code & Published.Airline & Published.Airline.IATA.Code & GEO.Summary & GEO.Region & Landing.Aircraft.Type & Aircraft.Body.Type & Aircraft.Manufacturer & ⋯ & Aircraft.Version & Landing.Count & Total.Landed.Weight & ICAO & IATA & CallSign & Country & Founded & Destinations & Fleet.Size\\\\\n",
       "\\hline\n",
       "\t ABX Air       & 200510        & GB            & ABX Air       & GB            & Domestic      & US            & Freighter     & Wide Body     & Boeing        & ⋯             & NA            & 12            &  3264000      & ABX           & GB            & A BEX         & United States & 1980          & 183           & 31           \\\\\n",
       "\t ABX Air       & 201002        & GB            & ABX Air       & GB            & Domestic      & US            & Freighter     & Wide Body     & Boeing        & ⋯             & -             & 58            & 15886000      & ABX           & GB            & A BEX         & United States & 1980          & 183           & 31           \\\\\n",
       "\t ABX Air       & 200710        & GB            & ABX Air       & GB            & Domestic      & US            & Freighter     & Wide Body     & Boeing        & ⋯             & NA            & 48            & 13584000      & ABX           & GB            & A BEX         & United States & 1980          & 183           & 31           \\\\\n",
       "\t ABX Air       & 201211        & GB            & ABX Air       & GB            & Domestic      & US            & Freighter     & Wide Body     & Boeing        & ⋯             & -             & 22            &  5984000      & ABX           & GB            & A BEX         & United States & 1980          & 183           & 31           \\\\\n",
       "\t ABX Air       & 201204        & GB            & ABX Air       & GB            & Domestic      & US            & Freighter     & Wide Body     & Boeing        & ⋯             & -             & 41            & 11196000      & ABX           & GB            & A BEX         & United States & 1980          & 183           & 31           \\\\\n",
       "\\end{tabular}\n"
      ],
      "text/markdown": [
       "\n",
       "Operating.Airline | Activity.Period | Operating.Airline.IATA.Code | Published.Airline | Published.Airline.IATA.Code | GEO.Summary | GEO.Region | Landing.Aircraft.Type | Aircraft.Body.Type | Aircraft.Manufacturer | ⋯ | Aircraft.Version | Landing.Count | Total.Landed.Weight | ICAO | IATA | CallSign | Country | Founded | Destinations | Fleet.Size | \n",
       "|---|---|---|---|---|\n",
       "| ABX Air       | 200510        | GB            | ABX Air       | GB            | Domestic      | US            | Freighter     | Wide Body     | Boeing        | ⋯             | NA            | 12            |  3264000      | ABX           | GB            | A BEX         | United States | 1980          | 183           | 31            | \n",
       "| ABX Air       | 201002        | GB            | ABX Air       | GB            | Domestic      | US            | Freighter     | Wide Body     | Boeing        | ⋯             | -             | 58            | 15886000      | ABX           | GB            | A BEX         | United States | 1980          | 183           | 31            | \n",
       "| ABX Air       | 200710        | GB            | ABX Air       | GB            | Domestic      | US            | Freighter     | Wide Body     | Boeing        | ⋯             | NA            | 48            | 13584000      | ABX           | GB            | A BEX         | United States | 1980          | 183           | 31            | \n",
       "| ABX Air       | 201211        | GB            | ABX Air       | GB            | Domestic      | US            | Freighter     | Wide Body     | Boeing        | ⋯             | -             | 22            |  5984000      | ABX           | GB            | A BEX         | United States | 1980          | 183           | 31            | \n",
       "| ABX Air       | 201204        | GB            | ABX Air       | GB            | Domestic      | US            | Freighter     | Wide Body     | Boeing        | ⋯             | -             | 41            | 11196000      | ABX           | GB            | A BEX         | United States | 1980          | 183           | 31            | \n",
       "\n",
       "\n"
      ],
      "text/plain": [
       "  Operating.Airline Activity.Period Operating.Airline.IATA.Code\n",
       "1 ABX Air           200510          GB                         \n",
       "2 ABX Air           201002          GB                         \n",
       "3 ABX Air           200710          GB                         \n",
       "4 ABX Air           201211          GB                         \n",
       "5 ABX Air           201204          GB                         \n",
       "  Published.Airline Published.Airline.IATA.Code GEO.Summary GEO.Region\n",
       "1 ABX Air           GB                          Domestic    US        \n",
       "2 ABX Air           GB                          Domestic    US        \n",
       "3 ABX Air           GB                          Domestic    US        \n",
       "4 ABX Air           GB                          Domestic    US        \n",
       "5 ABX Air           GB                          Domestic    US        \n",
       "  Landing.Aircraft.Type Aircraft.Body.Type Aircraft.Manufacturer ⋯\n",
       "1 Freighter             Wide Body          Boeing                ⋯\n",
       "2 Freighter             Wide Body          Boeing                ⋯\n",
       "3 Freighter             Wide Body          Boeing                ⋯\n",
       "4 Freighter             Wide Body          Boeing                ⋯\n",
       "5 Freighter             Wide Body          Boeing                ⋯\n",
       "  Aircraft.Version Landing.Count Total.Landed.Weight ICAO IATA CallSign\n",
       "1 NA               12             3264000            ABX  GB   A BEX   \n",
       "2 -                58            15886000            ABX  GB   A BEX   \n",
       "3 NA               48            13584000            ABX  GB   A BEX   \n",
       "4 -                22             5984000            ABX  GB   A BEX   \n",
       "5 -                41            11196000            ABX  GB   A BEX   \n",
       "  Country       Founded Destinations Fleet.Size\n",
       "1 United States 1980    183          31        \n",
       "2 United States 1980    183          31        \n",
       "3 United States 1980    183          31        \n",
       "4 United States 1980    183          31        \n",
       "5 United States 1980    183          31        "
      ]
     },
     "metadata": {},
     "output_type": "display_data"
    }
   ],
   "source": [
    "#1. Left join : landings+country \n",
    "m1<-merge(landings,airlines,by.x=\"Operating.Airline\",by.y=\"Name\") # LEFT JOIN \n",
    "cat(\"Dataset is connected using the left merge based on Country: \")\n",
    "head(m1,5)"
   ]
  },
  {
   "cell_type": "code",
   "execution_count": 8,
   "metadata": {},
   "outputs": [
    {
     "data": {
      "text/html": [
       "<table>\n",
       "<thead><tr><th scope=col>Operating.Airline</th><th scope=col>Activity.Period</th><th scope=col>Operating.Airline.IATA.Code</th><th scope=col>Published.Airline</th><th scope=col>Published.Airline.IATA.Code</th><th scope=col>GEO.Summary</th><th scope=col>GEO.Region</th><th scope=col>Landing.Aircraft.Type</th><th scope=col>Aircraft.Body.Type</th><th scope=col>Aircraft.Manufacturer</th><th scope=col>Aircraft.Model</th><th scope=col>Aircraft.Version</th><th scope=col>Landing.Count</th><th scope=col>Total.Landed.Weight</th><th scope=col>Country</th></tr></thead>\n",
       "<tbody>\n",
       "\t<tr><td>ABC Aerolineas S.A. de C.V. dba Interjet</td><td>201806                                  </td><td>4O                                      </td><td>ABC Aerolineas S.A. de C.V. dba Interjet</td><td>4O                                      </td><td>International                           </td><td>Mexico                                  </td><td>Passenger                               </td><td>Narrow Body                             </td><td>Airbus                                  </td><td>A320                                    </td><td>-                                       </td><td>26                                      </td><td>3700455                                 </td><td>NA                                      </td></tr>\n",
       "\t<tr><td>ABC Aerolineas S.A. de C.V. dba Interjet</td><td>201803                                  </td><td>4O                                      </td><td>ABC Aerolineas S.A. de C.V. dba Interjet</td><td>4O                                      </td><td>International                           </td><td>Mexico                                  </td><td>Passenger                               </td><td>Narrow Body                             </td><td>Airbus                                  </td><td>A320                                    </td><td>-                                       </td><td>16                                      </td><td>2281782                                 </td><td>NA                                      </td></tr>\n",
       "\t<tr><td>ABC Aerolineas S.A. de C.V. dba Interjet</td><td>201804                                  </td><td>4O                                      </td><td>ABC Aerolineas S.A. de C.V. dba Interjet</td><td>4O                                      </td><td>International                           </td><td>Mexico                                  </td><td>Passenger                               </td><td>Narrow Body                             </td><td>Airbus                                  </td><td>A320                                    </td><td>-                                       </td><td>24                                      </td><td>3425980                                 </td><td>NA                                      </td></tr>\n",
       "\t<tr><td>ABC Aerolineas S.A. de C.V. dba Interjet</td><td>201805                                  </td><td>4O                                      </td><td>ABC Aerolineas S.A. de C.V. dba Interjet</td><td>4O                                      </td><td>International                           </td><td>Mexico                                  </td><td>Passenger                               </td><td>Narrow Body                             </td><td>Airbus                                  </td><td>A320                                    </td><td>-                                       </td><td>28                                      </td><td>3994772                                 </td><td>NA                                      </td></tr>\n",
       "\t<tr><td>ABX Air                                 </td><td>200510                                  </td><td>GB                                      </td><td>ABX Air                                 </td><td>GB                                      </td><td>Domestic                                </td><td>US                                      </td><td>Freighter                               </td><td>Wide Body                               </td><td>Boeing                                  </td><td>767                                     </td><td>NA                                      </td><td>12                                      </td><td>3264000                                 </td><td>United States                           </td></tr>\n",
       "</tbody>\n",
       "</table>\n"
      ],
      "text/latex": [
       "\\begin{tabular}{r|lllllllllllllll}\n",
       " Operating.Airline & Activity.Period & Operating.Airline.IATA.Code & Published.Airline & Published.Airline.IATA.Code & GEO.Summary & GEO.Region & Landing.Aircraft.Type & Aircraft.Body.Type & Aircraft.Manufacturer & Aircraft.Model & Aircraft.Version & Landing.Count & Total.Landed.Weight & Country\\\\\n",
       "\\hline\n",
       "\t ABC Aerolineas S.A. de C.V. dba Interjet & 201806                                   & 4O                                       & ABC Aerolineas S.A. de C.V. dba Interjet & 4O                                       & International                            & Mexico                                   & Passenger                                & Narrow Body                              & Airbus                                   & A320                                     & -                                        & 26                                       & 3700455                                  & NA                                      \\\\\n",
       "\t ABC Aerolineas S.A. de C.V. dba Interjet & 201803                                   & 4O                                       & ABC Aerolineas S.A. de C.V. dba Interjet & 4O                                       & International                            & Mexico                                   & Passenger                                & Narrow Body                              & Airbus                                   & A320                                     & -                                        & 16                                       & 2281782                                  & NA                                      \\\\\n",
       "\t ABC Aerolineas S.A. de C.V. dba Interjet & 201804                                   & 4O                                       & ABC Aerolineas S.A. de C.V. dba Interjet & 4O                                       & International                            & Mexico                                   & Passenger                                & Narrow Body                              & Airbus                                   & A320                                     & -                                        & 24                                       & 3425980                                  & NA                                      \\\\\n",
       "\t ABC Aerolineas S.A. de C.V. dba Interjet & 201805                                   & 4O                                       & ABC Aerolineas S.A. de C.V. dba Interjet & 4O                                       & International                            & Mexico                                   & Passenger                                & Narrow Body                              & Airbus                                   & A320                                     & -                                        & 28                                       & 3994772                                  & NA                                      \\\\\n",
       "\t ABX Air                                  & 200510                                   & GB                                       & ABX Air                                  & GB                                       & Domestic                                 & US                                       & Freighter                                & Wide Body                                & Boeing                                   & 767                                      & NA                                       & 12                                       & 3264000                                  & United States                           \\\\\n",
       "\\end{tabular}\n"
      ],
      "text/markdown": [
       "\n",
       "Operating.Airline | Activity.Period | Operating.Airline.IATA.Code | Published.Airline | Published.Airline.IATA.Code | GEO.Summary | GEO.Region | Landing.Aircraft.Type | Aircraft.Body.Type | Aircraft.Manufacturer | Aircraft.Model | Aircraft.Version | Landing.Count | Total.Landed.Weight | Country | \n",
       "|---|---|---|---|---|\n",
       "| ABC Aerolineas S.A. de C.V. dba Interjet | 201806                                   | 4O                                       | ABC Aerolineas S.A. de C.V. dba Interjet | 4O                                       | International                            | Mexico                                   | Passenger                                | Narrow Body                              | Airbus                                   | A320                                     | -                                        | 26                                       | 3700455                                  | NA                                       | \n",
       "| ABC Aerolineas S.A. de C.V. dba Interjet | 201803                                   | 4O                                       | ABC Aerolineas S.A. de C.V. dba Interjet | 4O                                       | International                            | Mexico                                   | Passenger                                | Narrow Body                              | Airbus                                   | A320                                     | -                                        | 16                                       | 2281782                                  | NA                                       | \n",
       "| ABC Aerolineas S.A. de C.V. dba Interjet | 201804                                   | 4O                                       | ABC Aerolineas S.A. de C.V. dba Interjet | 4O                                       | International                            | Mexico                                   | Passenger                                | Narrow Body                              | Airbus                                   | A320                                     | -                                        | 24                                       | 3425980                                  | NA                                       | \n",
       "| ABC Aerolineas S.A. de C.V. dba Interjet | 201805                                   | 4O                                       | ABC Aerolineas S.A. de C.V. dba Interjet | 4O                                       | International                            | Mexico                                   | Passenger                                | Narrow Body                              | Airbus                                   | A320                                     | -                                        | 28                                       | 3994772                                  | NA                                       | \n",
       "| ABX Air                                  | 200510                                   | GB                                       | ABX Air                                  | GB                                       | Domestic                                 | US                                       | Freighter                                | Wide Body                                | Boeing                                   | 767                                      | NA                                       | 12                                       | 3264000                                  | United States                            | \n",
       "\n",
       "\n"
      ],
      "text/plain": [
       "  Operating.Airline                        Activity.Period\n",
       "1 ABC Aerolineas S.A. de C.V. dba Interjet 201806         \n",
       "2 ABC Aerolineas S.A. de C.V. dba Interjet 201803         \n",
       "3 ABC Aerolineas S.A. de C.V. dba Interjet 201804         \n",
       "4 ABC Aerolineas S.A. de C.V. dba Interjet 201805         \n",
       "5 ABX Air                                  200510         \n",
       "  Operating.Airline.IATA.Code Published.Airline                       \n",
       "1 4O                          ABC Aerolineas S.A. de C.V. dba Interjet\n",
       "2 4O                          ABC Aerolineas S.A. de C.V. dba Interjet\n",
       "3 4O                          ABC Aerolineas S.A. de C.V. dba Interjet\n",
       "4 4O                          ABC Aerolineas S.A. de C.V. dba Interjet\n",
       "5 GB                          ABX Air                                 \n",
       "  Published.Airline.IATA.Code GEO.Summary   GEO.Region Landing.Aircraft.Type\n",
       "1 4O                          International Mexico     Passenger            \n",
       "2 4O                          International Mexico     Passenger            \n",
       "3 4O                          International Mexico     Passenger            \n",
       "4 4O                          International Mexico     Passenger            \n",
       "5 GB                          Domestic      US         Freighter            \n",
       "  Aircraft.Body.Type Aircraft.Manufacturer Aircraft.Model Aircraft.Version\n",
       "1 Narrow Body        Airbus                A320           -               \n",
       "2 Narrow Body        Airbus                A320           -               \n",
       "3 Narrow Body        Airbus                A320           -               \n",
       "4 Narrow Body        Airbus                A320           -               \n",
       "5 Wide Body          Boeing                767            NA              \n",
       "  Landing.Count Total.Landed.Weight Country      \n",
       "1 26            3700455             NA           \n",
       "2 16            2281782             NA           \n",
       "3 24            3425980             NA           \n",
       "4 28            3994772             NA           \n",
       "5 12            3264000             United States"
      ]
     },
     "metadata": {},
     "output_type": "display_data"
    }
   ],
   "source": [
    "# megre tables :landings+country \n",
    "m2<-merge(landings,airlines[,c(\"Name\",\"Country\")],by.x=\"Operating.Airline\",by.y=\"Name\",all.x=TRUE)\n",
    "head(m2,5)"
   ]
  },
  {
   "cell_type": "markdown",
   "metadata": {},
   "source": [
    "# 4. Condition in words:\n"
   ]
  },
  {
   "cell_type": "markdown",
   "metadata": {},
   "source": [
    "Elite Flights criteria:\n",
    "    1. Passenger Count:  The flight carries more passenger that needs to be treated as differently\n",
    "    2. Landing Count: The frequency of flights and airlines have to consider differently.\t \n"
   ]
  },
  {
   "cell_type": "markdown",
   "metadata": {},
   "source": [
    "# 5. Logical Segmentation: \n"
   ]
  },
  {
   "cell_type": "code",
   "execution_count": 9,
   "metadata": {},
   "outputs": [
    {
     "data": {
      "text/html": [
       "<table>\n",
       "<thead><tr><th scope=col>Operating.Airline</th><th scope=col>Activity.Period</th><th scope=col>Operating.Airline.IATA.Code</th><th scope=col>Published.Airline</th><th scope=col>Published.Airline.IATA.Code</th><th scope=col>GEO.Summary</th><th scope=col>GEO.Region</th><th scope=col>Landing.Aircraft.Type</th><th scope=col>Aircraft.Body.Type</th><th scope=col>Aircraft.Manufacturer</th><th scope=col>⋯</th><th scope=col>CallSign</th><th scope=col>Country</th><th scope=col>Founded</th><th scope=col>Destinations</th><th scope=col>Fleet.Size</th><th scope=col>Activity.Type.Code</th><th scope=col>Price.Category.Code</th><th scope=col>Terminal</th><th scope=col>Boarding.Area</th><th scope=col>Passenger.Count</th></tr></thead>\n",
       "<tbody>\n",
       "\t<tr><td>Aer Lingus   </td><td>200710       </td><td>EI           </td><td>Aer Lingus   </td><td>EI           </td><td>International</td><td>Europe       </td><td>Passenger    </td><td>Wide Body    </td><td>Airbus       </td><td>⋯            </td><td>SHAMROCK     </td><td>Ireland      </td><td>1936         </td><td>82           </td><td>48           </td><td>Enplaned     </td><td>Other        </td><td>International</td><td>A            </td><td> 612         </td></tr>\n",
       "\t<tr><td>Aer Lingus   </td><td>200710       </td><td>EI           </td><td>Aer Lingus   </td><td>EI           </td><td>International</td><td>Europe       </td><td>Passenger    </td><td>Wide Body    </td><td>Airbus       </td><td>⋯            </td><td>SHAMROCK     </td><td>Ireland      </td><td>1936         </td><td>82           </td><td>48           </td><td>Deplaned     </td><td>Other        </td><td>International</td><td>A            </td><td> 744         </td></tr>\n",
       "\t<tr><td>Aer Lingus   </td><td>200711       </td><td>EI           </td><td>Aer Lingus   </td><td>EI           </td><td>International</td><td>Europe       </td><td>Passenger    </td><td>Wide Body    </td><td>Airbus       </td><td>⋯            </td><td>SHAMROCK     </td><td>Ireland      </td><td>1936         </td><td>82           </td><td>48           </td><td>Deplaned     </td><td>Other        </td><td>International</td><td>A            </td><td>3471         </td></tr>\n",
       "\t<tr><td>Aer Lingus   </td><td>200711       </td><td>EI           </td><td>Aer Lingus   </td><td>EI           </td><td>International</td><td>Europe       </td><td>Passenger    </td><td>Wide Body    </td><td>Airbus       </td><td>⋯            </td><td>SHAMROCK     </td><td>Ireland      </td><td>1936         </td><td>82           </td><td>48           </td><td>Enplaned     </td><td>Other        </td><td>International</td><td>A            </td><td>3665         </td></tr>\n",
       "\t<tr><td>Aer Lingus   </td><td>200712       </td><td>EI           </td><td>Aer Lingus   </td><td>EI           </td><td>International</td><td>Europe       </td><td>Passenger    </td><td>Wide Body    </td><td>Airbus       </td><td>⋯            </td><td>SHAMROCK     </td><td>Ireland      </td><td>1936         </td><td>82           </td><td>48           </td><td>Deplaned     </td><td>Other        </td><td>International</td><td>A            </td><td>2959         </td></tr>\n",
       "</tbody>\n",
       "</table>\n"
      ],
      "text/latex": [
       "\\begin{tabular}{r|llllllllllllllllllllllllll}\n",
       " Operating.Airline & Activity.Period & Operating.Airline.IATA.Code & Published.Airline & Published.Airline.IATA.Code & GEO.Summary & GEO.Region & Landing.Aircraft.Type & Aircraft.Body.Type & Aircraft.Manufacturer & ⋯ & CallSign & Country & Founded & Destinations & Fleet.Size & Activity.Type.Code & Price.Category.Code & Terminal & Boarding.Area & Passenger.Count\\\\\n",
       "\\hline\n",
       "\t Aer Lingus    & 200710        & EI            & Aer Lingus    & EI            & International & Europe        & Passenger     & Wide Body     & Airbus        & ⋯             & SHAMROCK      & Ireland       & 1936          & 82            & 48            & Enplaned      & Other         & International & A             &  612         \\\\\n",
       "\t Aer Lingus    & 200710        & EI            & Aer Lingus    & EI            & International & Europe        & Passenger     & Wide Body     & Airbus        & ⋯             & SHAMROCK      & Ireland       & 1936          & 82            & 48            & Deplaned      & Other         & International & A             &  744         \\\\\n",
       "\t Aer Lingus    & 200711        & EI            & Aer Lingus    & EI            & International & Europe        & Passenger     & Wide Body     & Airbus        & ⋯             & SHAMROCK      & Ireland       & 1936          & 82            & 48            & Deplaned      & Other         & International & A             & 3471         \\\\\n",
       "\t Aer Lingus    & 200711        & EI            & Aer Lingus    & EI            & International & Europe        & Passenger     & Wide Body     & Airbus        & ⋯             & SHAMROCK      & Ireland       & 1936          & 82            & 48            & Enplaned      & Other         & International & A             & 3665         \\\\\n",
       "\t Aer Lingus    & 200712        & EI            & Aer Lingus    & EI            & International & Europe        & Passenger     & Wide Body     & Airbus        & ⋯             & SHAMROCK      & Ireland       & 1936          & 82            & 48            & Deplaned      & Other         & International & A             & 2959         \\\\\n",
       "\\end{tabular}\n"
      ],
      "text/markdown": [
       "\n",
       "Operating.Airline | Activity.Period | Operating.Airline.IATA.Code | Published.Airline | Published.Airline.IATA.Code | GEO.Summary | GEO.Region | Landing.Aircraft.Type | Aircraft.Body.Type | Aircraft.Manufacturer | ⋯ | CallSign | Country | Founded | Destinations | Fleet.Size | Activity.Type.Code | Price.Category.Code | Terminal | Boarding.Area | Passenger.Count | \n",
       "|---|---|---|---|---|\n",
       "| Aer Lingus    | 200710        | EI            | Aer Lingus    | EI            | International | Europe        | Passenger     | Wide Body     | Airbus        | ⋯             | SHAMROCK      | Ireland       | 1936          | 82            | 48            | Enplaned      | Other         | International | A             |  612          | \n",
       "| Aer Lingus    | 200710        | EI            | Aer Lingus    | EI            | International | Europe        | Passenger     | Wide Body     | Airbus        | ⋯             | SHAMROCK      | Ireland       | 1936          | 82            | 48            | Deplaned      | Other         | International | A             |  744          | \n",
       "| Aer Lingus    | 200711        | EI            | Aer Lingus    | EI            | International | Europe        | Passenger     | Wide Body     | Airbus        | ⋯             | SHAMROCK      | Ireland       | 1936          | 82            | 48            | Deplaned      | Other         | International | A             | 3471          | \n",
       "| Aer Lingus    | 200711        | EI            | Aer Lingus    | EI            | International | Europe        | Passenger     | Wide Body     | Airbus        | ⋯             | SHAMROCK      | Ireland       | 1936          | 82            | 48            | Enplaned      | Other         | International | A             | 3665          | \n",
       "| Aer Lingus    | 200712        | EI            | Aer Lingus    | EI            | International | Europe        | Passenger     | Wide Body     | Airbus        | ⋯             | SHAMROCK      | Ireland       | 1936          | 82            | 48            | Deplaned      | Other         | International | A             | 2959          | \n",
       "\n",
       "\n"
      ],
      "text/plain": [
       "  Operating.Airline Activity.Period Operating.Airline.IATA.Code\n",
       "1 Aer Lingus        200710          EI                         \n",
       "2 Aer Lingus        200710          EI                         \n",
       "3 Aer Lingus        200711          EI                         \n",
       "4 Aer Lingus        200711          EI                         \n",
       "5 Aer Lingus        200712          EI                         \n",
       "  Published.Airline Published.Airline.IATA.Code GEO.Summary   GEO.Region\n",
       "1 Aer Lingus        EI                          International Europe    \n",
       "2 Aer Lingus        EI                          International Europe    \n",
       "3 Aer Lingus        EI                          International Europe    \n",
       "4 Aer Lingus        EI                          International Europe    \n",
       "5 Aer Lingus        EI                          International Europe    \n",
       "  Landing.Aircraft.Type Aircraft.Body.Type Aircraft.Manufacturer ⋯ CallSign\n",
       "1 Passenger             Wide Body          Airbus                ⋯ SHAMROCK\n",
       "2 Passenger             Wide Body          Airbus                ⋯ SHAMROCK\n",
       "3 Passenger             Wide Body          Airbus                ⋯ SHAMROCK\n",
       "4 Passenger             Wide Body          Airbus                ⋯ SHAMROCK\n",
       "5 Passenger             Wide Body          Airbus                ⋯ SHAMROCK\n",
       "  Country Founded Destinations Fleet.Size Activity.Type.Code\n",
       "1 Ireland 1936    82           48         Enplaned          \n",
       "2 Ireland 1936    82           48         Deplaned          \n",
       "3 Ireland 1936    82           48         Deplaned          \n",
       "4 Ireland 1936    82           48         Enplaned          \n",
       "5 Ireland 1936    82           48         Deplaned          \n",
       "  Price.Category.Code Terminal      Boarding.Area Passenger.Count\n",
       "1 Other               International A              612           \n",
       "2 Other               International A              744           \n",
       "3 Other               International A             3471           \n",
       "4 Other               International A             3665           \n",
       "5 Other               International A             2959           "
      ]
     },
     "metadata": {},
     "output_type": "display_data"
    },
    {
     "data": {
      "text/html": [
       "<ol class=list-inline>\n",
       "\t<li>'Operating.Airline'</li>\n",
       "\t<li>'Activity.Period'</li>\n",
       "\t<li>'Operating.Airline.IATA.Code'</li>\n",
       "\t<li>'Published.Airline'</li>\n",
       "\t<li>'Published.Airline.IATA.Code'</li>\n",
       "\t<li>'GEO.Summary'</li>\n",
       "\t<li>'GEO.Region'</li>\n",
       "\t<li>'Landing.Aircraft.Type'</li>\n",
       "\t<li>'Aircraft.Body.Type'</li>\n",
       "\t<li>'Aircraft.Manufacturer'</li>\n",
       "\t<li>'Aircraft.Model'</li>\n",
       "\t<li>'Aircraft.Version'</li>\n",
       "\t<li>'Landing.Count'</li>\n",
       "\t<li>'Total.Landed.Weight'</li>\n",
       "\t<li>'ICAO'</li>\n",
       "\t<li>'IATA'</li>\n",
       "\t<li>'CallSign'</li>\n",
       "\t<li>'Country'</li>\n",
       "\t<li>'Founded'</li>\n",
       "\t<li>'Destinations'</li>\n",
       "\t<li>'Fleet.Size'</li>\n",
       "\t<li>'Activity.Type.Code'</li>\n",
       "\t<li>'Price.Category.Code'</li>\n",
       "\t<li>'Terminal'</li>\n",
       "\t<li>'Boarding.Area'</li>\n",
       "\t<li>'Passenger.Count'</li>\n",
       "</ol>\n"
      ],
      "text/latex": [
       "\\begin{enumerate*}\n",
       "\\item 'Operating.Airline'\n",
       "\\item 'Activity.Period'\n",
       "\\item 'Operating.Airline.IATA.Code'\n",
       "\\item 'Published.Airline'\n",
       "\\item 'Published.Airline.IATA.Code'\n",
       "\\item 'GEO.Summary'\n",
       "\\item 'GEO.Region'\n",
       "\\item 'Landing.Aircraft.Type'\n",
       "\\item 'Aircraft.Body.Type'\n",
       "\\item 'Aircraft.Manufacturer'\n",
       "\\item 'Aircraft.Model'\n",
       "\\item 'Aircraft.Version'\n",
       "\\item 'Landing.Count'\n",
       "\\item 'Total.Landed.Weight'\n",
       "\\item 'ICAO'\n",
       "\\item 'IATA'\n",
       "\\item 'CallSign'\n",
       "\\item 'Country'\n",
       "\\item 'Founded'\n",
       "\\item 'Destinations'\n",
       "\\item 'Fleet.Size'\n",
       "\\item 'Activity.Type.Code'\n",
       "\\item 'Price.Category.Code'\n",
       "\\item 'Terminal'\n",
       "\\item 'Boarding.Area'\n",
       "\\item 'Passenger.Count'\n",
       "\\end{enumerate*}\n"
      ],
      "text/markdown": [
       "1. 'Operating.Airline'\n",
       "2. 'Activity.Period'\n",
       "3. 'Operating.Airline.IATA.Code'\n",
       "4. 'Published.Airline'\n",
       "5. 'Published.Airline.IATA.Code'\n",
       "6. 'GEO.Summary'\n",
       "7. 'GEO.Region'\n",
       "8. 'Landing.Aircraft.Type'\n",
       "9. 'Aircraft.Body.Type'\n",
       "10. 'Aircraft.Manufacturer'\n",
       "11. 'Aircraft.Model'\n",
       "12. 'Aircraft.Version'\n",
       "13. 'Landing.Count'\n",
       "14. 'Total.Landed.Weight'\n",
       "15. 'ICAO'\n",
       "16. 'IATA'\n",
       "17. 'CallSign'\n",
       "18. 'Country'\n",
       "19. 'Founded'\n",
       "20. 'Destinations'\n",
       "21. 'Fleet.Size'\n",
       "22. 'Activity.Type.Code'\n",
       "23. 'Price.Category.Code'\n",
       "24. 'Terminal'\n",
       "25. 'Boarding.Area'\n",
       "26. 'Passenger.Count'\n",
       "\n",
       "\n"
      ],
      "text/plain": [
       " [1] \"Operating.Airline\"           \"Activity.Period\"            \n",
       " [3] \"Operating.Airline.IATA.Code\" \"Published.Airline\"          \n",
       " [5] \"Published.Airline.IATA.Code\" \"GEO.Summary\"                \n",
       " [7] \"GEO.Region\"                  \"Landing.Aircraft.Type\"      \n",
       " [9] \"Aircraft.Body.Type\"          \"Aircraft.Manufacturer\"      \n",
       "[11] \"Aircraft.Model\"              \"Aircraft.Version\"           \n",
       "[13] \"Landing.Count\"               \"Total.Landed.Weight\"        \n",
       "[15] \"ICAO\"                        \"IATA\"                       \n",
       "[17] \"CallSign\"                    \"Country\"                    \n",
       "[19] \"Founded\"                     \"Destinations\"               \n",
       "[21] \"Fleet.Size\"                  \"Activity.Type.Code\"         \n",
       "[23] \"Price.Category.Code\"         \"Terminal\"                   \n",
       "[25] \"Boarding.Area\"               \"Passenger.Count\"            "
      ]
     },
     "metadata": {},
     "output_type": "display_data"
    }
   ],
   "source": [
    "m3<-merge(m1,passenger) # merge three tables except country dataset\n",
    "head(m3,5)\n",
    "names(m3)"
   ]
  },
  {
   "cell_type": "markdown",
   "metadata": {},
   "source": [
    "Based on Passenger and landings, we need to validate our findings. One idea is based on those two parameters, we can calculate the terminal where most of the aircraft landed, which boarding area the passengers use, which types of aircraft landed on those terminals, is it domestic or international flights?"
   ]
  },
  {
   "cell_type": "code",
   "execution_count": 10,
   "metadata": {
    "scrolled": true
   },
   "outputs": [
    {
     "data": {
      "text/html": [
       "<table>\n",
       "<thead><tr><th></th><th scope=col>Operating.Airline</th><th scope=col>GEO.Region</th><th scope=col>GEO.Summary</th><th scope=col>Landing.Aircraft.Type</th><th scope=col>Aircraft.Manufacturer</th><th scope=col>Aircraft.Model</th><th scope=col>Fleet.Size</th><th scope=col>Terminal</th><th scope=col>Boarding.Area</th><th scope=col>Passenger.Count</th></tr></thead>\n",
       "<tbody>\n",
       "\t<tr><th scope=row>2353</th><td>Air Canada   </td><td>Canada       </td><td>International</td><td>Passenger    </td><td>Airbus       </td><td>A320         </td><td>176          </td><td>International</td><td>G            </td><td>61749        </td></tr>\n",
       "\t<tr><th scope=row>2354</th><td>Air Canada   </td><td>Canada       </td><td>International</td><td>Passenger    </td><td>Airbus       </td><td>A320         </td><td>176          </td><td>International</td><td>G            </td><td>61646        </td></tr>\n",
       "\t<tr><th scope=row>2355</th><td>Air Canada   </td><td>Canada       </td><td>International</td><td>Passenger    </td><td>Boeing       </td><td>B763         </td><td>176          </td><td>International</td><td>G            </td><td>61749        </td></tr>\n",
       "\t<tr><th scope=row>2356</th><td>Air Canada   </td><td>Canada       </td><td>International</td><td>Passenger    </td><td>Boeing       </td><td>B763         </td><td>176          </td><td>International</td><td>G            </td><td>61646        </td></tr>\n",
       "\t<tr><th scope=row>2357</th><td>Air Canada   </td><td>Canada       </td><td>International</td><td>Passenger    </td><td>Airbus       </td><td>A319         </td><td>176          </td><td>International</td><td>G            </td><td>61749        </td></tr>\n",
       "</tbody>\n",
       "</table>\n"
      ],
      "text/latex": [
       "\\begin{tabular}{r|llllllllll}\n",
       "  & Operating.Airline & GEO.Region & GEO.Summary & Landing.Aircraft.Type & Aircraft.Manufacturer & Aircraft.Model & Fleet.Size & Terminal & Boarding.Area & Passenger.Count\\\\\n",
       "\\hline\n",
       "\t2353 & Air Canada    & Canada        & International & Passenger     & Airbus        & A320          & 176           & International & G             & 61749        \\\\\n",
       "\t2354 & Air Canada    & Canada        & International & Passenger     & Airbus        & A320          & 176           & International & G             & 61646        \\\\\n",
       "\t2355 & Air Canada    & Canada        & International & Passenger     & Boeing        & B763          & 176           & International & G             & 61749        \\\\\n",
       "\t2356 & Air Canada    & Canada        & International & Passenger     & Boeing        & B763          & 176           & International & G             & 61646        \\\\\n",
       "\t2357 & Air Canada    & Canada        & International & Passenger     & Airbus        & A319          & 176           & International & G             & 61749        \\\\\n",
       "\\end{tabular}\n"
      ],
      "text/markdown": [
       "\n",
       "| <!--/--> | Operating.Airline | GEO.Region | GEO.Summary | Landing.Aircraft.Type | Aircraft.Manufacturer | Aircraft.Model | Fleet.Size | Terminal | Boarding.Area | Passenger.Count | \n",
       "|---|---|---|---|---|\n",
       "| 2353 | Air Canada    | Canada        | International | Passenger     | Airbus        | A320          | 176           | International | G             | 61749         | \n",
       "| 2354 | Air Canada    | Canada        | International | Passenger     | Airbus        | A320          | 176           | International | G             | 61646         | \n",
       "| 2355 | Air Canada    | Canada        | International | Passenger     | Boeing        | B763          | 176           | International | G             | 61749         | \n",
       "| 2356 | Air Canada    | Canada        | International | Passenger     | Boeing        | B763          | 176           | International | G             | 61646         | \n",
       "| 2357 | Air Canada    | Canada        | International | Passenger     | Airbus        | A319          | 176           | International | G             | 61749         | \n",
       "\n",
       "\n"
      ],
      "text/plain": [
       "     Operating.Airline GEO.Region GEO.Summary   Landing.Aircraft.Type\n",
       "2353 Air Canada        Canada     International Passenger            \n",
       "2354 Air Canada        Canada     International Passenger            \n",
       "2355 Air Canada        Canada     International Passenger            \n",
       "2356 Air Canada        Canada     International Passenger            \n",
       "2357 Air Canada        Canada     International Passenger            \n",
       "     Aircraft.Manufacturer Aircraft.Model Fleet.Size Terminal     \n",
       "2353 Airbus                A320           176        International\n",
       "2354 Airbus                A320           176        International\n",
       "2355 Boeing                B763           176        International\n",
       "2356 Boeing                B763           176        International\n",
       "2357 Airbus                A319           176        International\n",
       "     Boarding.Area Passenger.Count\n",
       "2353 G             61749          \n",
       "2354 G             61646          \n",
       "2355 G             61749          \n",
       "2356 G             61646          \n",
       "2357 G             61749          "
      ]
     },
     "metadata": {},
     "output_type": "display_data"
    },
    {
     "name": "stdout",
     "output_type": "stream",
     "text": [
      "Max landing number by specific airlines:"
     ]
    },
    {
     "data": {
      "text/html": [
       "2245"
      ],
      "text/latex": [
       "2245"
      ],
      "text/markdown": [
       "2245"
      ],
      "text/plain": [
       "[1] 2245"
      ]
     },
     "metadata": {},
     "output_type": "display_data"
    },
    {
     "name": "stdout",
     "output_type": "stream",
     "text": [
      "\n",
      "Max Passengers carried by specific airlines:"
     ]
    },
    {
     "data": {
      "text/html": [
       "659837"
      ],
      "text/latex": [
       "659837"
      ],
      "text/markdown": [
       "659837"
      ],
      "text/plain": [
       "[1] 659837"
      ]
     },
     "metadata": {},
     "output_type": "display_data"
    }
   ],
   "source": [
    " \n",
    "passenger_max<-(max(m3$Passenger.Count, na.rm = FALSE)) # max passenger by specific airline\n",
    "landing_max<-(max(m3$Landing.Count, na.rm = FALSE)) # max landing by specific airline\n",
    "\n",
    "airlines<-m3[m3$Passenger.Count>60000 | m3$Landing.Count>2200,c(\"Operating.Airline\",\"GEO.Region\",\"GEO.Summary\",\"Landing.Aircraft.Type\",\"Aircraft.Manufacturer\",\"Aircraft.Model\",\"Fleet.Size\",\"Terminal\",\"Boarding.Area\",\"Passenger.Count\")]\n",
    "head(airlines,5)\n",
    "\n",
    "cat(\"Max landing number by specific airlines:\")\n",
    "landing_max\n",
    "cat(\"\\nMax Passengers carried by specific airlines:\")\n",
    "\n",
    "passenger_max"
   ]
  },
  {
   "cell_type": "markdown",
   "metadata": {},
   "source": [
    "# 6. Function:\n"
   ]
  },
  {
   "cell_type": "markdown",
   "metadata": {},
   "source": [
    "The function is the implementation of step 4 using for loop to determine the popular airlines based on Passenger number grater than 60,000 and the number of landing count greater than 2200. "
   ]
  },
  {
   "cell_type": "code",
   "execution_count": 11,
   "metadata": {},
   "outputs": [],
   "source": [
    "# create function : \n",
    "myfunction<- function(){\n",
    "\n",
    "for (row in 1:(nrow(m3))){\n",
    "    if ((m3[row,c(\"Passenger.Count\")]>60000) | (m3[row,c(\"Landing.Count\")]>2200)) \n",
    "    {\n",
    "    f<-m3[row,c(\"Operating.Airline\",\"Fleet.Size\",\"Terminal\",\"Boarding.Area\",\"Passenger.Count\")]\n",
    "     #print(data1)       \n",
    "    }\n",
    "        \n",
    "        \n",
    "}\n",
    "    return (f)\n",
    "}\n",
    " \n",
    "\n",
    "f1=myfunction()  # function call \n"
   ]
  },
  {
   "cell_type": "code",
   "execution_count": 12,
   "metadata": {},
   "outputs": [
    {
     "data": {
      "text/html": [
       "<table>\n",
       "<thead><tr><th></th><th scope=col>Operating.Airline</th><th scope=col>Fleet.Size</th><th scope=col>Terminal</th><th scope=col>Boarding.Area</th><th scope=col>Passenger.Count</th></tr></thead>\n",
       "<tbody>\n",
       "\t<tr><th scope=row>37100</th><td>Virgin America</td><td>55            </td><td>Terminal 2    </td><td>D             </td><td>198570        </td></tr>\n",
       "</tbody>\n",
       "</table>\n"
      ],
      "text/latex": [
       "\\begin{tabular}{r|lllll}\n",
       "  & Operating.Airline & Fleet.Size & Terminal & Boarding.Area & Passenger.Count\\\\\n",
       "\\hline\n",
       "\t37100 & Virgin America & 55             & Terminal 2     & D              & 198570        \\\\\n",
       "\\end{tabular}\n"
      ],
      "text/markdown": [
       "\n",
       "| <!--/--> | Operating.Airline | Fleet.Size | Terminal | Boarding.Area | Passenger.Count | \n",
       "|---|\n",
       "| 37100 | Virgin America | 55             | Terminal 2     | D              | 198570         | \n",
       "\n",
       "\n"
      ],
      "text/plain": [
       "      Operating.Airline Fleet.Size Terminal   Boarding.Area Passenger.Count\n",
       "37100 Virgin America    55         Terminal 2 D             198570         "
      ]
     },
     "metadata": {},
     "output_type": "display_data"
    }
   ],
   "source": [
    "head(f1)    \n"
   ]
  },
  {
   "cell_type": "markdown",
   "metadata": {},
   "source": [
    "# 7. Plots:\n"
   ]
  },
  {
   "cell_type": "code",
   "execution_count": 13,
   "metadata": {},
   "outputs": [
    {
     "data": {
      "image/png": "[encoded data removed]",
      "text/plain": [
       "Plot with title “Passengers by Terminal”"
      ]
     },
     "metadata": {},
     "output_type": "display_data"
    }
   ],
   "source": [
    "# Total percentage of passenger uses Domestic terminal and International terminal\n",
    "\n",
    "Passenger_dom<-sum(airlines[airlines$Terminal==\"Terminal 2\",c(\"Passenger.Count\")])\n",
    "Passenger_int<-sum(airlines[airlines$Terminal==\"International\",c(\"Passenger.Count\")])\n",
    "\n",
    "#airlines$Passenger.Count\n",
    "\n",
    "x<-c(Passenger_dom,Passenger_int)\n",
    "piepercent<- round(100*x/sum(x), 1)\n",
    "\n",
    "pie(x, labels = piepercent, main = \"Passengers by Terminal\",col = rainbow(length(x)))\n",
    "legend(\"topright\", c(\"Domestic Passengers\",\"International Passengers\"), cex = 0.8,\n",
    "   fill = rainbow(length(x)))\n"
   ]
  },
  {
   "cell_type": "code",
   "execution_count": 14,
   "metadata": {},
   "outputs": [
    {
     "data": {
      "image/png": "[encoded data removed]",
      "text/plain": [
       "Plot with title “Passengers uses Boarding Area”"
      ]
     },
     "metadata": {},
     "output_type": "display_data"
    }
   ],
   "source": [
    "# Boarding Area \n",
    "\n",
    "boarding_area_A<- sum(airlines[airlines$Boarding.Area==\"A\",c(\"Passenger.Count\")])\n",
    "boarding_area_D<- sum(airlines[airlines$Boarding.Area==\"D\",c(\"Passenger.Count\")])\n",
    "boarding_area_G<- sum(airlines[airlines$Boarding.Area==\"G\",c(\"Passenger.Count\")])\n",
    "\n",
    "\n",
    "\n",
    "v<-c(boarding_area_A,boarding_area_D,boarding_area_G)\n",
    "v<-v/1000000\n",
    "M <- c(\"A\",\"D\",\"G\")\n",
    "barplot(v,names.arg=M,ylim = c(0,300),xlab=\"Boarding Area\",ylab=\"Passengers [Million]\",\n",
    "main=\"Passengers uses Boarding Area\")"
   ]
  },
  {
   "cell_type": "code",
   "execution_count": 15,
   "metadata": {},
   "outputs": [
    {
     "data": {
      "image/png": "[encoded data removed]",
      "text/plain": [
       "Plot with title “Histogram for Fleet size”"
      ]
     },
     "metadata": {},
     "output_type": "display_data"
    }
   ],
   "source": [
    "hist(airlines$Fleet.Size, \n",
    "     main=\"Histogram for Fleet size\", \n",
    "     xlab=\"Fleet size \", \n",
    "     border=\"blue\", \n",
    "     col=\"green\",\n",
    "     xlim=c(0,450),\n",
    "     ylim=c(0,2000),\n",
    "     las=1, \n",
    "     breaks=5)"
   ]
  },
  {
   "cell_type": "code",
   "execution_count": 16,
   "metadata": {},
   "outputs": [
    {
     "data": {
      "image/png": "[encoded data removed]",
      "text/plain": [
       "Plot with title “Passengers based on Airlines fleet size”"
      ]
     },
     "metadata": {},
     "output_type": "display_data"
    }
   ],
   "source": [
    "# fleet size 200 to 400 airlines usese terminal \n",
    "boarding_area_A1<-sum(airlines[airlines$Fleet.Size>199 & airlines$Boarding.Area==\"A\" ,c(\"Passenger.Count\")])\n",
    "\n",
    "boarding_area_D1<-sum(airlines[airlines$Fleet.Size>199 & airlines$Boarding.Area==\"D\" ,c(\"Passenger.Count\")])\n",
    "boarding_area_G1<-sum(airlines[airlines$Fleet.Size>199 & airlines$Boarding.Area==\"G\" ,c(\"Passenger.Count\")])\n",
    "\n",
    "y1<-c(boarding_area_D1/1000000,boarding_area_G1/1000000)\n",
    "barplot(y1, main=\"Passengers based on Airlines fleet size\", horiz=TRUE, xlim = c(0,130),xlab=\"Passengers [Million] \",ylab=\"Boarding Area\",\n",
    "  names.arg=c(\"D\", \"G\"))"
   ]
  },
  {
   "cell_type": "markdown",
   "metadata": {},
   "source": [
    "# 8. Summery:\n",
    "<p style='text-align: justify;'>\n",
    "\n",
    "</p>\n",
    "<p style='text-align: justify;'>\n",
    " </p>\n",
    "<p style='text-align: justify;'>\n",
    "</p>    "
   ]
  },
  {
   "cell_type": "markdown",
   "metadata": {},
   "source": [
    "<p style='text-align: justify;'>\n",
    "The datasets provide a good insight into SFO passengers, airlines landings, airlines, and country. The dataset is reliable. Therefore, the chance to get the most optimal solution for small projects is moderate. The dataset has been segmented using country, passengers, fleet size, terminal, and boarding area. Together with all characteristics, it is possible to make a suggestion regarding SFO expansion necessities.\n",
    "</p>\n",
    "\n",
    "\n",
    "<p style='text-align: justify;'>\n",
    "The popular airlines based on passengers number are United Airlines - Pre 07/01/2013, US Airways,Delta Air Lines, Alaska airlines, and Air Canada etc. In according to the pie plot, the percentages of domestic passengers use the Terminal 2 and International passengers as follow as 73.3% and 26.5%.  \n",
    " \n",
    "</p>\n",
    "<p style='text-align: justify;'>\n",
    "Almost more that 150 million passengers use the boarding area D. The other boarding are A and G are used by nearly 30 million and 45 million passengers. \n",
    "    \n",
    "</p> \n",
    "<p style='text-align: justify;'>\n",
    "The histrogram represents the airlines fleet size frequency. The fleet size range 200 to 400 has the highest frequency. The highest fleet size occupies the maximum spaces of SFO. We have esimated the maximum fleet size airlines that passengers to the different boarding area. If we know that the maximum used boarding area by passengers , we can assume the mentioned boarding area requires expansion.    \n",
    "    \n",
    "</p> \n"
   ]
  },
  {
   "cell_type": "markdown",
   "metadata": {},
   "source": [
    "# 9. Recommendations: \n",
    "<p style='text-align: justify;'>\n",
    "\n",
    "</p>  "
   ]
  },
  {
   "cell_type": "markdown",
   "metadata": {},
   "source": [
    "<p style='text-align: justify;'>\n",
    "   \n",
    "These are the following recommendation where SFO needs expansion:<br>\n",
    "1. The Domestic terminal (Terminal 2) needs expansion because it carries most of the domestic passengers.  <br>\n",
    "2. The international terminal which arries almost 26.5% passengers.<br>\n",
    "3. The boarding area D that is used by more than 150 million passengers.<br>\n",
    "\n",
    "\n",
    "</p> "
   ]
  }
 ],
 "metadata": {
  "kernelspec": {
   "display_name": "R",
   "language": "R",
   "name": "ir"
  },
  "language_info": {
   "codemirror_mode": "r",
   "file_extension": ".r",
   "mimetype": "text/x-r-source",
   "name": "R",
   "pygments_lexer": "r",
   "version": "3.5.1"
  }
 },
 "nbformat": 4,
 "nbformat_minor": 2
}
