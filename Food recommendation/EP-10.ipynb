{
 "cells": [
  {
   "cell_type": "markdown",
   "metadata": {},
   "source": [
    "Name:\n",
    "Syeduzzaman Khan\n",
    "\n",
    "Project Name: Food lover's classification  \n",
    "\n",
    "# 1. Objectives:\n",
    "\n",
    "<p style='text-align: justify;'>\n",
    "University of the Pacific cafeteria has bought several new foods with their existing tasty foods. To introduce new foods with students, UOP needs an automation process to distribute the Coupons campaign to students with coupons that are likely to encourage them to come.\n",
    "\n",
    "</p>\n",
    "<p style='text-align: justify;'>\n",
    "The purpose of this project is to analyze the student questionnaire dataset and help UOP to create a recommendation engine for email coupon campaigns.\n",
    "\n",
    "</p>\n",
    "\n",
    "<p style='text-align: justify;'>\n",
    "\n",
    "To achieve our goals, we have to carefully analyze the dataset considering different perspectives. In the beginning of the project, we will get too familiar with dataset and look into different columns. Then, we will pick the relevant columns that will lead us to reach our goals. The obtained results will be visualized using plot.\n",
    "</p>\n"
   ]
  },
  {
   "cell_type": "markdown",
   "metadata": {},
   "source": [
    "# 2. Data Exploration: "
   ]
  },
  {
   "cell_type": "markdown",
   "metadata": {},
   "source": [
    "Read dataset"
   ]
  },
  {
   "cell_type": "code",
   "execution_count": 33,
   "metadata": {},
   "outputs": [],
   "source": [
    "# import Library \n",
    "import matplotlib.pyplot as plt\n",
    "from matplotlib.colors import ListedColormap\n",
    "from sklearn import datasets\n",
    "from sklearn.cluster import KMeans\n",
    "import sklearn.metrics as sm\n",
    "from scipy.cluster.hierarchy import linkage, dendrogram\n",
    " \n",
    "import pandas as pd\n",
    "import numpy as np\n",
    "\n",
    "# Set some pandas options\n",
    "pd.set_option('display.notebook_repr_html', False)\n",
    "pd.set_option('display.max_rows', 60)\n",
    "pd.set_option('display.max_columns', 60)\n",
    "pd.set_option('display.width', 1000)\n",
    " \n",
    "%matplotlib inline\n"
   ]
  },
  {
   "cell_type": "code",
   "execution_count": 34,
   "metadata": {},
   "outputs": [],
   "source": [
    "# read csv file \n",
    "df = pd.read_csv(\"food_coded.csv\")\n",
    "\n",
    "# data cleaning : drop the NA rows \n",
    "df=df.dropna()\n"
   ]
  },
  {
   "cell_type": "markdown",
   "metadata": {},
   "source": [
    "### Dataframe Type, Dataframe Row & Column:   "
   ]
  },
  {
   "cell_type": "code",
   "execution_count": 35,
   "metadata": {},
   "outputs": [
    {
     "data": {
      "text/plain": [
       "pandas.core.frame.DataFrame"
      ]
     },
     "execution_count": 35,
     "metadata": {},
     "output_type": "execute_result"
    }
   ],
   "source": [
    "type(df)"
   ]
  },
  {
   "cell_type": "code",
   "execution_count": 36,
   "metadata": {},
   "outputs": [
    {
     "name": "stdout",
     "output_type": "stream",
     "text": [
      "Row:  52\n"
     ]
    }
   ],
   "source": [
    "print(\"Row: \",df.shape[0])"
   ]
  },
  {
   "cell_type": "code",
   "execution_count": 37,
   "metadata": {},
   "outputs": [
    {
     "name": "stdout",
     "output_type": "stream",
     "text": [
      "Column:  61\n"
     ]
    }
   ],
   "source": [
    "print(\"Column: \",df.shape[1])"
   ]
  },
  {
   "cell_type": "markdown",
   "metadata": {},
   "source": [
    "The dataset has total 52 rows and 61 columns.  "
   ]
  },
  {
   "cell_type": "markdown",
   "metadata": {},
   "source": [
    "### Counting Gender of students: \n"
   ]
  },
  {
   "cell_type": "code",
   "execution_count": 38,
   "metadata": {},
   "outputs": [
    {
     "name": "stdout",
     "output_type": "stream",
     "text": [
      "1    31\n",
      "2    21\n",
      "Name: Gender, dtype: int64\n"
     ]
    }
   ],
   "source": [
    "#1 Gender count \n",
    "gend = df['Gender'].value_counts()\n",
    "print(gend)"
   ]
  },
  {
   "cell_type": "markdown",
   "metadata": {},
   "source": [
    "The dataset has total 31 Male and 21 female students.  "
   ]
  },
  {
   "cell_type": "code",
   "execution_count": 39,
   "metadata": {},
   "outputs": [
    {
     "data": {
      "text/plain": [
       "count     52.000000\n",
       "mean     154.903846\n",
       "std       43.003082\n",
       "min        0.000000\n",
       "25%      136.500000\n",
       "50%      155.000000\n",
       "75%      181.250000\n",
       "max      264.000000\n",
       "Name: weight, dtype: float64"
      ]
     },
     "execution_count": 39,
     "metadata": {},
     "output_type": "execute_result"
    }
   ],
   "source": [
    "#2 student weight \n",
    "weight=df.weight # create pandas series from dataframe \n",
    "weight.describe() # print different aspects of data "
   ]
  },
  {
   "cell_type": "code",
   "execution_count": 40,
   "metadata": {},
   "outputs": [
    {
     "data": {
      "text/plain": [
       "count    52.000000\n",
       "mean      4.076923\n",
       "std       1.006764\n",
       "min       1.000000\n",
       "25%       4.000000\n",
       "50%       4.000000\n",
       "75%       5.000000\n",
       "max       5.000000\n",
       "Name: veggies_day, dtype: float64"
      ]
     },
     "execution_count": 40,
     "metadata": {},
     "output_type": "execute_result"
    }
   ],
   "source": [
    "#3 student recommendation on veggie  \n",
    "veggies_day=df.veggies_day # create pandas series from dataframe \n",
    "veggies_day.describe() # print different aspects of data "
   ]
  },
  {
   "cell_type": "code",
   "execution_count": 41,
   "metadata": {},
   "outputs": [
    {
     "data": {
      "text/plain": [
       "count    52.000000\n",
       "mean      2.961538\n",
       "std       1.481408\n",
       "min       1.000000\n",
       "25%       1.750000\n",
       "50%       3.000000\n",
       "75%       4.000000\n",
       "max       5.000000\n",
       "Name: indian_food, dtype: float64"
      ]
     },
     "execution_count": 41,
     "metadata": {},
     "output_type": "execute_result"
    }
   ],
   "source": [
    "#4 student recommendation on Indian Food\n",
    "indian_food=df.indian_food # create pandas series from dataframe \n",
    "indian_food.describe() # print different aspects of data "
   ]
  },
  {
   "cell_type": "markdown",
   "metadata": {},
   "source": [
    "The above paragraphs show the different aspects of multiple columns of data set. The information includes mean, max, min, and percentiles of the specific columns."
   ]
  },
  {
   "cell_type": "markdown",
   "metadata": {},
   "source": [
    "# 3. Dendrogram"
   ]
  },
  {
   "cell_type": "markdown",
   "metadata": {},
   "source": [
    "Columns selection for the Dendrogram: veggies_day, weight, and indian_food. "
   ]
  },
  {
   "cell_type": "code",
   "execution_count": 43,
   "metadata": {},
   "outputs": [],
   "source": [
    "from pandas import DataFrame, Series\n",
    "Dendrogram_data = df[['indian_food','veggies_day','weight']]\n",
    "from sklearn.metrics.pairwise import euclidean_distances\n",
    "Dendrogram_data_D = DataFrame(euclidean_distances(Dendrogram_data))"
   ]
  },
  {
   "cell_type": "code",
   "execution_count": 44,
   "metadata": {},
   "outputs": [
    {
     "name": "stderr",
     "output_type": "stream",
     "text": [
      "/Users/sayedkhan/anaconda3/lib/python3.7/site-packages/ipykernel_launcher.py:2: ClusterWarning: scipy.cluster: The symmetric non-negative hollow observation matrix looks suspiciously like an uncondensed distance matrix\n",
      "  \n"
     ]
    },
    {
     "data": {
      "image/png": "[encoded data removed]",
      "text/plain": [
       "<Figure size 720x720 with 1 Axes>"
      ]
     },
     "metadata": {
      "needs_background": "light"
     },
     "output_type": "display_data"
    }
   ],
   "source": [
    "from scipy.cluster.hierarchy import dendrogram, linkage, leaves_list\n",
    "Z = linkage(Dendrogram_data_D, 'average')\n",
    "plt.figure(figsize=(10, 10))\n",
    "D = dendrogram(Z=Z, orientation=\"right\", leaf_font_size=10)"
   ]
  },
  {
   "cell_type": "markdown",
   "metadata": {},
   "source": [
    "<p style=\"font-size:20px\"><u style=\"color: steelblue\">Explanation:</u></p>\n",
    "The above dendrogram is plotted using the indian food, weight, and veggies_day columns and we can see that it is possible to make 3 to 6 groups. \n"
   ]
  },
  {
   "cell_type": "markdown",
   "metadata": {},
   "source": [
    "# 4. Step-by-step K-means:"
   ]
  },
  {
   "cell_type": "markdown",
   "metadata": {},
   "source": [
    "#### First iteration"
   ]
  },
  {
   "cell_type": "code",
   "execution_count": 45,
   "metadata": {},
   "outputs": [
    {
     "data": {
      "text/plain": [
       "Text(0, 0.5, 'indain food')"
      ]
     },
     "execution_count": 45,
     "metadata": {},
     "output_type": "execute_result"
    },
    {
     "data": {
      "image/png": "[encoded data removed]",
      "text/plain": [
       "<Figure size 720x720 with 1 Axes>"
      ]
     },
     "metadata": {
      "needs_background": "light"
     },
     "output_type": "display_data"
    }
   ],
   "source": [
    "fig = plt.figure(figsize=(10,10))\n",
    "df2=Dendrogram_data\n",
    "plt.scatter(Dendrogram_data.indian_food, Dendrogram_data.weight, edgecolor = 'black', s = 80)\n",
    "plt.title('Foods')\n",
    "plt.xlabel('veggies day')\n",
    "plt.ylabel('indain food')"
   ]
  },
  {
   "cell_type": "markdown",
   "metadata": {},
   "source": [
    "The above plot shows the visual explaniation of our selected columns. "
   ]
  },
  {
   "cell_type": "code",
   "execution_count": 46,
   "metadata": {},
   "outputs": [
    {
     "data": {
      "text/plain": [
       "<matplotlib.patches.Circle at 0x1a231d7400>"
      ]
     },
     "execution_count": 46,
     "metadata": {},
     "output_type": "execute_result"
    },
    {
     "data": {
      "image/png": "[encoded data removed]",
      "text/plain": [
       "<Figure size 720x720 with 1 Axes>"
      ]
     },
     "metadata": {
      "needs_background": "light"
     },
     "output_type": "display_data"
    }
   ],
   "source": [
    "centroid1 = np.array([2,4])\n",
    "centroid2 = np.array([3, 3])\n",
    "centroid3 = np.array([4, 2])\n",
    "\n",
    "fig = plt.figure(figsize=(10,10))\n",
    "plt.scatter(Dendrogram_data.veggies_day, Dendrogram_data.indian_food, edgecolor = 'black', s = 80)\n",
    "plt.title('Foods')\n",
    "plt.xlabel('veggies day')\n",
    "plt.ylabel('indain food')\n",
    "circle1 = plt.Circle(centroid1, radius=0.15, edgecolor = 'black', fc='yellow')\n",
    "circle2 = plt.Circle(centroid2, radius=0.15, edgecolor = 'black', fc='red')\n",
    "circle3 = plt.Circle(centroid3, radius=0.15, edgecolor = 'black', fc='green')\n",
    "plt.gca().add_patch(circle1)\n",
    "plt.gca().add_patch(circle2)\n",
    "plt.gca().add_patch(circle3)"
   ]
  },
  {
   "cell_type": "markdown",
   "metadata": {},
   "source": [
    "We have used three  random centroid to calculate the distance."
   ]
  },
  {
   "cell_type": "code",
   "execution_count": 47,
   "metadata": {},
   "outputs": [
    {
     "name": "stderr",
     "output_type": "stream",
     "text": [
      "/Users/sayedkhan/anaconda3/lib/python3.7/site-packages/ipykernel_launcher.py:2: SettingWithCopyWarning: \n",
      "A value is trying to be set on a copy of a slice from a DataFrame.\n",
      "Try using .loc[row_indexer,col_indexer] = value instead\n",
      "\n",
      "See the caveats in the documentation: http://pandas.pydata.org/pandas-docs/stable/indexing.html#indexing-view-versus-copy\n",
      "  \n",
      "/Users/sayedkhan/anaconda3/lib/python3.7/site-packages/ipykernel_launcher.py:4: SettingWithCopyWarning: \n",
      "A value is trying to be set on a copy of a slice from a DataFrame.\n",
      "Try using .loc[row_indexer,col_indexer] = value instead\n",
      "\n",
      "See the caveats in the documentation: http://pandas.pydata.org/pandas-docs/stable/indexing.html#indexing-view-versus-copy\n",
      "  after removing the cwd from sys.path.\n",
      "/Users/sayedkhan/anaconda3/lib/python3.7/site-packages/ipykernel_launcher.py:6: SettingWithCopyWarning: \n",
      "A value is trying to be set on a copy of a slice from a DataFrame.\n",
      "Try using .loc[row_indexer,col_indexer] = value instead\n",
      "\n",
      "See the caveats in the documentation: http://pandas.pydata.org/pandas-docs/stable/indexing.html#indexing-view-versus-copy\n",
      "  \n",
      "/Users/sayedkhan/anaconda3/lib/python3.7/site-packages/ipykernel_launcher.py:12: SettingWithCopyWarning: \n",
      "A value is trying to be set on a copy of a slice from a DataFrame.\n",
      "Try using .loc[row_indexer,col_indexer] = value instead\n",
      "\n",
      "See the caveats in the documentation: http://pandas.pydata.org/pandas-docs/stable/indexing.html#indexing-view-versus-copy\n",
      "  if sys.path[0] == '':\n"
     ]
    },
    {
     "data": {
      "text/plain": [
       "Text(0, 0.5, 'indain food')"
      ]
     },
     "execution_count": 47,
     "metadata": {},
     "output_type": "execute_result"
    },
    {
     "data": {
      "image/png": "[encoded data removed]",
      "text/plain": [
       "<Figure size 720x720 with 1 Axes>"
      ]
     },
     "metadata": {
      "needs_background": "light"
     },
     "output_type": "display_data"
    }
   ],
   "source": [
    "Dendrogram_data[\"Dist_C1\"] = np.sqrt((Dendrogram_data.veggies_day - centroid1[0])**2 \n",
    "                             + (Dendrogram_data.indian_food - centroid1[1])**2)\n",
    "Dendrogram_data[\"Dist_C2\"] = np.sqrt((Dendrogram_data.veggies_day - centroid2[0])**2 + \n",
    "                             (Dendrogram_data.indian_food - centroid2[1])**2)\n",
    "Dendrogram_data[\"Dist_C3\"] = np.sqrt((Dendrogram_data.veggies_day - centroid3[0])**2 + \n",
    "                             (Dendrogram_data.indian_food - centroid3[1])**2)\n",
    "\n",
    "Dendrogram_data[\"Association\"] = np.where(\n",
    "    (Dendrogram_data.Dist_C1 < Dendrogram_data.Dist_C2) & \n",
    "    (Dendrogram_data.Dist_C1 < Dendrogram_data.Dist_C3), 1, \n",
    "     np.where((Dendrogram_data.Dist_C2 < Dendrogram_data.Dist_C1) & \n",
    "    (Dendrogram_data.Dist_C2 < Dendrogram_data.Dist_C3) , 2, 3))\n",
    "\n",
    "fig = plt.figure(figsize=(10,10))\n",
    " \n",
    "# Create a colormap\n",
    "colormap = np.array(['black', 'yellow', 'red', 'green'])\n",
    " \n",
    "plt.scatter(Dendrogram_data.veggies_day, Dendrogram_data.indian_food, \n",
    "            c=colormap[Dendrogram_data.Association], edgecolor = 'black', s = 80)\n",
    "plt.title('Foods')\n",
    "plt.xlabel('veggies day')\n",
    "plt.ylabel('indain food')"
   ]
  },
  {
   "cell_type": "markdown",
   "metadata": {},
   "source": [
    "After calculation of distance, we have found three groups with different color."
   ]
  },
  {
   "cell_type": "markdown",
   "metadata": {},
   "source": [
    "#### Second iteration"
   ]
  },
  {
   "cell_type": "code",
   "execution_count": 48,
   "metadata": {},
   "outputs": [
    {
     "data": {
      "text/plain": [
       "<matplotlib.patches.Circle at 0x1a23934668>"
      ]
     },
     "execution_count": 48,
     "metadata": {},
     "output_type": "execute_result"
    },
    {
     "data": {
      "image/png": "[encoded data removed]",
      "text/plain": [
       "<Figure size 720x720 with 1 Axes>"
      ]
     },
     "metadata": {
      "needs_background": "light"
     },
     "output_type": "display_data"
    }
   ],
   "source": [
    "centroid1 = Dendrogram_data[Dendrogram_data.Association == 1][[\"veggies_day\", \"indian_food\"]].mean()\n",
    "centroid2 = Dendrogram_data[Dendrogram_data.Association == 2][[\"veggies_day\", \"indian_food\"]].mean()\n",
    "centroid3 = Dendrogram_data[Dendrogram_data.Association == 3][[\"veggies_day\", \"indian_food\"]].mean()\n",
    "\n",
    "fig = plt.figure(figsize=(10,10))\n",
    "\n",
    "# Create a colormap\n",
    "colormap = np.array(['black', 'yellow', 'red', 'green'])\n",
    " \n",
    "plt.scatter(Dendrogram_data.veggies_day, Dendrogram_data.indian_food, c=colormap[Dendrogram_data.Association], edgecolor = 'black', s = 80)\n",
    "\n",
    "#plt.scatter(Dendrogram_data.fav_food,Dendrogram_data.pay_meal_out, edgecolor = 'black', s = 80)\n",
    "\n",
    "plt.title('Foods')\n",
    "plt.xlabel('veggies day')\n",
    "plt.ylabel('indain food')\n",
    "circle1 = plt.Circle(centroid1, radius=0.1, edgecolor = 'black', fc='yellow')\n",
    "circle2 = plt.Circle(centroid2, radius=0.1, edgecolor = 'black', fc='red')\n",
    "circle3 = plt.Circle(centroid3, radius=0.1, edgecolor = 'black', fc='green')\n",
    "plt.gca().add_patch(circle1)\n",
    "plt.gca().add_patch(circle2)\n",
    "plt.gca().add_patch(circle3)"
   ]
  },
  {
   "cell_type": "markdown",
   "metadata": {},
   "source": [
    "The central point has moved based on the mean value. \n"
   ]
  },
  {
   "cell_type": "markdown",
   "metadata": {},
   "source": [
    "#### Third iteration\n"
   ]
  },
  {
   "cell_type": "code",
   "execution_count": 49,
   "metadata": {},
   "outputs": [
    {
     "name": "stderr",
     "output_type": "stream",
     "text": [
      "/Users/sayedkhan/anaconda3/lib/python3.7/site-packages/ipykernel_launcher.py:1: SettingWithCopyWarning: \n",
      "A value is trying to be set on a copy of a slice from a DataFrame.\n",
      "Try using .loc[row_indexer,col_indexer] = value instead\n",
      "\n",
      "See the caveats in the documentation: http://pandas.pydata.org/pandas-docs/stable/indexing.html#indexing-view-versus-copy\n",
      "  \"\"\"Entry point for launching an IPython kernel.\n",
      "/Users/sayedkhan/anaconda3/lib/python3.7/site-packages/ipykernel_launcher.py:2: SettingWithCopyWarning: \n",
      "A value is trying to be set on a copy of a slice from a DataFrame.\n",
      "Try using .loc[row_indexer,col_indexer] = value instead\n",
      "\n",
      "See the caveats in the documentation: http://pandas.pydata.org/pandas-docs/stable/indexing.html#indexing-view-versus-copy\n",
      "  \n",
      "/Users/sayedkhan/anaconda3/lib/python3.7/site-packages/ipykernel_launcher.py:3: SettingWithCopyWarning: \n",
      "A value is trying to be set on a copy of a slice from a DataFrame.\n",
      "Try using .loc[row_indexer,col_indexer] = value instead\n",
      "\n",
      "See the caveats in the documentation: http://pandas.pydata.org/pandas-docs/stable/indexing.html#indexing-view-versus-copy\n",
      "  This is separate from the ipykernel package so we can avoid doing imports until\n",
      "/Users/sayedkhan/anaconda3/lib/python3.7/site-packages/ipykernel_launcher.py:7: SettingWithCopyWarning: \n",
      "A value is trying to be set on a copy of a slice from a DataFrame.\n",
      "Try using .loc[row_indexer,col_indexer] = value instead\n",
      "\n",
      "See the caveats in the documentation: http://pandas.pydata.org/pandas-docs/stable/indexing.html#indexing-view-versus-copy\n",
      "  import sys\n"
     ]
    },
    {
     "data": {
      "text/plain": [
       "<matplotlib.patches.Circle at 0x1a2395a0f0>"
      ]
     },
     "execution_count": 49,
     "metadata": {},
     "output_type": "execute_result"
    },
    {
     "data": {
      "image/png": "[encoded data removed]",
      "text/plain": [
       "<Figure size 720x720 with 1 Axes>"
      ]
     },
     "metadata": {
      "needs_background": "light"
     },
     "output_type": "display_data"
    }
   ],
   "source": [
    "Dendrogram_data[\"Dist_C1\"] = np.sqrt((Dendrogram_data.veggies_day - centroid1[0])**2 + (Dendrogram_data.indian_food - centroid1[1])**2)\n",
    "Dendrogram_data[\"Dist_C2\"] = np.sqrt((Dendrogram_data.veggies_day - centroid2[0])**2 + (Dendrogram_data.indian_food- centroid2[1])**2)\n",
    "Dendrogram_data[\"Dist_C3\"] = np.sqrt((Dendrogram_data.veggies_day - centroid3[0])**2 + (Dendrogram_data.indian_food - centroid3[1])**2)\n",
    "Dendrogram_data[\"Association\"] = np.where((Dendrogram_data.Dist_C1 < Dendrogram_data.Dist_C2) & \n",
    "                                  (Dendrogram_data.Dist_C1 < Dendrogram_data.Dist_C3), 1, \n",
    "                                   np.where((Dendrogram_data.Dist_C2 < Dendrogram_data.Dist_C1) & \n",
    "                                  (Dendrogram_data.Dist_C2 < Dendrogram_data.Dist_C3) , 2, 3))\n",
    "fig = plt.figure(figsize=(10,10))\n",
    " \n",
    "# Create a colormap\n",
    "colormap = np.array(['black', 'yellow', 'red', 'green'])\n",
    "# Plot Sepal\n",
    "plt.scatter(Dendrogram_data.veggies_day,Dendrogram_data.indian_food, c=colormap[Dendrogram_data.Association], edgecolor = 'black', s = 80)\n",
    "plt.title('Foods')\n",
    "plt.xlabel('veggies day')\n",
    "plt.ylabel('indain food')\n",
    "circle1 = plt.Circle(centroid1, radius=0.1, edgecolor = 'black', fc='yellow')\n",
    "circle2 = plt.Circle(centroid2, radius=0.1, edgecolor = 'black', fc='red')\n",
    "circle3 = plt.Circle(centroid3, radius=0.1, edgecolor = 'black', fc='green')\n",
    "plt.gca().add_patch(circle1)\n",
    "plt.gca().add_patch(circle2)\n",
    "plt.gca().add_patch(circle3)\n"
   ]
  },
  {
   "cell_type": "markdown",
   "metadata": {},
   "source": [
    "#### Fourth iteration"
   ]
  },
  {
   "cell_type": "code",
   "execution_count": 50,
   "metadata": {},
   "outputs": [
    {
     "name": "stderr",
     "output_type": "stream",
     "text": [
      "/Users/sayedkhan/anaconda3/lib/python3.7/site-packages/ipykernel_launcher.py:4: SettingWithCopyWarning: \n",
      "A value is trying to be set on a copy of a slice from a DataFrame.\n",
      "Try using .loc[row_indexer,col_indexer] = value instead\n",
      "\n",
      "See the caveats in the documentation: http://pandas.pydata.org/pandas-docs/stable/indexing.html#indexing-view-versus-copy\n",
      "  after removing the cwd from sys.path.\n",
      "/Users/sayedkhan/anaconda3/lib/python3.7/site-packages/ipykernel_launcher.py:5: SettingWithCopyWarning: \n",
      "A value is trying to be set on a copy of a slice from a DataFrame.\n",
      "Try using .loc[row_indexer,col_indexer] = value instead\n",
      "\n",
      "See the caveats in the documentation: http://pandas.pydata.org/pandas-docs/stable/indexing.html#indexing-view-versus-copy\n",
      "  \"\"\"\n",
      "/Users/sayedkhan/anaconda3/lib/python3.7/site-packages/ipykernel_launcher.py:6: SettingWithCopyWarning: \n",
      "A value is trying to be set on a copy of a slice from a DataFrame.\n",
      "Try using .loc[row_indexer,col_indexer] = value instead\n",
      "\n",
      "See the caveats in the documentation: http://pandas.pydata.org/pandas-docs/stable/indexing.html#indexing-view-versus-copy\n",
      "  \n",
      "/Users/sayedkhan/anaconda3/lib/python3.7/site-packages/ipykernel_launcher.py:10: SettingWithCopyWarning: \n",
      "A value is trying to be set on a copy of a slice from a DataFrame.\n",
      "Try using .loc[row_indexer,col_indexer] = value instead\n",
      "\n",
      "See the caveats in the documentation: http://pandas.pydata.org/pandas-docs/stable/indexing.html#indexing-view-versus-copy\n",
      "  # Remove the CWD from sys.path while we load stuff.\n"
     ]
    },
    {
     "data": {
      "text/plain": [
       "<matplotlib.patches.Circle at 0x1a2421aa90>"
      ]
     },
     "execution_count": 50,
     "metadata": {},
     "output_type": "execute_result"
    },
    {
     "data": {
      "image/png": "[encoded data removed]",
      "text/plain": [
       "<Figure size 720x720 with 1 Axes>"
      ]
     },
     "metadata": {
      "needs_background": "light"
     },
     "output_type": "display_data"
    }
   ],
   "source": [
    "centroid1 = Dendrogram_data[Dendrogram_data.Association == 1][[\"veggies_day\", \"indian_food\"]].mean()\n",
    "centroid2 = Dendrogram_data[Dendrogram_data.Association == 2][[\"veggies_day\", \"indian_food\"]].mean()\n",
    "centroid3 = Dendrogram_data[Dendrogram_data.Association == 3][[\"veggies_day\", \"indian_food\"]].mean()\n",
    "Dendrogram_data[\"Dist_C1\"] = np.sqrt((Dendrogram_data.veggies_day - centroid1[0])**2 + (Dendrogram_data.indian_food - centroid1[1])**2)\n",
    "Dendrogram_data[\"Dist_C2\"] = np.sqrt((Dendrogram_data.veggies_day - centroid2[0])**2 + (Dendrogram_data.indian_food - centroid2[1])**2)\n",
    "Dendrogram_data[\"Dist_C3\"] = np.sqrt((Dendrogram_data.veggies_day - centroid3[0])**2 + (Dendrogram_data.indian_food - centroid3[1])**2)\n",
    "Dendrogram_data[\"Association\"] = np.where((Dendrogram_data.Dist_C1 < Dendrogram_data.Dist_C2) & \n",
    "                                  (Dendrogram_data.Dist_C1 < Dendrogram_data.Dist_C3), 1, \n",
    "                                   np.where((Dendrogram_data.Dist_C2 < Dendrogram_data.Dist_C1) & \n",
    "                                  (Dendrogram_data.Dist_C2 < Dendrogram_data.Dist_C3) , 2, 3))\n",
    "fig = plt.figure(figsize=(10,10))\n",
    " \n",
    "# Create a colormap\n",
    "colormap = np.array(['black', 'yellow', 'red', 'green'])\n",
    " \n",
    "# Plot Sepal\n",
    "plt.scatter(Dendrogram_data.veggies_day, Dendrogram_data.indian_food, c=colormap[Dendrogram_data.Association], edgecolor = 'black', s = 80)\n",
    "plt.title('Foods')\n",
    "plt.xlabel('veggies day')\n",
    "plt.ylabel('indain food')\n",
    "circle1 = plt.Circle(centroid1, radius=0.1, edgecolor = 'black', fc='yellow')\n",
    "circle2 = plt.Circle(centroid2, radius=0.1, edgecolor = 'black', fc='red')\n",
    "circle3 = plt.Circle(centroid3, radius=0.1, edgecolor = 'black', fc='green')\n",
    "plt.gca().add_patch(circle1)\n",
    "plt.gca().add_patch(circle2)\n",
    "plt.gca().add_patch(circle3)"
   ]
  },
  {
   "cell_type": "markdown",
   "metadata": {},
   "source": [
    "#### Fifth iteration\n"
   ]
  },
  {
   "cell_type": "code",
   "execution_count": 51,
   "metadata": {},
   "outputs": [
    {
     "name": "stderr",
     "output_type": "stream",
     "text": [
      "/Users/sayedkhan/anaconda3/lib/python3.7/site-packages/ipykernel_launcher.py:4: SettingWithCopyWarning: \n",
      "A value is trying to be set on a copy of a slice from a DataFrame.\n",
      "Try using .loc[row_indexer,col_indexer] = value instead\n",
      "\n",
      "See the caveats in the documentation: http://pandas.pydata.org/pandas-docs/stable/indexing.html#indexing-view-versus-copy\n",
      "  after removing the cwd from sys.path.\n",
      "/Users/sayedkhan/anaconda3/lib/python3.7/site-packages/ipykernel_launcher.py:5: SettingWithCopyWarning: \n",
      "A value is trying to be set on a copy of a slice from a DataFrame.\n",
      "Try using .loc[row_indexer,col_indexer] = value instead\n",
      "\n",
      "See the caveats in the documentation: http://pandas.pydata.org/pandas-docs/stable/indexing.html#indexing-view-versus-copy\n",
      "  \"\"\"\n",
      "/Users/sayedkhan/anaconda3/lib/python3.7/site-packages/ipykernel_launcher.py:6: SettingWithCopyWarning: \n",
      "A value is trying to be set on a copy of a slice from a DataFrame.\n",
      "Try using .loc[row_indexer,col_indexer] = value instead\n",
      "\n",
      "See the caveats in the documentation: http://pandas.pydata.org/pandas-docs/stable/indexing.html#indexing-view-versus-copy\n",
      "  \n",
      "/Users/sayedkhan/anaconda3/lib/python3.7/site-packages/ipykernel_launcher.py:10: SettingWithCopyWarning: \n",
      "A value is trying to be set on a copy of a slice from a DataFrame.\n",
      "Try using .loc[row_indexer,col_indexer] = value instead\n",
      "\n",
      "See the caveats in the documentation: http://pandas.pydata.org/pandas-docs/stable/indexing.html#indexing-view-versus-copy\n",
      "  # Remove the CWD from sys.path while we load stuff.\n"
     ]
    },
    {
     "data": {
      "text/plain": [
       "<matplotlib.patches.Circle at 0x1a2421acf8>"
      ]
     },
     "execution_count": 51,
     "metadata": {},
     "output_type": "execute_result"
    },
    {
     "data": {
      "image/png": "[encoded data removed]",
      "text/plain": [
       "<Figure size 720x720 with 1 Axes>"
      ]
     },
     "metadata": {
      "needs_background": "light"
     },
     "output_type": "display_data"
    }
   ],
   "source": [
    "centroid1 = Dendrogram_data[Dendrogram_data.Association == 1][[\"veggies_day\", \"indian_food\"]].mean()\n",
    "centroid2 = Dendrogram_data[Dendrogram_data.Association == 2][[\"veggies_day\", \"indian_food\"]].mean()\n",
    "centroid3 = Dendrogram_data[Dendrogram_data.Association == 3][[\"veggies_day\", \"indian_food\"]].mean()\n",
    "Dendrogram_data[\"Dist_C1\"] = np.sqrt((Dendrogram_data.veggies_day - centroid1[0])**2 + (Dendrogram_data.indian_food - centroid1[1])**2)\n",
    "Dendrogram_data[\"Dist_C2\"] = np.sqrt((Dendrogram_data.veggies_day - centroid2[0])**2 + (Dendrogram_data.indian_food - centroid2[1])**2)\n",
    "Dendrogram_data[\"Dist_C3\"] = np.sqrt((Dendrogram_data.veggies_day - centroid3[0])**2 + (Dendrogram_data.indian_food - centroid3[1])**2)\n",
    "Dendrogram_data[\"Association\"] = np.where((Dendrogram_data.Dist_C1 < Dendrogram_data.Dist_C2) & \n",
    "                                  (Dendrogram_data.Dist_C1 < Dendrogram_data.Dist_C3), 1, \n",
    "                                   np.where((Dendrogram_data.Dist_C2 < Dendrogram_data.Dist_C1) & \n",
    "                                  (Dendrogram_data.Dist_C2 < Dendrogram_data.Dist_C3) , 2, 3))\n",
    "fig = plt.figure(figsize=(10,10))\n",
    " \n",
    "# Create a colormap\n",
    "colormap = np.array(['black', 'yellow', 'red', 'green'])\n",
    " \n",
    "# Plot Sepal\n",
    "plt.scatter(Dendrogram_data.veggies_day, Dendrogram_data.indian_food, c=colormap[Dendrogram_data.Association], edgecolor = 'black', s = 80)\n",
    "plt.title('Foods')\n",
    "plt.xlabel('veggies day')\n",
    "plt.ylabel('indain food')\n",
    "circle1 = plt.Circle(centroid1, radius=0.1, edgecolor = 'black', fc='yellow')\n",
    "circle2 = plt.Circle(centroid2, radius=0.1, edgecolor = 'black', fc='red')\n",
    "circle3 = plt.Circle(centroid3, radius=0.1, edgecolor = 'black', fc='green')\n",
    "plt.gca().add_patch(circle1)\n",
    "plt.gca().add_patch(circle2)\n",
    "plt.gca().add_patch(circle3)"
   ]
  },
  {
   "cell_type": "markdown",
   "metadata": {},
   "source": [
    "#### Sixth iteration\n"
   ]
  },
  {
   "cell_type": "code",
   "execution_count": 52,
   "metadata": {},
   "outputs": [
    {
     "name": "stderr",
     "output_type": "stream",
     "text": [
      "/Users/sayedkhan/anaconda3/lib/python3.7/site-packages/ipykernel_launcher.py:4: SettingWithCopyWarning: \n",
      "A value is trying to be set on a copy of a slice from a DataFrame.\n",
      "Try using .loc[row_indexer,col_indexer] = value instead\n",
      "\n",
      "See the caveats in the documentation: http://pandas.pydata.org/pandas-docs/stable/indexing.html#indexing-view-versus-copy\n",
      "  after removing the cwd from sys.path.\n",
      "/Users/sayedkhan/anaconda3/lib/python3.7/site-packages/ipykernel_launcher.py:5: SettingWithCopyWarning: \n",
      "A value is trying to be set on a copy of a slice from a DataFrame.\n",
      "Try using .loc[row_indexer,col_indexer] = value instead\n",
      "\n",
      "See the caveats in the documentation: http://pandas.pydata.org/pandas-docs/stable/indexing.html#indexing-view-versus-copy\n",
      "  \"\"\"\n",
      "/Users/sayedkhan/anaconda3/lib/python3.7/site-packages/ipykernel_launcher.py:6: SettingWithCopyWarning: \n",
      "A value is trying to be set on a copy of a slice from a DataFrame.\n",
      "Try using .loc[row_indexer,col_indexer] = value instead\n",
      "\n",
      "See the caveats in the documentation: http://pandas.pydata.org/pandas-docs/stable/indexing.html#indexing-view-versus-copy\n",
      "  \n",
      "/Users/sayedkhan/anaconda3/lib/python3.7/site-packages/ipykernel_launcher.py:10: SettingWithCopyWarning: \n",
      "A value is trying to be set on a copy of a slice from a DataFrame.\n",
      "Try using .loc[row_indexer,col_indexer] = value instead\n",
      "\n",
      "See the caveats in the documentation: http://pandas.pydata.org/pandas-docs/stable/indexing.html#indexing-view-versus-copy\n",
      "  # Remove the CWD from sys.path while we load stuff.\n"
     ]
    },
    {
     "data": {
      "text/plain": [
       "Text(0, 0.5, 'indain food')"
      ]
     },
     "execution_count": 52,
     "metadata": {},
     "output_type": "execute_result"
    },
    {
     "data": {
      "image/png": "[encoded data removed]",
      "text/plain": [
       "<Figure size 720x720 with 1 Axes>"
      ]
     },
     "metadata": {
      "needs_background": "light"
     },
     "output_type": "display_data"
    }
   ],
   "source": [
    "centroid1 = Dendrogram_data[Dendrogram_data.Association == 1][[\"veggies_day\", \"indian_food\"]].mean()\n",
    "centroid2 = Dendrogram_data[Dendrogram_data.Association == 2][[\"veggies_day\", \"indian_food\"]].mean()\n",
    "centroid3 = Dendrogram_data[Dendrogram_data.Association == 3][[\"veggies_day\", \"indian_food\"]].mean()\n",
    "Dendrogram_data[\"Dist_C1\"] = np.sqrt((Dendrogram_data.veggies_day - centroid1[0])**2 + (Dendrogram_data.indian_food - centroid1[1])**2)\n",
    "Dendrogram_data[\"Dist_C2\"] = np.sqrt((Dendrogram_data.veggies_day - centroid2[0])**2 + (Dendrogram_data.indian_food - centroid2[1])**2)\n",
    "Dendrogram_data[\"Dist_C3\"] = np.sqrt((Dendrogram_data.veggies_day - centroid3[0])**2 + (Dendrogram_data.indian_food - centroid3[1])**2)\n",
    "Dendrogram_data[\"Association\"] = np.where((Dendrogram_data.Dist_C1 < Dendrogram_data.Dist_C2) & \n",
    "                                  (Dendrogram_data.Dist_C1 < Dendrogram_data.Dist_C3), 1, \n",
    "                                   np.where((Dendrogram_data.Dist_C2 < Dendrogram_data.Dist_C1) & \n",
    "                                  (Dendrogram_data.Dist_C2 < Dendrogram_data.Dist_C3) , 2, 3))\n",
    "fig = plt.figure(figsize=(10,10))\n",
    " \n",
    "# Create a colormap\n",
    "colormap = np.array(['black', 'yellow', 'red', 'green'])\n",
    " \n",
    "# Plot Sepal\n",
    "plt.scatter(Dendrogram_data.veggies_day, Dendrogram_data.indian_food, c=colormap[Dendrogram_data.Association], edgecolor = 'black', s = 80)\n",
    "plt.title('Foods')\n",
    "plt.xlabel('veggies day')\n",
    "plt.ylabel('indain food')\n",
    "#circle1 = plt.Circle(centroid1, radius=0.1, edgecolor = 'black', fc='yellow')\n",
    "#circle2 = plt.Circle(centroid2, radius=0.1, edgecolor = 'black', fc='red')\n",
    "#circle3 = plt.Circle(centroid3, radius=0.1, edgecolor = 'black', fc='green')\n",
    "#plt.gca().add_patch(circle1)\n",
    "#plt.gca().add_patch(circle2)\n",
    "#plt.gca().add_patch(circle3)"
   ]
  },
  {
   "cell_type": "markdown",
   "metadata": {},
   "source": [
    "# 5. sklearn.cluster:"
   ]
  },
  {
   "cell_type": "code",
   "execution_count": 54,
   "metadata": {},
   "outputs": [
    {
     "data": {
      "text/plain": [
       "KMeans(algorithm='auto', copy_x=True, init='k-means++', max_iter=300,\n",
       "    n_clusters=3, n_init=10, n_jobs=None, precompute_distances='auto',\n",
       "    random_state=None, tol=0.0001, verbose=0)"
      ]
     },
     "execution_count": 54,
     "metadata": {},
     "output_type": "execute_result"
    }
   ],
   "source": [
    "df2 = df[['veggies_day','indian_food']]\n",
    "df3 = df[['veggies_day','indian_food','weight']]\n",
    "\n",
    "# K Means Cluster\n",
    "model = KMeans(n_clusters = 3)\n",
    "model.fit(df2)"
   ]
  },
  {
   "cell_type": "code",
   "execution_count": 55,
   "metadata": {},
   "outputs": [
    {
     "data": {
      "text/plain": [
       "Text(0, 0.5, 'indain food')"
      ]
     },
     "execution_count": 55,
     "metadata": {},
     "output_type": "execute_result"
    },
    {
     "data": {
      "image/png": "[encoded data removed]",
      "text/plain": [
       "<Figure size 720x720 with 1 Axes>"
      ]
     },
     "metadata": {
      "needs_background": "light"
     },
     "output_type": "display_data"
    }
   ],
   "source": [
    "fig = plt.figure(figsize=(10, 10))\n",
    " \n",
    "# Create a colormap\n",
    "colormap = np.array(['green', 'red','yellow'])\n",
    " \n",
    "plt.scatter(df2.veggies_day, df2.indian_food, c=colormap[model.labels_], edgecolor = 'black', s = 80)\n",
    "plt.title('K Mean Classification')\n",
    "plt.xlabel('veggies day')\n",
    "plt.ylabel('indain food')"
   ]
  },
  {
   "cell_type": "markdown",
   "metadata": {},
   "source": [
    "The above plot is made by using library which is almost similiar to plot produced by step by step K-means. "
   ]
  },
  {
   "cell_type": "markdown",
   "metadata": {},
   "source": [
    "# 7. 2D prediction mesh:"
   ]
  },
  {
   "cell_type": "code",
   "execution_count": 56,
   "metadata": {},
   "outputs": [
    {
     "data": {
      "image/png": "[encoded data removed]",
      "text/plain": [
       "<Figure size 432x288 with 1 Axes>"
      ]
     },
     "metadata": {
      "needs_background": "light"
     },
     "output_type": "display_data"
    }
   ],
   "source": [
    "def plotMesh():\n",
    "    h = 0.1\n",
    "    # Create color maps\n",
    "    cmap_light = ListedColormap(['#ffffcc', '#ff8080','#ccd9ff','#f5ccff','#aaaaaa'])\n",
    "    colormap = np.array(['yellow', 'red', 'blue','magenta','black'])\n",
    "\n",
    "    x_min, x_max = df2.veggies_day.min() - 1, df2.veggies_day.max() + 1\n",
    "    y_min, y_max = df2.indian_food.min() - 1, df2.indian_food.max() + 1\n",
    "    xx, yy = np.meshgrid(np.arange(x_min, x_max, h),np.arange(y_min, y_max, h))\n",
    "    Z = model.predict(np.c_[xx.ravel(), yy.ravel()])\n",
    "\n",
    "    # Put the result into a color plot\n",
    "    Z = Z.reshape(xx.shape)\n",
    "    fig = plt.figure()\n",
    "    plt.pcolormesh(xx, yy, Z, cmap = cmap_light)\n",
    "\n",
    "    # Plot also the training points\n",
    "    plt.scatter(df2.veggies_day, df2.indian_food, c = colormap[model.labels_], edgecolor = 'black', s = 120)\n",
    "    plt.xlim(xx.min(), xx.max())\n",
    "    plt.ylim(yy.min(), yy.max())\n",
    "    plt.title(\"4-Class classification \\n(k = %i)\\n\\\n",
    "    Loan 1 - Yellow, Loan 2 - Red, Loan 3 - Blue, Loan 4 - green\" % (5))\n",
    "    plt.xlabel('veggies_day')\n",
    "    plt.ylabel('indian_food')\n",
    "    \n",
    "plotMesh()"
   ]
  },
  {
   "cell_type": "markdown",
   "metadata": {},
   "source": [
    "The above figure shows the prediction mesh for our model. The x-axis represents the veggies day and the y-axis represents the indian food. From the above plot, we will be able to find the veggies group who likes indian foods. "
   ]
  },
  {
   "cell_type": "markdown",
   "metadata": {},
   "source": [
    "# 6. Prediction"
   ]
  },
  {
   "cell_type": "code",
   "execution_count": 57,
   "metadata": {},
   "outputs": [
    {
     "data": {
      "text/plain": [
       "   veggies_day  indian_food  weight\n",
       "1            4            4     155\n",
       "2            5            5       0\n",
       "4            4            2     190\n",
       "6            4            5     180\n",
       "7            4            1     137"
      ]
     },
     "execution_count": 57,
     "metadata": {},
     "output_type": "execute_result"
    }
   ],
   "source": [
    "df3.head()"
   ]
  },
  {
   "cell_type": "code",
   "execution_count": 58,
   "metadata": {},
   "outputs": [
    {
     "data": {
      "text/plain": [
       "KMeans(algorithm='auto', copy_x=True, init='k-means++', max_iter=300,\n",
       "    n_clusters=3, n_init=10, n_jobs=None, precompute_distances='auto',\n",
       "    random_state=None, tol=0.0001, verbose=0)"
      ]
     },
     "execution_count": 58,
     "metadata": {},
     "output_type": "execute_result"
    }
   ],
   "source": [
    "from sklearn.cluster import KMeans\n",
    "model = KMeans(n_clusters = 3)\n",
    "model.fit(df3)"
   ]
  },
  {
   "cell_type": "markdown",
   "metadata": {},
   "source": [
    "#### Prediction function "
   ]
  },
  {
   "cell_type": "code",
   "execution_count": 23,
   "metadata": {},
   "outputs": [],
   "source": [
    "def pred():\n",
    "        colormap = np.array(['yellow', 'red', 'blue','magenta','black'])\n",
    "\n",
    "        veggies_day = float(input('veggies day: '))\n",
    "        indian_food = float(input('indian_food: '))\n",
    "        weight = float(input('weight: '))\n",
    "\n",
    "        data_class = model.predict(np.array([veggies_day, indian_food,weight]).reshape(1,-1))[0]\n",
    "        if colormap[data_class]=='yellow':\n",
    "        #Student likes the veggie food too much. Based on the cluster, he probably likes the Indian food to\n",
    "            print(\"  You will get $2 coupon \")\n",
    "            \n",
    "        if colormap[data_class]=='red':\n",
    "        #Student does not like the veggie food too much. Based on the cluster, he probably does not likes the Indian food to\n",
    "            print(\"  You will get $10 coupon \")   \n",
    "            \n",
    "        if colormap[data_class]=='blue':\n",
    "        #Student likes the veggie food too much. Based on the cluster, he probably does not likes the Indian food to\n",
    "            print(\"  You will get $5 coupon \") \n",
    "            \n",
    "        "
   ]
  },
  {
   "cell_type": "markdown",
   "metadata": {},
   "source": [
    "##### Prediction  1"
   ]
  },
  {
   "cell_type": "code",
   "execution_count": 24,
   "metadata": {},
   "outputs": [
    {
     "name": "stdout",
     "output_type": "stream",
     "text": [
      "veggies day: 2\n",
      "indian_food: 2\n",
      "weight: 145\n",
      "  You will get $10 coupon \n"
     ]
    }
   ],
   "source": [
    "pred()"
   ]
  },
  {
   "cell_type": "markdown",
   "metadata": {},
   "source": [
    "##### Prediction  2\n"
   ]
  },
  {
   "cell_type": "code",
   "execution_count": 25,
   "metadata": {},
   "outputs": [
    {
     "name": "stdout",
     "output_type": "stream",
     "text": [
      "veggies day: 1\n",
      "indian_food: 5\n",
      "weight: 150\n",
      "  You will get $2 coupon \n"
     ]
    }
   ],
   "source": [
    "pred()"
   ]
  },
  {
   "cell_type": "markdown",
   "metadata": {},
   "source": [
    "##### Prediction  3\n"
   ]
  },
  {
   "cell_type": "code",
   "execution_count": 26,
   "metadata": {},
   "outputs": [
    {
     "name": "stdout",
     "output_type": "stream",
     "text": [
      "veggies day: 4\n",
      "indian_food: 1\n",
      "weight: 130\n",
      "  You will get $2 coupon \n"
     ]
    }
   ],
   "source": [
    "pred()"
   ]
  },
  {
   "cell_type": "markdown",
   "metadata": {},
   "source": [
    "##### Prediction  4\n"
   ]
  },
  {
   "cell_type": "code",
   "execution_count": 27,
   "metadata": {},
   "outputs": [
    {
     "name": "stdout",
     "output_type": "stream",
     "text": [
      "veggies day: 12\n",
      "indian_food: 1\n",
      "weight: 340\n",
      "  You will get $10 coupon \n"
     ]
    }
   ],
   "source": [
    "pred()"
   ]
  },
  {
   "cell_type": "markdown",
   "metadata": {},
   "source": [
    "##### Prediction  5\n"
   ]
  },
  {
   "cell_type": "code",
   "execution_count": 28,
   "metadata": {},
   "outputs": [
    {
     "name": "stdout",
     "output_type": "stream",
     "text": [
      "veggies day: 2\n",
      "indian_food: 5\n",
      "weight: 176\n",
      "  You will get $10 coupon \n"
     ]
    }
   ],
   "source": [
    "pred()"
   ]
  },
  {
   "cell_type": "markdown",
   "metadata": {},
   "source": [
    "##### Prediction  6\n"
   ]
  },
  {
   "cell_type": "code",
   "execution_count": 30,
   "metadata": {},
   "outputs": [
    {
     "name": "stdout",
     "output_type": "stream",
     "text": [
      "veggies day: 4\n",
      "indian_food: 2\n",
      "weight: 128\n",
      "  You will get $2 coupon \n"
     ]
    }
   ],
   "source": [
    "pred()"
   ]
  },
  {
   "cell_type": "markdown",
   "metadata": {},
   "source": [
    "##### Prediction  7\n"
   ]
  },
  {
   "cell_type": "code",
   "execution_count": 25,
   "metadata": {},
   "outputs": [
    {
     "name": "stdout",
     "output_type": "stream",
     "text": [
      "veggies day: 3\n",
      "indian_food: 2\n",
      "weight: 146\n",
      "  You will get $10 coupon \n"
     ]
    }
   ],
   "source": [
    "pred()"
   ]
  },
  {
   "cell_type": "markdown",
   "metadata": {},
   "source": [
    "##### Prediction  8"
   ]
  },
  {
   "cell_type": "code",
   "execution_count": 26,
   "metadata": {},
   "outputs": [
    {
     "name": "stdout",
     "output_type": "stream",
     "text": [
      "veggies day: 3\n",
      "indian_food: 2\n",
      "weight: 165\n",
      "  You will get $2 coupon \n"
     ]
    }
   ],
   "source": [
    "pred()"
   ]
  },
  {
   "cell_type": "markdown",
   "metadata": {},
   "source": [
    "##### Prediction  9"
   ]
  },
  {
   "cell_type": "code",
   "execution_count": 27,
   "metadata": {},
   "outputs": [
    {
     "name": "stdout",
     "output_type": "stream",
     "text": [
      "veggies day: 5\n",
      "indian_food: 1\n",
      "weight: 176\n",
      "  You will get $2 coupon \n"
     ]
    }
   ],
   "source": [
    "pred()"
   ]
  },
  {
   "cell_type": "markdown",
   "metadata": {},
   "source": [
    "##### Prediction  10"
   ]
  },
  {
   "cell_type": "code",
   "execution_count": 28,
   "metadata": {},
   "outputs": [
    {
     "name": "stdout",
     "output_type": "stream",
     "text": [
      "veggies day: 4\n",
      "indian_food: 1\n",
      "weight: 199\n",
      "  You will get $2 coupon \n"
     ]
    }
   ],
   "source": [
    "pred()"
   ]
  },
  {
   "cell_type": "markdown",
   "metadata": {},
   "source": [
    "Explanation:\n",
    "\n",
    "The model is able to perform predication based on clustering. If we want to send coupon for specific groups, it is possible to identfy them. \n",
    "\n"
   ]
  },
  {
   "cell_type": "markdown",
   "metadata": {},
   "source": [
    "# 10. Summary:"
   ]
  },
  {
   "attachments": {},
   "cell_type": "markdown",
   "metadata": {},
   "source": [
    "The analysis of dataset represents a good insight of food habit of University student. The dataset is not reliable by size. Also, it has a lot of missing data. Therefore, the chance to get almost optimal solution for small projects is little.\n"
   ]
  },
  {
   "cell_type": "markdown",
   "metadata": {},
   "source": [
    "Several analyses are possible by the dataset. Also, there are many ways to build recommendation engine for sending coupon to students. In our case, we want to find correlation between veggie student to Indian foods, and weight. As we know that most of the Indian cosines are veggie so that veggie people may like Indian foods more. Therefore, we have built recommendation engine for the specific Indian food. It is also possible to cope other columns and include into our model. But that is out of our scope.\n"
   ]
  },
  {
   "cell_type": "markdown",
   "metadata": {},
   "source": [
    "Recommendations: UOP cafeteria could send email based on the following criterion:<br>\n",
    "a. \\\\$10 coupon: For those who does not like veggie food. Therefore, they may be interested to eat Indian food.<br> \n",
    "b. \\\\$5 coupon: For those who moderately like veggie food. If they get the coupon, they will be more interested to buy the Indian food. <br>\n",
    "c. \\\\$2 coupon: For those who like veggie food. It does not matter that they have coupon or not. They will buy Indian food. But if they receive food, they will get more motivated.\n",
    "\n"
   ]
  }
 ],
 "metadata": {
  "kernelspec": {
   "display_name": "Python 3",
   "language": "python",
   "name": "python3"
  },
  "language_info": {
   "codemirror_mode": {
    "name": "ipython",
    "version": 3
   },
   "file_extension": ".py",
   "mimetype": "text/x-python",
   "name": "python",
   "nbconvert_exporter": "python",
   "pygments_lexer": "ipython3",
   "version": "3.7.1"
  }
 },
 "nbformat": 4,
 "nbformat_minor": 2
}
