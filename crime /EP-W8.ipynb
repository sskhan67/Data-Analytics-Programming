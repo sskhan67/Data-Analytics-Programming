{
 "cells": [
  {
   "cell_type": "markdown",
   "metadata": {},
   "source": [
    "Name:\n",
    "Syeduzzaman Khan\n",
    "\n",
    "Startup Name: Feluda \n",
    "\n",
    "# 1. Objectives:\n",
    "<p style='text-align: justify;'>\n",
    "Crimes are the part of human history. Prehistoric age to modern age, human are disobeyed law and committed crimes against human, societies, and country. In this project, we are going to analyze the crime dataset which are collected over 40 years in different USA cities.  \n",
    "\n",
    "</p>\n",
    "<p style='text-align: justify;'>\n",
    "The purpose of this project is to analyze the crime dataset and help law enforcement agencies to provide different aspects of their cities. \n",
    "\n",
    "</p>\n",
    "<p style='text-align: justify;'>\n",
    "To achieve our goals, we have to carefully analyze the dataset considering different perspectives. In the beginning of the project, we will get to familiar with dataset and look into different columns. Then, we will pick the relevant columns that will lead us to reach our goals. The obtained results will be visualized using plot.  \n",
    "\n",
    "</p>\n"
   ]
  },
  {
   "cell_type": "markdown",
   "metadata": {},
   "source": [
    "# 2. Data Exploration: "
   ]
  },
  {
   "cell_type": "markdown",
   "metadata": {},
   "source": [
    "Read dataset"
   ]
  },
  {
   "cell_type": "code",
   "execution_count": 222,
   "metadata": {},
   "outputs": [],
   "source": [
    "# import Library \n",
    "import pandas as pd\n",
    "import matplotlib.pyplot as plt\n",
    "%matplotlib inline\n"
   ]
  },
  {
   "cell_type": "code",
   "execution_count": 223,
   "metadata": {},
   "outputs": [
    {
     "ename": "NameError",
     "evalue": "name 'read_csv' is not defined",
     "output_type": "error",
     "traceback": [
      "\u001b[0;31m---------------------------------------------------------------------------\u001b[0m",
      "\u001b[0;31mNameError\u001b[0m                                 Traceback (most recent call last)",
      "\u001b[0;32m<ipython-input-223-a65d76267a1e>\u001b[0m in \u001b[0;36m<module>\u001b[0;34m\u001b[0m\n\u001b[1;32m      1\u001b[0m \u001b[0;31m# read csv file\u001b[0m\u001b[0;34m\u001b[0m\u001b[0;34m\u001b[0m\u001b[0;34m\u001b[0m\u001b[0m\n\u001b[0;32m----> 2\u001b[0;31m \u001b[0mdf\u001b[0m \u001b[0;34m=\u001b[0m \u001b[0mread_csv\u001b[0m\u001b[0;34m(\u001b[0m\u001b[0;34m\"report.csv\"\u001b[0m\u001b[0;34m)\u001b[0m\u001b[0;34m\u001b[0m\u001b[0;34m\u001b[0m\u001b[0m\n\u001b[0m",
      "\u001b[0;31mNameError\u001b[0m: name 'read_csv' is not defined"
     ]
    }
   ],
   "source": [
    "# read csv file \n",
    "df = read_csv(\"report.csv\")\n"
   ]
  },
  {
   "cell_type": "markdown",
   "metadata": {},
   "source": [
    "Print top 10 rows, Number of rows, Number of columns, and Percantile"
   ]
  },
  {
   "cell_type": "code",
   "execution_count": 224,
   "metadata": {},
   "outputs": [
    {
     "data": {
      "text/html": [
       "<div>\n",
       "<style scoped>\n",
       "    .dataframe tbody tr th:only-of-type {\n",
       "        vertical-align: middle;\n",
       "    }\n",
       "\n",
       "    .dataframe tbody tr th {\n",
       "        vertical-align: top;\n",
       "    }\n",
       "\n",
       "    .dataframe thead th {\n",
       "        text-align: right;\n",
       "    }\n",
       "</style>\n",
       "<table border=\"1\" class=\"dataframe\">\n",
       "  <thead>\n",
       "    <tr style=\"text-align: right;\">\n",
       "      <th></th>\n",
       "      <th>report_year</th>\n",
       "      <th>agency_code</th>\n",
       "      <th>agency_jurisdiction</th>\n",
       "      <th>population</th>\n",
       "      <th>violent_crimes</th>\n",
       "      <th>homicides</th>\n",
       "      <th>rapes</th>\n",
       "      <th>assaults</th>\n",
       "      <th>robberies</th>\n",
       "      <th>months_reported</th>\n",
       "      <th>crimes_percapita</th>\n",
       "      <th>homicides_percapita</th>\n",
       "      <th>rapes_percapita</th>\n",
       "      <th>assaults_percapita</th>\n",
       "      <th>robberies_percapita</th>\n",
       "    </tr>\n",
       "  </thead>\n",
       "  <tbody>\n",
       "    <tr>\n",
       "      <th>1743</th>\n",
       "      <td>2000</td>\n",
       "      <td>VA02901</td>\n",
       "      <td>Fairfax County, VA</td>\n",
       "      <td>933641.0</td>\n",
       "      <td>154.0</td>\n",
       "      <td>2.0</td>\n",
       "      <td>30.0</td>\n",
       "      <td>15.0</td>\n",
       "      <td>107.0</td>\n",
       "      <td>12.0</td>\n",
       "      <td>16.49</td>\n",
       "      <td>0.21</td>\n",
       "      <td>3.21</td>\n",
       "      <td>1.61</td>\n",
       "      <td>11.46</td>\n",
       "    </tr>\n",
       "    <tr>\n",
       "      <th>1812</th>\n",
       "      <td>2001</td>\n",
       "      <td>VA02901</td>\n",
       "      <td>Fairfax County, VA</td>\n",
       "      <td>948050.0</td>\n",
       "      <td>249.0</td>\n",
       "      <td>2.0</td>\n",
       "      <td>32.0</td>\n",
       "      <td>42.0</td>\n",
       "      <td>173.0</td>\n",
       "      <td>12.0</td>\n",
       "      <td>26.26</td>\n",
       "      <td>0.21</td>\n",
       "      <td>3.38</td>\n",
       "      <td>4.43</td>\n",
       "      <td>18.25</td>\n",
       "    </tr>\n",
       "    <tr>\n",
       "      <th>1881</th>\n",
       "      <td>2002</td>\n",
       "      <td>VA02901</td>\n",
       "      <td>Fairfax County, VA</td>\n",
       "      <td>961999.0</td>\n",
       "      <td>480.0</td>\n",
       "      <td>8.0</td>\n",
       "      <td>41.0</td>\n",
       "      <td>130.0</td>\n",
       "      <td>301.0</td>\n",
       "      <td>12.0</td>\n",
       "      <td>49.90</td>\n",
       "      <td>0.83</td>\n",
       "      <td>4.26</td>\n",
       "      <td>13.51</td>\n",
       "      <td>31.29</td>\n",
       "    </tr>\n",
       "    <tr>\n",
       "      <th>2088</th>\n",
       "      <td>2005</td>\n",
       "      <td>VA02901</td>\n",
       "      <td>Fairfax County, VA</td>\n",
       "      <td>980586.0</td>\n",
       "      <td>575.0</td>\n",
       "      <td>14.0</td>\n",
       "      <td>57.0</td>\n",
       "      <td>206.0</td>\n",
       "      <td>298.0</td>\n",
       "      <td>12.0</td>\n",
       "      <td>58.64</td>\n",
       "      <td>1.43</td>\n",
       "      <td>5.81</td>\n",
       "      <td>21.01</td>\n",
       "      <td>30.39</td>\n",
       "    </tr>\n",
       "    <tr>\n",
       "      <th>2019</th>\n",
       "      <td>2004</td>\n",
       "      <td>VA02901</td>\n",
       "      <td>Fairfax County, VA</td>\n",
       "      <td>973406.0</td>\n",
       "      <td>594.0</td>\n",
       "      <td>2.0</td>\n",
       "      <td>32.0</td>\n",
       "      <td>206.0</td>\n",
       "      <td>354.0</td>\n",
       "      <td>12.0</td>\n",
       "      <td>61.02</td>\n",
       "      <td>0.21</td>\n",
       "      <td>3.29</td>\n",
       "      <td>21.16</td>\n",
       "      <td>36.37</td>\n",
       "    </tr>\n",
       "  </tbody>\n",
       "</table>\n",
       "</div>"
      ],
      "text/plain": [
       "      report_year agency_code agency_jurisdiction  population  violent_crimes  \\\n",
       "1743         2000     VA02901  Fairfax County, VA    933641.0           154.0   \n",
       "1812         2001     VA02901  Fairfax County, VA    948050.0           249.0   \n",
       "1881         2002     VA02901  Fairfax County, VA    961999.0           480.0   \n",
       "2088         2005     VA02901  Fairfax County, VA    980586.0           575.0   \n",
       "2019         2004     VA02901  Fairfax County, VA    973406.0           594.0   \n",
       "\n",
       "      homicides  rapes  assaults  robberies  months_reported  \\\n",
       "1743        2.0   30.0      15.0      107.0             12.0   \n",
       "1812        2.0   32.0      42.0      173.0             12.0   \n",
       "1881        8.0   41.0     130.0      301.0             12.0   \n",
       "2088       14.0   57.0     206.0      298.0             12.0   \n",
       "2019        2.0   32.0     206.0      354.0             12.0   \n",
       "\n",
       "      crimes_percapita  homicides_percapita  rapes_percapita  \\\n",
       "1743             16.49                 0.21             3.21   \n",
       "1812             26.26                 0.21             3.38   \n",
       "1881             49.90                 0.83             4.26   \n",
       "2088             58.64                 1.43             5.81   \n",
       "2019             61.02                 0.21             3.29   \n",
       "\n",
       "      assaults_percapita  robberies_percapita  \n",
       "1743                1.61                11.46  \n",
       "1812                4.43                18.25  \n",
       "1881               13.51                31.29  \n",
       "2088               21.01                30.39  \n",
       "2019               21.16                36.37  "
      ]
     },
     "execution_count": 224,
     "metadata": {},
     "output_type": "execute_result"
    }
   ],
   "source": [
    "df.head(5)\n"
   ]
  },
  {
   "cell_type": "markdown",
   "metadata": {},
   "source": [
    "### Dataframe Type, Dataframe Row & Column:   "
   ]
  },
  {
   "cell_type": "code",
   "execution_count": 225,
   "metadata": {},
   "outputs": [
    {
     "data": {
      "text/plain": [
       "pandas.core.frame.DataFrame"
      ]
     },
     "execution_count": 225,
     "metadata": {},
     "output_type": "execute_result"
    }
   ],
   "source": [
    "type(df)"
   ]
  },
  {
   "cell_type": "code",
   "execution_count": 226,
   "metadata": {},
   "outputs": [
    {
     "name": "stdout",
     "output_type": "stream",
     "text": [
      "Row:  2829\n"
     ]
    }
   ],
   "source": [
    "print(\"Row: \",df.shape[0])"
   ]
  },
  {
   "cell_type": "code",
   "execution_count": 227,
   "metadata": {},
   "outputs": [
    {
     "name": "stdout",
     "output_type": "stream",
     "text": [
      "Column:  15\n"
     ]
    }
   ],
   "source": [
    "print(\"Column: \",df.shape[1])"
   ]
  },
  {
   "cell_type": "markdown",
   "metadata": {},
   "source": [
    "The dataset has total 2829 rows and 15 columns. The data are collected from 1975 to 2015. "
   ]
  },
  {
   "cell_type": "markdown",
   "metadata": {},
   "source": [
    "### Percentiles of the numerical values: \n"
   ]
  },
  {
   "cell_type": "code",
   "execution_count": 228,
   "metadata": {},
   "outputs": [
    {
     "data": {
      "text/plain": [
       "count    2.760000e+03\n",
       "mean     7.956981e+05\n",
       "std      1.012451e+06\n",
       "min      1.007630e+05\n",
       "25%      3.779310e+05\n",
       "50%      5.366145e+05\n",
       "75%      8.168558e+05\n",
       "max      8.550861e+06\n",
       "Name: population, dtype: float64"
      ]
     },
     "execution_count": 228,
     "metadata": {},
     "output_type": "execute_result"
    }
   ],
   "source": [
    "#1 Population information over 40 years in multiple cities \n",
    "population=df.population # create pandas series from dataframe \n",
    "population.describe() # print different aspects of data \n",
    "\n"
   ]
  },
  {
   "cell_type": "code",
   "execution_count": 229,
   "metadata": {},
   "outputs": [
    {
     "data": {
      "text/plain": [
       "count    2.794000e+03\n",
       "mean     2.963255e+04\n",
       "std      1.728630e+05\n",
       "min      1.540000e+02\n",
       "25%      3.014750e+03\n",
       "50%      5.135500e+03\n",
       "75%      9.058500e+03\n",
       "max      1.932274e+06\n",
       "Name: violent_crimes, dtype: float64"
      ]
     },
     "execution_count": 229,
     "metadata": {},
     "output_type": "execute_result"
    }
   ],
   "source": [
    "# 2 Violent crimes over 40 years in multiple cities \n",
    "violent_crimes=df.violent_crimes  # create pandas series from dataframe\n",
    "violent_crimes.describe()# print different aspects of data "
   ]
  },
  {
   "cell_type": "code",
   "execution_count": 230,
   "metadata": {},
   "outputs": [
    {
     "data": {
      "text/plain": [
       "count     2795.000000\n",
       "mean       398.385331\n",
       "std       2281.276402\n",
       "min          1.000000\n",
       "25%         32.000000\n",
       "50%         64.000000\n",
       "75%        131.000000\n",
       "max      24703.000000\n",
       "Name: homicides, dtype: float64"
      ]
     },
     "execution_count": 230,
     "metadata": {},
     "output_type": "execute_result"
    }
   ],
   "source": [
    "#3  Homicides over 40 years in multiple cities \n",
    "homicides=df.homicides # create pandas series from dataframe\n",
    "homicides.describe() # print different aspects of data "
   ]
  },
  {
   "cell_type": "code",
   "execution_count": 231,
   "metadata": {},
   "outputs": [
    {
     "data": {
      "text/plain": [
       "count    2794.000000\n",
       "mean     1093.049810\n",
       "std       676.884678\n",
       "min        16.490000\n",
       "25%       625.082500\n",
       "50%       949.680000\n",
       "75%      1409.507500\n",
       "max      4352.830000\n",
       "Name: crimes_percapita, dtype: float64"
      ]
     },
     "execution_count": 231,
     "metadata": {},
     "output_type": "execute_result"
    }
   ],
   "source": [
    "#4  Crimes percapita over 40 years in multiple cities \n",
    "crimes_percapita=df.crimes_percapita # create pandas series from dataframe\n",
    "crimes_percapita.describe() # print different aspects of data "
   ]
  },
  {
   "cell_type": "markdown",
   "metadata": {},
   "source": [
    "The above paragraphs show the different aspects of multiple columns of data set. The information includes mean, max, min, and percentiles of the specific columns. \n"
   ]
  },
  {
   "cell_type": "markdown",
   "metadata": {},
   "source": [
    "# 3. One column selection"
   ]
  },
  {
   "cell_type": "code",
   "execution_count": 232,
   "metadata": {},
   "outputs": [
    {
     "name": "stdout",
     "output_type": "stream",
     "text": [
      "Index:   Values:\n"
     ]
    },
    {
     "data": {
      "text/plain": [
       "1069    4352.83\n",
       "1138    4190.84\n",
       "1037    4085.36\n",
       "1106    4050.51\n",
       "1244    4041.18\n",
       "1422    3985.29\n",
       "968     3951.40\n",
       "1276    3892.96\n",
       "1077    3881.97\n",
       "1302    3874.92\n",
       "Name: crimes_percapita, dtype: float64"
      ]
     },
     "execution_count": 232,
     "metadata": {},
     "output_type": "execute_result"
    }
   ],
   "source": [
    "# selection of  a column from dataset \n",
    "\n",
    "crimes_percapita = df['crimes_percapita'].copy() # crime per capita has selected , .copy function does not affect the original dataset columns\n",
    "print(\"Index:   Values:\") # print title \n",
    "crimes_percapita.nlargest(10) # print largest 10 values \n",
    "\n"
   ]
  },
  {
   "cell_type": "markdown",
   "metadata": {},
   "source": [
    "The highest number of crimes per capita has recored as 4353.83 for a specific year. \n"
   ]
  },
  {
   "cell_type": "markdown",
   "metadata": {},
   "source": [
    "# 4. Sort\n"
   ]
  },
  {
   "cell_type": "code",
   "execution_count": 233,
   "metadata": {},
   "outputs": [
    {
     "name": "stdout",
     "output_type": "stream",
     "text": [
      "Fresno, CA county Dataset: \n"
     ]
    },
    {
     "data": {
      "text/html": [
       "<div>\n",
       "<style scoped>\n",
       "    .dataframe tbody tr th:only-of-type {\n",
       "        vertical-align: middle;\n",
       "    }\n",
       "\n",
       "    .dataframe tbody tr th {\n",
       "        vertical-align: top;\n",
       "    }\n",
       "\n",
       "    .dataframe thead th {\n",
       "        text-align: right;\n",
       "    }\n",
       "</style>\n",
       "<table border=\"1\" class=\"dataframe\">\n",
       "  <thead>\n",
       "    <tr style=\"text-align: right;\">\n",
       "      <th></th>\n",
       "      <th>report_year</th>\n",
       "      <th>violent_crimes</th>\n",
       "      <th>homicides</th>\n",
       "      <th>rapes</th>\n",
       "      <th>robberies</th>\n",
       "    </tr>\n",
       "  </thead>\n",
       "  <tbody>\n",
       "    <tr>\n",
       "      <th>2711</th>\n",
       "      <td>2014</td>\n",
       "      <td>2382.0</td>\n",
       "      <td>47.0</td>\n",
       "      <td>53.0</td>\n",
       "      <td>781.0</td>\n",
       "    </tr>\n",
       "    <tr>\n",
       "      <th>2642</th>\n",
       "      <td>2013</td>\n",
       "      <td>2552.0</td>\n",
       "      <td>40.0</td>\n",
       "      <td>53.0</td>\n",
       "      <td>903.0</td>\n",
       "    </tr>\n",
       "    <tr>\n",
       "      <th>2573</th>\n",
       "      <td>2012</td>\n",
       "      <td>2748.0</td>\n",
       "      <td>51.0</td>\n",
       "      <td>54.0</td>\n",
       "      <td>1015.0</td>\n",
       "    </tr>\n",
       "    <tr>\n",
       "      <th>2780</th>\n",
       "      <td>2015</td>\n",
       "      <td>2871.0</td>\n",
       "      <td>39.0</td>\n",
       "      <td>167.0</td>\n",
       "      <td>1012.0</td>\n",
       "    </tr>\n",
       "    <tr>\n",
       "      <th>2504</th>\n",
       "      <td>2011</td>\n",
       "      <td>2915.0</td>\n",
       "      <td>35.0</td>\n",
       "      <td>51.0</td>\n",
       "      <td>1020.0</td>\n",
       "    </tr>\n",
       "  </tbody>\n",
       "</table>\n",
       "</div>"
      ],
      "text/plain": [
       "      report_year  violent_crimes  homicides  rapes  robberies\n",
       "2711         2014          2382.0       47.0   53.0      781.0\n",
       "2642         2013          2552.0       40.0   53.0      903.0\n",
       "2573         2012          2748.0       51.0   54.0     1015.0\n",
       "2780         2015          2871.0       39.0  167.0     1012.0\n",
       "2504         2011          2915.0       35.0   51.0     1020.0"
      ]
     },
     "execution_count": 233,
     "metadata": {},
     "output_type": "execute_result"
    }
   ],
   "source": [
    "# create new dataset: 5 columns \n",
    "df1=df[df['agency_jurisdiction']=='Fresno, CA']# dataset based on Fresno, CA county \n",
    "df2 = pd.DataFrame(df1, columns = ['report_year','violent_crimes','homicides','rapes','robberies'])\n",
    "print(\"Fresno, CA county Dataset: \")\n",
    "df2.head(5)  # print top 5 rows of new dataset\n",
    "\n"
   ]
  },
  {
   "cell_type": "code",
   "execution_count": 234,
   "metadata": {},
   "outputs": [
    {
     "name": "stdout",
     "output_type": "stream",
     "text": [
      "Top 5 Violent Crimes number:\n",
      "1331    6199.0\n",
      "1400    5659.0\n",
      "1262    5511.0\n",
      "1469    5461.0\n",
      "1193    5363.0\n",
      "Name: violent_crimes, dtype: float64\n",
      "\n",
      "Top 5 Homicides number:\n",
      "1262    87.0\n",
      "1331    84.0\n",
      "1193    81.0\n",
      "1400    71.0\n",
      "1469    69.0\n",
      "Name: homicides, dtype: float64\n"
     ]
    }
   ],
   "source": [
    "# sorting columns : violent_crimes \n",
    "violent_crimes1=df2['violent_crimes'].copy()\n",
    "ascending = violent_crimes1.sort_values(ascending=False) \n",
    "print(\"Top 5 Violent Crimes number:\")\n",
    "print(ascending[:5])\n",
    "\n",
    "\n",
    "# sorting columns : homicides\n",
    "homicides=df2['homicides'].copy()\n",
    "ascending1 = homicides.sort_values(ascending=False) \n",
    "print(\"\\nTop 5 Homicides number:\")\n",
    "print(ascending1[:5])\n",
    "\n"
   ]
  },
  {
   "cell_type": "markdown",
   "metadata": {},
   "source": [
    "### Results Explaination:\n",
    "\n",
    "The extracted new dataset will give a summary of original dataset. Here, all the required columns are gathered together for achieving our main research goals.  By analyzing it, we can get the Fresno, CA county's crimes information. "
   ]
  },
  {
   "cell_type": "markdown",
   "metadata": {},
   "source": [
    "# 5. Series:\n"
   ]
  },
  {
   "cell_type": "code",
   "execution_count": 235,
   "metadata": {},
   "outputs": [
    {
     "name": "stdout",
     "output_type": "stream",
     "text": [
      "Mean:  3358.8048780487807\n",
      "Max:  6199.0\n",
      "Min:  1141.0\n"
     ]
    }
   ],
   "source": [
    "# violent_crimes data aspects \n",
    "a=df2.violent_crimes\n",
    "print(\"Mean: \",a.mean())\n",
    "print(\"Max: \",a.max())\n",
    "print(\"Min: \",a.min())\n",
    "\n"
   ]
  },
  {
   "cell_type": "code",
   "execution_count": 236,
   "metadata": {},
   "outputs": [
    {
     "name": "stdout",
     "output_type": "stream",
     "text": [
      "Mean:  46.4390243902439\n",
      "Max:  87.0\n",
      "Min:  24.0\n"
     ]
    }
   ],
   "source": [
    "# homicides data aspects \n",
    "b=df2.homicides\n",
    "print(\"Mean: \",b.mean())\n",
    "print(\"Max: \",b.max())\n",
    "print(\"Min: \",b.min())"
   ]
  },
  {
   "cell_type": "code",
   "execution_count": 237,
   "metadata": {},
   "outputs": [
    {
     "name": "stdout",
     "output_type": "stream",
     "text": [
      "Mean:  154.34146341463415\n",
      "Max:  282.0\n",
      "Min:  51.0\n"
     ]
    }
   ],
   "source": [
    "# rapes data aspects \n",
    "c=df2.rapes\n",
    "print(\"Mean: \",c.mean())\n",
    "print(\"Max: \",c.max())\n",
    "print(\"Min: \",c.min())"
   ]
  },
  {
   "cell_type": "code",
   "execution_count": 238,
   "metadata": {},
   "outputs": [
    {
     "name": "stdout",
     "output_type": "stream",
     "text": [
      "Mean:  1362.3902439024391\n",
      "Max:  3094.0\n",
      "Min:  567.0\n"
     ]
    }
   ],
   "source": [
    "# rapes data aspects \n",
    "d=df2.robberies\n",
    "print(\"Mean: \",d.mean())\n",
    "print(\"Max: \",d.max())\n",
    "print(\"Min: \",d.min())"
   ]
  },
  {
   "cell_type": "markdown",
   "metadata": {},
   "source": [
    "The minimum, maximum, and average values of 4 four different data series will help to get an idea of those crimes situation in the recent years at Fresno county. "
   ]
  },
  {
   "cell_type": "markdown",
   "metadata": {},
   "source": [
    "# 6. Plot:\n"
   ]
  },
  {
   "cell_type": "code",
   "execution_count": 239,
   "metadata": {},
   "outputs": [
    {
     "data": {
      "image/png": "[encoded data removed]",
      "text/plain": [
       "<Figure size 640x480 with 1 Axes>"
      ]
     },
     "metadata": {},
     "output_type": "display_data"
    }
   ],
   "source": [
    "# plot violent crimes yearly using a bar chart \n",
    "\n",
    "\n",
    "import matplotlib.pyplot as plt; plt.rcdefaults()\n",
    "import numpy as np\n",
    "import matplotlib.pyplot as plt\n",
    " \n",
    "df3 = pd.DataFrame(df1, columns = ['report_year','violent_crimes','homicides','rapes','robberies'])\n",
    "\n",
    "y_pos=df3.report_year\n",
    "performance=df3.violent_crimes\n",
    "plt.bar(y_pos, performance, align='center', alpha=1)\n",
    "plt.ylabel('Violent Crimes')\n",
    "plt.xlabel('Year')\n",
    "\n",
    "plt.title('Violent Crimes per Year')\n",
    "plt.show()"
   ]
  },
  {
   "cell_type": "markdown",
   "metadata": {},
   "source": [
    "The bar chart depicts the yearly violent crimes between 1975 to 2015. In 1975, the number of violent crimes was minimum. As days going on, the violent crimes have increased and it reached maximum in 1994. After 1995, there was a trend to decrease the violent crimes.  \n"
   ]
  },
  {
   "cell_type": "code",
   "execution_count": 240,
   "metadata": {},
   "outputs": [
    {
     "data": {
      "image/png": "[encoded data removed]",
      "text/plain": [
       "<Figure size 640x480 with 1 Axes>"
      ]
     },
     "metadata": {},
     "output_type": "display_data"
    }
   ],
   "source": [
    "y_pos=df3.report_year\n",
    "performance=df3.rapes\n",
    "plt.bar(y_pos, performance, align='center', alpha=1)\n",
    "plt.ylabel('rapes ')\n",
    "plt.xlabel('Year')\n",
    "\n",
    "plt.title('rapes  per Year')\n",
    "plt.show()"
   ]
  },
  {
   "cell_type": "markdown",
   "metadata": {},
   "source": [
    "The bar chart depicts the yearly rapes between 1975 to 2015. In 2010, the number of rapes crime was minimum. The plot shows a ascending trends up-to year 1991 and depending trends after that. The maximum number hits in the year 1991. \n",
    "\n"
   ]
  },
  {
   "cell_type": "code",
   "execution_count": 241,
   "metadata": {},
   "outputs": [
    {
     "data": {
      "image/png": "[encoded data removed]",
      "text/plain": [
       "<Figure size 640x480 with 1 Axes>"
      ]
     },
     "metadata": {},
     "output_type": "display_data"
    }
   ],
   "source": [
    "y_pos=df3.report_year\n",
    "performance=df3.homicides\n",
    "plt.bar(y_pos, performance, align='center', alpha=1)\n",
    "plt.ylabel('homicides ')\n",
    "plt.xlabel('Year')\n",
    "\n",
    "plt.title('homicides  per Year')\n",
    "plt.show()"
   ]
  },
  {
   "cell_type": "markdown",
   "metadata": {},
   "source": [
    "The bar chart depicts the homicides data between 1975 to 2015. Between 1990 to 1996, the homicides number were highest. In the recent years, it shows a constant rate after the year 2000. \n",
    "\n"
   ]
  },
  {
   "cell_type": "code",
   "execution_count": 242,
   "metadata": {},
   "outputs": [
    {
     "data": {
      "image/png": "[encoded data removed]",
      "text/plain": [
       "<Figure size 640x480 with 1 Axes>"
      ]
     },
     "metadata": {},
     "output_type": "display_data"
    }
   ],
   "source": [
    "y_pos=df3.report_year\n",
    "performance=df3.robberies\n",
    "plt.bar(y_pos, performance, align='center', alpha=1)\n",
    "plt.ylabel('robberies ')\n",
    "plt.xlabel('Year')\n",
    "\n",
    "plt.title('robberies  per Year')\n",
    "plt.show()"
   ]
  },
  {
   "cell_type": "markdown",
   "metadata": {},
   "source": [
    "The bar chart depicts the robberies data between 1975 to 2015. In 1993, the highest number of robberies had occured. \n"
   ]
  },
  {
   "cell_type": "markdown",
   "metadata": {},
   "source": [
    "# 7. Summery:\n"
   ]
  },
  {
   "cell_type": "markdown",
   "metadata": {},
   "source": [
    "<p style='text-align: justify;'>\n",
    "The analysis of dataset represents a good insight of crime history of USA. The dataset is reliable ( by size, rows: 2829, columns: 15). Therefore, the chance to get almost optimal solution for small projects is moderate. <br>\n",
    "</p>\n",
    "<p style='text-align: justify;'>\n",
    "Fresno, CA county is our company's point of interest county. We want to work with the county's law enforcement authority to help the crime control and prevention of the county. The average violent  crimes  is 3358.8. From the figure, we can observe the violent crimes rate has fallen under the 40 years average number. That is the good sign for the Fresno county. \n",
    "\n",
    "<p style='text-align: justify;'>\n",
    "The average values of homicides, rapes and robberies are as follows: 46.43, 154.34, and 1362.39. The homicides plot shows the fluctuating of number of homicides in the recent years. The rapes crime had been decreased dramatically after the year of 2000 which indicated the  success of law enforcement authority. But the rates had increased in 2015 which would be concerned for them. Robberies had been reduced after  the year of 1995 and remained under control till 2015.   \n",
    "\n",
    "</p>     "
   ]
  },
  {
   "cell_type": "markdown",
   "metadata": {},
   "source": [
    "# 8. Recommendations: \n",
    "<p style='text-align: justify;'>\n",
    "Police department of Fresno should consider the following information regarding Fresno crime information. So that PD can improve the overall situation of Fresno county. These are the following suggestions: <br>\n",
    "a. Violent crimes should be kept under control. Because it had increased in 2015 after 5 years consecutive falls.<br>\n",
    "b. The number of rapes had occurred in 2015 about 175 which was almost 3 times to the previous year. <br>\n",
    "c. Homicides and Robberies crime is under control and better to keep working on this field to improve the situation. <br>\n",
    "d. Assaults occurrence had increased gradually after 2007. PD should take immediate action to control assaults crime in Fresno.\n",
    "</p>     \n",
    "\n",
    "\n",
    "\n"
   ]
  }
 ],
 "metadata": {
  "kernelspec": {
   "display_name": "Python 3",
   "language": "python",
   "name": "python3"
  },
  "language_info": {
   "codemirror_mode": {
    "name": "ipython",
    "version": 3
   },
   "file_extension": ".py",
   "mimetype": "text/x-python",
   "name": "python",
   "nbconvert_exporter": "python",
   "pygments_lexer": "ipython3",
   "version": "3.7.1"
  }
 },
 "nbformat": 4,
 "nbformat_minor": 2
}
