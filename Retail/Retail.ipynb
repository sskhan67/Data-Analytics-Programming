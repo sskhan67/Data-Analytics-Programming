{
 "cells": [
  {
   "cell_type": "markdown",
   "metadata": {},
   "source": [
    "Name: Syeduzzaman Khan\n",
    "\n",
    "Project Title: Weekly Sales Predication\n",
    "\n",
    "1. Objectives:\n",
    "Sales prediction and identifying potential shoppers are interesting topics in predictive modeling. There are several predictive model technique existing to predict sales. In our project, we will Linear Regression Model to predict the Amazon weekly sales.\n",
    "\n",
    "The purpose of this project is to analyze the three different datasets (features, store, sales) and help Amazon to predict their weekly sales.\n",
    "\n",
    "To achieve Amazon goal, we have to carefully analyze the dataset considering different perspectives. At the beginning of the project, we will get too familiar with datasets and look into different columns. Then, we will pick the relevant columns that will lead us to reach our goals. The obtained results will be visualized using plot and table."
   ]
  },
  {
   "cell_type": "markdown",
   "metadata": {},
   "source": [
    "# 2. Data Exploration: "
   ]
  },
  {
   "cell_type": "code",
   "execution_count": 1,
   "metadata": {},
   "outputs": [
    {
     "data": {
      "text/html": [
       "<table>\n",
       "<thead><tr><th scope=col>Store</th><th scope=col>Date</th><th scope=col>Temperature</th><th scope=col>Fuel_Price</th><th scope=col>MarkDown1</th><th scope=col>MarkDown2</th><th scope=col>MarkDown3</th><th scope=col>MarkDown4</th><th scope=col>MarkDown5</th><th scope=col>CPI</th><th scope=col>Unemployment</th><th scope=col>IsHoliday</th></tr></thead>\n",
       "<tbody>\n",
       "\t<tr><td>1          </td><td>05/02/2010 </td><td>42.31      </td><td>2.572      </td><td>NA         </td><td>NA         </td><td>NA         </td><td>NA         </td><td>NA         </td><td>211.0963582</td><td>8.106      </td><td>FALSE      </td></tr>\n",
       "\t<tr><td>1          </td><td>12/02/2010 </td><td>38.51      </td><td>2.548      </td><td>NA         </td><td>NA         </td><td>NA         </td><td>NA         </td><td>NA         </td><td>211.2421698</td><td>8.106      </td><td> TRUE      </td></tr>\n",
       "\t<tr><td>1          </td><td>19/02/2010 </td><td>39.93      </td><td>2.514      </td><td>NA         </td><td>NA         </td><td>NA         </td><td>NA         </td><td>NA         </td><td>211.2891429</td><td>8.106      </td><td>FALSE      </td></tr>\n",
       "\t<tr><td>1          </td><td>26/02/2010 </td><td>46.63      </td><td>2.561      </td><td>NA         </td><td>NA         </td><td>NA         </td><td>NA         </td><td>NA         </td><td>211.3196429</td><td>8.106      </td><td>FALSE      </td></tr>\n",
       "\t<tr><td>1          </td><td>05/03/2010 </td><td>46.50      </td><td>2.625      </td><td>NA         </td><td>NA         </td><td>NA         </td><td>NA         </td><td>NA         </td><td>211.3501429</td><td>8.106      </td><td>FALSE      </td></tr>\n",
       "\t<tr><td>1          </td><td>12/03/2010 </td><td>57.79      </td><td>2.667      </td><td>NA         </td><td>NA         </td><td>NA         </td><td>NA         </td><td>NA         </td><td>211.3806429</td><td>8.106      </td><td>FALSE      </td></tr>\n",
       "</tbody>\n",
       "</table>\n"
      ],
      "text/latex": [
       "\\begin{tabular}{r|llllllllllll}\n",
       " Store & Date & Temperature & Fuel\\_Price & MarkDown1 & MarkDown2 & MarkDown3 & MarkDown4 & MarkDown5 & CPI & Unemployment & IsHoliday\\\\\n",
       "\\hline\n",
       "\t 1           & 05/02/2010  & 42.31       & 2.572       & NA          & NA          & NA          & NA          & NA          & 211.0963582 & 8.106       & FALSE      \\\\\n",
       "\t 1           & 12/02/2010  & 38.51       & 2.548       & NA          & NA          & NA          & NA          & NA          & 211.2421698 & 8.106       &  TRUE      \\\\\n",
       "\t 1           & 19/02/2010  & 39.93       & 2.514       & NA          & NA          & NA          & NA          & NA          & 211.2891429 & 8.106       & FALSE      \\\\\n",
       "\t 1           & 26/02/2010  & 46.63       & 2.561       & NA          & NA          & NA          & NA          & NA          & 211.3196429 & 8.106       & FALSE      \\\\\n",
       "\t 1           & 05/03/2010  & 46.50       & 2.625       & NA          & NA          & NA          & NA          & NA          & 211.3501429 & 8.106       & FALSE      \\\\\n",
       "\t 1           & 12/03/2010  & 57.79       & 2.667       & NA          & NA          & NA          & NA          & NA          & 211.3806429 & 8.106       & FALSE      \\\\\n",
       "\\end{tabular}\n"
      ],
      "text/markdown": [
       "\n",
       "Store | Date | Temperature | Fuel_Price | MarkDown1 | MarkDown2 | MarkDown3 | MarkDown4 | MarkDown5 | CPI | Unemployment | IsHoliday | \n",
       "|---|---|---|---|---|---|\n",
       "| 1           | 05/02/2010  | 42.31       | 2.572       | NA          | NA          | NA          | NA          | NA          | 211.0963582 | 8.106       | FALSE       | \n",
       "| 1           | 12/02/2010  | 38.51       | 2.548       | NA          | NA          | NA          | NA          | NA          | 211.2421698 | 8.106       |  TRUE       | \n",
       "| 1           | 19/02/2010  | 39.93       | 2.514       | NA          | NA          | NA          | NA          | NA          | 211.2891429 | 8.106       | FALSE       | \n",
       "| 1           | 26/02/2010  | 46.63       | 2.561       | NA          | NA          | NA          | NA          | NA          | 211.3196429 | 8.106       | FALSE       | \n",
       "| 1           | 05/03/2010  | 46.50       | 2.625       | NA          | NA          | NA          | NA          | NA          | 211.3501429 | 8.106       | FALSE       | \n",
       "| 1           | 12/03/2010  | 57.79       | 2.667       | NA          | NA          | NA          | NA          | NA          | 211.3806429 | 8.106       | FALSE       | \n",
       "\n",
       "\n"
      ],
      "text/plain": [
       "  Store Date       Temperature Fuel_Price MarkDown1 MarkDown2 MarkDown3\n",
       "1 1     05/02/2010 42.31       2.572      NA        NA        NA       \n",
       "2 1     12/02/2010 38.51       2.548      NA        NA        NA       \n",
       "3 1     19/02/2010 39.93       2.514      NA        NA        NA       \n",
       "4 1     26/02/2010 46.63       2.561      NA        NA        NA       \n",
       "5 1     05/03/2010 46.50       2.625      NA        NA        NA       \n",
       "6 1     12/03/2010 57.79       2.667      NA        NA        NA       \n",
       "  MarkDown4 MarkDown5 CPI         Unemployment IsHoliday\n",
       "1 NA        NA        211.0963582 8.106        FALSE    \n",
       "2 NA        NA        211.2421698 8.106         TRUE    \n",
       "3 NA        NA        211.2891429 8.106        FALSE    \n",
       "4 NA        NA        211.3196429 8.106        FALSE    \n",
       "5 NA        NA        211.3501429 8.106        FALSE    \n",
       "6 NA        NA        211.3806429 8.106        FALSE    "
      ]
     },
     "metadata": {},
     "output_type": "display_data"
    }
   ],
   "source": [
    "# read csv file \n",
    "features <- read.csv (\"Features data set.csv\", na.strings=\"\",stringsAsFactors=FALSE)\n",
    "head(features)"
   ]
  },
  {
   "cell_type": "code",
   "execution_count": 2,
   "metadata": {},
   "outputs": [
    {
     "name": "stdout",
     "output_type": "stream",
     "text": [
      "\n",
      "Percentiles of Temperature : \n"
     ]
    },
    {
     "data": {
      "text/html": [
       "<dl class=dl-horizontal>\n",
       "\t<dt>25%</dt>\n",
       "\t\t<dd>45.9025</dd>\n",
       "\t<dt>50%</dt>\n",
       "\t\t<dd>60.71</dd>\n",
       "\t<dt>75%</dt>\n",
       "\t\t<dd>73.88</dd>\n",
       "</dl>\n"
      ],
      "text/latex": [
       "\\begin{description*}\n",
       "\\item[25\\textbackslash{}\\%] 45.9025\n",
       "\\item[50\\textbackslash{}\\%] 60.71\n",
       "\\item[75\\textbackslash{}\\%] 73.88\n",
       "\\end{description*}\n"
      ],
      "text/markdown": [
       "25%\n",
       ":   45.902550%\n",
       ":   60.7175%\n",
       ":   73.88\n",
       "\n"
      ],
      "text/plain": [
       "    25%     50%     75% \n",
       "45.9025 60.7100 73.8800 "
      ]
     },
     "metadata": {},
     "output_type": "display_data"
    }
   ],
   "source": [
    "# Percentiles of the Temperature\n",
    "\n",
    "Temperature<-features$Temperature # sotre Temperature to Temperature variable \n",
    "Temperature[Temperature==\"NA\"] <- \"0\" # missing values set to zero \n",
    "Temperature<-as.numeric(Temperature)# convert to number\n",
    "cat(\"\\nPercentiles of Temperature : \\n\")\n",
    "quantile(Temperature, prob = c(0.25, 0.50, 0.75)) # percentiles of Temperature"
   ]
  },
  {
   "cell_type": "code",
   "execution_count": 3,
   "metadata": {},
   "outputs": [
    {
     "data": {
      "text/html": [
       "<table>\n",
       "<thead><tr><th scope=col>Store</th><th scope=col>Dept</th><th scope=col>Date</th><th scope=col>Weekly_Sales</th><th scope=col>IsHoliday</th></tr></thead>\n",
       "<tbody>\n",
       "\t<tr><td>1         </td><td>1         </td><td>5/2/10    </td><td>24924.50  </td><td>FALSE     </td></tr>\n",
       "\t<tr><td>1         </td><td>1         </td><td>12/2/10   </td><td>46039.49  </td><td> TRUE     </td></tr>\n",
       "\t<tr><td>1         </td><td>1         </td><td>19/02/2010</td><td>41595.55  </td><td>FALSE     </td></tr>\n",
       "\t<tr><td>1         </td><td>1         </td><td>26/02/2010</td><td>19403.54  </td><td>FALSE     </td></tr>\n",
       "\t<tr><td>1         </td><td>1         </td><td>5/3/10    </td><td>21827.90  </td><td>FALSE     </td></tr>\n",
       "\t<tr><td>1         </td><td>1         </td><td>12/3/10   </td><td>21043.39  </td><td>FALSE     </td></tr>\n",
       "</tbody>\n",
       "</table>\n"
      ],
      "text/latex": [
       "\\begin{tabular}{r|lllll}\n",
       " Store & Dept & Date & Weekly\\_Sales & IsHoliday\\\\\n",
       "\\hline\n",
       "\t 1          & 1          & 5/2/10     & 24924.50   & FALSE     \\\\\n",
       "\t 1          & 1          & 12/2/10    & 46039.49   &  TRUE     \\\\\n",
       "\t 1          & 1          & 19/02/2010 & 41595.55   & FALSE     \\\\\n",
       "\t 1          & 1          & 26/02/2010 & 19403.54   & FALSE     \\\\\n",
       "\t 1          & 1          & 5/3/10     & 21827.90   & FALSE     \\\\\n",
       "\t 1          & 1          & 12/3/10    & 21043.39   & FALSE     \\\\\n",
       "\\end{tabular}\n"
      ],
      "text/markdown": [
       "\n",
       "Store | Dept | Date | Weekly_Sales | IsHoliday | \n",
       "|---|---|---|---|---|---|\n",
       "| 1          | 1          | 5/2/10     | 24924.50   | FALSE      | \n",
       "| 1          | 1          | 12/2/10    | 46039.49   |  TRUE      | \n",
       "| 1          | 1          | 19/02/2010 | 41595.55   | FALSE      | \n",
       "| 1          | 1          | 26/02/2010 | 19403.54   | FALSE      | \n",
       "| 1          | 1          | 5/3/10     | 21827.90   | FALSE      | \n",
       "| 1          | 1          | 12/3/10    | 21043.39   | FALSE      | \n",
       "\n",
       "\n"
      ],
      "text/plain": [
       "  Store Dept Date       Weekly_Sales IsHoliday\n",
       "1 1     1    5/2/10     24924.50     FALSE    \n",
       "2 1     1    12/2/10    46039.49      TRUE    \n",
       "3 1     1    19/02/2010 41595.55     FALSE    \n",
       "4 1     1    26/02/2010 19403.54     FALSE    \n",
       "5 1     1    5/3/10     21827.90     FALSE    \n",
       "6 1     1    12/3/10    21043.39     FALSE    "
      ]
     },
     "metadata": {},
     "output_type": "display_data"
    }
   ],
   "source": [
    "# read csv file \n",
    "sales_data <- read.csv (\"sales data-set.csv\", na.strings=\"\",stringsAsFactors=FALSE)\n",
    "head(sales_data )"
   ]
  },
  {
   "cell_type": "code",
   "execution_count": 4,
   "metadata": {},
   "outputs": [
    {
     "name": "stdout",
     "output_type": "stream",
     "text": [
      "\n",
      "Percentiles of Weekly_Sales : \n",
      "Average weekly sales: \n",
      "[1] 15985.88\n"
     ]
    }
   ],
   "source": [
    "# Percentiles of the Weekly_Sales\n",
    "\n",
    "Weekly_Sales<-sales_data$Weekly_Sales # sotre Weekly_Sales to Weekly_Sales variable \n",
    "Weekly_Sales[Weekly_Sales==\"NA\"] <- \"0\" # missing values set to zero \n",
    "Weekly_Sales<-as.numeric(Weekly_Sales)# convert to number\n",
    "cat(\"\\nPercentiles of Weekly_Sales : \\n\")\n",
    "#quantile( (sales_data$Weekly_Sales, na.rm = TRUE), prob = c(0.25, 0.50, 0.75)) # percentiles of Weekly_Sales\n",
    "\n",
    "cat(\"Average weekly sales: \\n\")\n",
    "print(mean(Weekly_Sales,na.rm = TRUE))"
   ]
  },
  {
   "cell_type": "code",
   "execution_count": 5,
   "metadata": {},
   "outputs": [
    {
     "data": {
      "text/html": [
       "<table>\n",
       "<thead><tr><th scope=col>Store</th><th scope=col>Type</th><th scope=col>Size</th></tr></thead>\n",
       "<tbody>\n",
       "\t<tr><td>1     </td><td>A     </td><td>151315</td></tr>\n",
       "\t<tr><td>2     </td><td>A     </td><td>202307</td></tr>\n",
       "\t<tr><td>3     </td><td>B     </td><td> 37392</td></tr>\n",
       "\t<tr><td>4     </td><td>A     </td><td>205863</td></tr>\n",
       "\t<tr><td>5     </td><td>B     </td><td> 34875</td></tr>\n",
       "\t<tr><td>6     </td><td>A     </td><td>202505</td></tr>\n",
       "</tbody>\n",
       "</table>\n"
      ],
      "text/latex": [
       "\\begin{tabular}{r|lll}\n",
       " Store & Type & Size\\\\\n",
       "\\hline\n",
       "\t 1      & A      & 151315\\\\\n",
       "\t 2      & A      & 202307\\\\\n",
       "\t 3      & B      &  37392\\\\\n",
       "\t 4      & A      & 205863\\\\\n",
       "\t 5      & B      &  34875\\\\\n",
       "\t 6      & A      & 202505\\\\\n",
       "\\end{tabular}\n"
      ],
      "text/markdown": [
       "\n",
       "Store | Type | Size | \n",
       "|---|---|---|---|---|---|\n",
       "| 1      | A      | 151315 | \n",
       "| 2      | A      | 202307 | \n",
       "| 3      | B      |  37392 | \n",
       "| 4      | A      | 205863 | \n",
       "| 5      | B      |  34875 | \n",
       "| 6      | A      | 202505 | \n",
       "\n",
       "\n"
      ],
      "text/plain": [
       "  Store Type Size  \n",
       "1 1     A    151315\n",
       "2 2     A    202307\n",
       "3 3     B     37392\n",
       "4 4     A    205863\n",
       "5 5     B     34875\n",
       "6 6     A    202505"
      ]
     },
     "metadata": {},
     "output_type": "display_data"
    }
   ],
   "source": [
    "# read csv file \n",
    "stores_data <- read.csv (\"stores data-set.csv\", na.strings=\"\",stringsAsFactors=FALSE)\n",
    "head(stores_data  )"
   ]
  },
  {
   "cell_type": "code",
   "execution_count": 6,
   "metadata": {},
   "outputs": [
    {
     "name": "stdout",
     "output_type": "stream",
     "text": [
      "\n",
      "Percentiles of Store Size : \n"
     ]
    },
    {
     "data": {
      "text/html": [
       "<dl class=dl-horizontal>\n",
       "\t<dt>25%</dt>\n",
       "\t\t<dd>70713</dd>\n",
       "\t<dt>50%</dt>\n",
       "\t\t<dd>126512</dd>\n",
       "\t<dt>75%</dt>\n",
       "\t\t<dd>202307</dd>\n",
       "</dl>\n"
      ],
      "text/latex": [
       "\\begin{description*}\n",
       "\\item[25\\textbackslash{}\\%] 70713\n",
       "\\item[50\\textbackslash{}\\%] 126512\n",
       "\\item[75\\textbackslash{}\\%] 202307\n",
       "\\end{description*}\n"
      ],
      "text/markdown": [
       "25%\n",
       ":   7071350%\n",
       ":   12651275%\n",
       ":   202307\n",
       "\n"
      ],
      "text/plain": [
       "   25%    50%    75% \n",
       " 70713 126512 202307 "
      ]
     },
     "metadata": {},
     "output_type": "display_data"
    },
    {
     "name": "stdout",
     "output_type": "stream",
     "text": [
      "Average Store Size: \n",
      "[1] 130287.6\n"
     ]
    }
   ],
   "source": [
    "# Percentiles of the stores_Size\n",
    "\n",
    "Size<-stores_data$Size # sotre Weekly_Sales to Size variable \n",
    "Size[Size==\"NA\"] <- \"0\" # missing values set to zero \n",
    "Size<-as.numeric(Size)# convert to number\n",
    "cat(\"\\nPercentiles of Store Size : \\n\")\n",
    "quantile(Size, prob = c(0.25, 0.50, 0.75)) # percentiles of Size\n",
    "\n",
    "cat(\"Average Store Size: \\n\")\n",
    "print(mean(Size))"
   ]
  },
  {
   "cell_type": "markdown",
   "metadata": {},
   "source": [
    "# 3 Merge:"
   ]
  },
  {
   "cell_type": "code",
   "execution_count": 7,
   "metadata": {},
   "outputs": [],
   "source": [
    "m1<-merge(features,sales_data,by=c(\"Date\",\"Store\"),all=T)\n"
   ]
  },
  {
   "cell_type": "code",
   "execution_count": 8,
   "metadata": {},
   "outputs": [
    {
     "data": {
      "text/html": [
       "<table>\n",
       "<thead><tr><th scope=col>Date</th><th scope=col>Store</th><th scope=col>Temperature</th><th scope=col>Fuel_Price</th><th scope=col>MarkDown1</th><th scope=col>MarkDown2</th><th scope=col>MarkDown3</th><th scope=col>MarkDown4</th><th scope=col>MarkDown5</th><th scope=col>CPI</th><th scope=col>Unemployment</th><th scope=col>IsHoliday.x</th><th scope=col>Dept</th><th scope=col>Weekly_Sales</th><th scope=col>IsHoliday.y</th></tr></thead>\n",
       "<tbody>\n",
       "\t<tr><td>01/02/2013 </td><td>1          </td><td>56.46      </td><td>3.244      </td><td>9290.91    </td><td>1359.9     </td><td>265        </td><td>20657.82   </td><td>972.61     </td><td>224.2352903</td><td>6.525      </td><td>FALSE      </td><td>NA         </td><td>NA         </td><td>NA         </td></tr>\n",
       "\t<tr><td>01/02/2013 </td><td>2          </td><td>54.75      </td><td>3.244      </td><td>13078.9    </td><td>1642.02    </td><td>545.2      </td><td>12725.35   </td><td>5002.74    </td><td>223.8691966</td><td>6.237      </td><td>FALSE      </td><td>NA         </td><td>NA         </td><td>NA         </td></tr>\n",
       "\t<tr><td>01/02/2013 </td><td>3          </td><td>62.81      </td><td>3.244      </td><td>2513.52    </td><td>665.85     </td><td>30         </td><td>3221.12    </td><td>679.96     </td><td>227.7801362</td><td>6.108      </td><td>FALSE      </td><td>NA         </td><td>NA         </td><td>NA         </td></tr>\n",
       "\t<tr><td>01/02/2013 </td><td>4          </td><td>49.07      </td><td>3.232      </td><td>27134.98   </td><td>861.18     </td><td>870.2      </td><td>29210.08   </td><td>1663.48    </td><td>132.1537097</td><td>3.921      </td><td>FALSE      </td><td>NA         </td><td>NA         </td><td>NA         </td></tr>\n",
       "\t<tr><td>01/02/2013 </td><td>5          </td><td>58.99      </td><td>3.244      </td><td>4697.68    </td><td>637.17     </td><td>30         </td><td>5803.02    </td><td>970.8      </td><td>224.8291434</td><td>5.494      </td><td>FALSE      </td><td>NA         </td><td>NA         </td><td>NA         </td></tr>\n",
       "</tbody>\n",
       "</table>\n"
      ],
      "text/latex": [
       "\\begin{tabular}{r|lllllllllllllll}\n",
       " Date & Store & Temperature & Fuel\\_Price & MarkDown1 & MarkDown2 & MarkDown3 & MarkDown4 & MarkDown5 & CPI & Unemployment & IsHoliday.x & Dept & Weekly\\_Sales & IsHoliday.y\\\\\n",
       "\\hline\n",
       "\t 01/02/2013  & 1           & 56.46       & 3.244       & 9290.91     & 1359.9      & 265         & 20657.82    & 972.61      & 224.2352903 & 6.525       & FALSE       & NA          & NA          & NA         \\\\\n",
       "\t 01/02/2013  & 2           & 54.75       & 3.244       & 13078.9     & 1642.02     & 545.2       & 12725.35    & 5002.74     & 223.8691966 & 6.237       & FALSE       & NA          & NA          & NA         \\\\\n",
       "\t 01/02/2013  & 3           & 62.81       & 3.244       & 2513.52     & 665.85      & 30          & 3221.12     & 679.96      & 227.7801362 & 6.108       & FALSE       & NA          & NA          & NA         \\\\\n",
       "\t 01/02/2013  & 4           & 49.07       & 3.232       & 27134.98    & 861.18      & 870.2       & 29210.08    & 1663.48     & 132.1537097 & 3.921       & FALSE       & NA          & NA          & NA         \\\\\n",
       "\t 01/02/2013  & 5           & 58.99       & 3.244       & 4697.68     & 637.17      & 30          & 5803.02     & 970.8       & 224.8291434 & 5.494       & FALSE       & NA          & NA          & NA         \\\\\n",
       "\\end{tabular}\n"
      ],
      "text/markdown": [
       "\n",
       "Date | Store | Temperature | Fuel_Price | MarkDown1 | MarkDown2 | MarkDown3 | MarkDown4 | MarkDown5 | CPI | Unemployment | IsHoliday.x | Dept | Weekly_Sales | IsHoliday.y | \n",
       "|---|---|---|---|---|\n",
       "| 01/02/2013  | 1           | 56.46       | 3.244       | 9290.91     | 1359.9      | 265         | 20657.82    | 972.61      | 224.2352903 | 6.525       | FALSE       | NA          | NA          | NA          | \n",
       "| 01/02/2013  | 2           | 54.75       | 3.244       | 13078.9     | 1642.02     | 545.2       | 12725.35    | 5002.74     | 223.8691966 | 6.237       | FALSE       | NA          | NA          | NA          | \n",
       "| 01/02/2013  | 3           | 62.81       | 3.244       | 2513.52     | 665.85      | 30          | 3221.12     | 679.96      | 227.7801362 | 6.108       | FALSE       | NA          | NA          | NA          | \n",
       "| 01/02/2013  | 4           | 49.07       | 3.232       | 27134.98    | 861.18      | 870.2       | 29210.08    | 1663.48     | 132.1537097 | 3.921       | FALSE       | NA          | NA          | NA          | \n",
       "| 01/02/2013  | 5           | 58.99       | 3.244       | 4697.68     | 637.17      | 30          | 5803.02     | 970.8       | 224.8291434 | 5.494       | FALSE       | NA          | NA          | NA          | \n",
       "\n",
       "\n"
      ],
      "text/plain": [
       "  Date       Store Temperature Fuel_Price MarkDown1 MarkDown2 MarkDown3\n",
       "1 01/02/2013 1     56.46       3.244      9290.91   1359.9    265      \n",
       "2 01/02/2013 2     54.75       3.244      13078.9   1642.02   545.2    \n",
       "3 01/02/2013 3     62.81       3.244      2513.52   665.85    30       \n",
       "4 01/02/2013 4     49.07       3.232      27134.98  861.18    870.2    \n",
       "5 01/02/2013 5     58.99       3.244      4697.68   637.17    30       \n",
       "  MarkDown4 MarkDown5 CPI         Unemployment IsHoliday.x Dept Weekly_Sales\n",
       "1 20657.82  972.61    224.2352903 6.525        FALSE       NA   NA          \n",
       "2 12725.35  5002.74   223.8691966 6.237        FALSE       NA   NA          \n",
       "3 3221.12   679.96    227.7801362 6.108        FALSE       NA   NA          \n",
       "4 29210.08  1663.48   132.1537097 3.921        FALSE       NA   NA          \n",
       "5 5803.02   970.8     224.8291434 5.494        FALSE       NA   NA          \n",
       "  IsHoliday.y\n",
       "1 NA         \n",
       "2 NA         \n",
       "3 NA         \n",
       "4 NA         \n",
       "5 NA         "
      ]
     },
     "metadata": {},
     "output_type": "display_data"
    }
   ],
   "source": [
    "head(m1,5)"
   ]
  },
  {
   "cell_type": "code",
   "execution_count": 9,
   "metadata": {},
   "outputs": [],
   "source": [
    "sales_all<- merge(m1,stores_data,by.y=\"Store\")\n"
   ]
  },
  {
   "cell_type": "code",
   "execution_count": 10,
   "metadata": {},
   "outputs": [
    {
     "data": {
      "text/html": [
       "<table>\n",
       "<thead><tr><th scope=col>Store</th><th scope=col>Date</th><th scope=col>Temperature</th><th scope=col>Fuel_Price</th><th scope=col>MarkDown1</th><th scope=col>MarkDown2</th><th scope=col>MarkDown3</th><th scope=col>MarkDown4</th><th scope=col>MarkDown5</th><th scope=col>CPI</th><th scope=col>Unemployment</th><th scope=col>IsHoliday.x</th><th scope=col>Dept</th><th scope=col>Weekly_Sales</th><th scope=col>IsHoliday.y</th><th scope=col>Type</th><th scope=col>Size</th></tr></thead>\n",
       "<tbody>\n",
       "\t<tr><td>1          </td><td>22/06/2012 </td><td>78.39      </td><td>3.346      </td><td>8624.56    </td><td>171.25     </td><td>3.05       </td><td>2524.07    </td><td>7063.68    </td><td>221.8030211</td><td>7.143      </td><td>FALSE      </td><td>41         </td><td>  408.46   </td><td>FALSE      </td><td>A          </td><td>151315     </td></tr>\n",
       "\t<tr><td>1          </td><td>22/06/2012 </td><td>78.39      </td><td>3.346      </td><td>8624.56    </td><td>171.25     </td><td>3.05       </td><td>2524.07    </td><td>7063.68    </td><td>221.8030211</td><td>7.143      </td><td>FALSE      </td><td>98         </td><td>11613.22   </td><td>FALSE      </td><td>A          </td><td>151315     </td></tr>\n",
       "\t<tr><td>1          </td><td>22/06/2012 </td><td>78.39      </td><td>3.346      </td><td>8624.56    </td><td>171.25     </td><td>3.05       </td><td>2524.07    </td><td>7063.68    </td><td>221.8030211</td><td>7.143      </td><td>FALSE      </td><td>80         </td><td>19063.50   </td><td>FALSE      </td><td>A          </td><td>151315     </td></tr>\n",
       "\t<tr><td>1          </td><td>22/06/2012 </td><td>78.39      </td><td>3.346      </td><td>8624.56    </td><td>171.25     </td><td>3.05       </td><td>2524.07    </td><td>7063.68    </td><td>221.8030211</td><td>7.143      </td><td>FALSE      </td><td>44         </td><td> 3897.52   </td><td>FALSE      </td><td>A          </td><td>151315     </td></tr>\n",
       "\t<tr><td>1          </td><td>22/06/2012 </td><td>78.39      </td><td>3.346      </td><td>8624.56    </td><td>171.25     </td><td>3.05       </td><td>2524.07    </td><td>7063.68    </td><td>221.8030211</td><td>7.143      </td><td>FALSE      </td><td>16         </td><td>36362.45   </td><td>FALSE      </td><td>A          </td><td>151315     </td></tr>\n",
       "</tbody>\n",
       "</table>\n"
      ],
      "text/latex": [
       "\\begin{tabular}{r|lllllllllllllllll}\n",
       " Store & Date & Temperature & Fuel\\_Price & MarkDown1 & MarkDown2 & MarkDown3 & MarkDown4 & MarkDown5 & CPI & Unemployment & IsHoliday.x & Dept & Weekly\\_Sales & IsHoliday.y & Type & Size\\\\\n",
       "\\hline\n",
       "\t 1           & 22/06/2012  & 78.39       & 3.346       & 8624.56     & 171.25      & 3.05        & 2524.07     & 7063.68     & 221.8030211 & 7.143       & FALSE       & 41          &   408.46    & FALSE       & A           & 151315     \\\\\n",
       "\t 1           & 22/06/2012  & 78.39       & 3.346       & 8624.56     & 171.25      & 3.05        & 2524.07     & 7063.68     & 221.8030211 & 7.143       & FALSE       & 98          & 11613.22    & FALSE       & A           & 151315     \\\\\n",
       "\t 1           & 22/06/2012  & 78.39       & 3.346       & 8624.56     & 171.25      & 3.05        & 2524.07     & 7063.68     & 221.8030211 & 7.143       & FALSE       & 80          & 19063.50    & FALSE       & A           & 151315     \\\\\n",
       "\t 1           & 22/06/2012  & 78.39       & 3.346       & 8624.56     & 171.25      & 3.05        & 2524.07     & 7063.68     & 221.8030211 & 7.143       & FALSE       & 44          &  3897.52    & FALSE       & A           & 151315     \\\\\n",
       "\t 1           & 22/06/2012  & 78.39       & 3.346       & 8624.56     & 171.25      & 3.05        & 2524.07     & 7063.68     & 221.8030211 & 7.143       & FALSE       & 16          & 36362.45    & FALSE       & A           & 151315     \\\\\n",
       "\\end{tabular}\n"
      ],
      "text/markdown": [
       "\n",
       "Store | Date | Temperature | Fuel_Price | MarkDown1 | MarkDown2 | MarkDown3 | MarkDown4 | MarkDown5 | CPI | Unemployment | IsHoliday.x | Dept | Weekly_Sales | IsHoliday.y | Type | Size | \n",
       "|---|---|---|---|---|\n",
       "| 1           | 22/06/2012  | 78.39       | 3.346       | 8624.56     | 171.25      | 3.05        | 2524.07     | 7063.68     | 221.8030211 | 7.143       | FALSE       | 41          |   408.46    | FALSE       | A           | 151315      | \n",
       "| 1           | 22/06/2012  | 78.39       | 3.346       | 8624.56     | 171.25      | 3.05        | 2524.07     | 7063.68     | 221.8030211 | 7.143       | FALSE       | 98          | 11613.22    | FALSE       | A           | 151315      | \n",
       "| 1           | 22/06/2012  | 78.39       | 3.346       | 8624.56     | 171.25      | 3.05        | 2524.07     | 7063.68     | 221.8030211 | 7.143       | FALSE       | 80          | 19063.50    | FALSE       | A           | 151315      | \n",
       "| 1           | 22/06/2012  | 78.39       | 3.346       | 8624.56     | 171.25      | 3.05        | 2524.07     | 7063.68     | 221.8030211 | 7.143       | FALSE       | 44          |  3897.52    | FALSE       | A           | 151315      | \n",
       "| 1           | 22/06/2012  | 78.39       | 3.346       | 8624.56     | 171.25      | 3.05        | 2524.07     | 7063.68     | 221.8030211 | 7.143       | FALSE       | 16          | 36362.45    | FALSE       | A           | 151315      | \n",
       "\n",
       "\n"
      ],
      "text/plain": [
       "  Store Date       Temperature Fuel_Price MarkDown1 MarkDown2 MarkDown3\n",
       "1 1     22/06/2012 78.39       3.346      8624.56   171.25    3.05     \n",
       "2 1     22/06/2012 78.39       3.346      8624.56   171.25    3.05     \n",
       "3 1     22/06/2012 78.39       3.346      8624.56   171.25    3.05     \n",
       "4 1     22/06/2012 78.39       3.346      8624.56   171.25    3.05     \n",
       "5 1     22/06/2012 78.39       3.346      8624.56   171.25    3.05     \n",
       "  MarkDown4 MarkDown5 CPI         Unemployment IsHoliday.x Dept Weekly_Sales\n",
       "1 2524.07   7063.68   221.8030211 7.143        FALSE       41     408.46    \n",
       "2 2524.07   7063.68   221.8030211 7.143        FALSE       98   11613.22    \n",
       "3 2524.07   7063.68   221.8030211 7.143        FALSE       80   19063.50    \n",
       "4 2524.07   7063.68   221.8030211 7.143        FALSE       44    3897.52    \n",
       "5 2524.07   7063.68   221.8030211 7.143        FALSE       16   36362.45    \n",
       "  IsHoliday.y Type Size  \n",
       "1 FALSE       A    151315\n",
       "2 FALSE       A    151315\n",
       "3 FALSE       A    151315\n",
       "4 FALSE       A    151315\n",
       "5 FALSE       A    151315"
      ]
     },
     "metadata": {},
     "output_type": "display_data"
    }
   ],
   "source": [
    "head(sales_all,5)"
   ]
  },
  {
   "cell_type": "markdown",
   "metadata": {},
   "source": [
    "# 4. Simple Linear Regression "
   ]
  },
  {
   "cell_type": "markdown",
   "metadata": {},
   "source": [
    "### Linear Regression Model: 1 - based on Fuel Price "
   ]
  },
  {
   "cell_type": "code",
   "execution_count": 18,
   "metadata": {},
   "outputs": [
    {
     "data": {
      "text/plain": [
       "\n",
       "Call:\n",
       "lm(formula = Weekly_Sales ~ Fuel_Price, data = sales_all)\n",
       "\n",
       "Residuals:\n",
       "   Min     1Q Median     3Q    Max \n",
       "-17737 -13791  -8289   4169 677193 \n",
       "\n",
       "Coefficients:\n",
       "            Estimate Std. Error t value Pr(>|t|)    \n",
       "(Intercept) 16536.82     339.03  48.777   <2e-16 ***\n",
       "Fuel_Price   -199.48      99.41  -2.007   0.0448 *  \n",
       "---\n",
       "Signif. codes:  0 ‘***’ 0.001 ‘**’ 0.01 ‘*’ 0.05 ‘.’ 0.1 ‘ ’ 1\n",
       "\n",
       "Residual standard error: 22750 on 252359 degrees of freedom\n",
       "  (171781 observations deleted due to missingness)\n",
       "Multiple R-squared:  1.596e-05,\tAdjusted R-squared:  1.199e-05 \n",
       "F-statistic: 4.027 on 1 and 252359 DF,  p-value: 0.04478\n"
      ]
     },
     "metadata": {},
     "output_type": "display_data"
    },
    {
     "name": "stdout",
     "output_type": "stream",
     "text": [
      "       1 \n",
      "15918.43 \n"
     ]
    }
   ],
   "source": [
    "# model 1 : based on Fuel_Price \n",
    "\n",
    "mod1<-lm(Weekly_Sales~Fuel_Price,data=sales_all)\n",
    "summary(mod1) # display summary \n",
    "new<-data.frame(Fuel_Price=3.10) # predication value \n",
    "res<-predict(mod1,newdata=new) # predication result \n",
    "print (res) # print the predicated value "
   ]
  },
  {
   "cell_type": "markdown",
   "metadata": {},
   "source": [
    "### Linear Regression Model: 2 - based on Temperature "
   ]
  },
  {
   "cell_type": "code",
   "execution_count": 24,
   "metadata": {},
   "outputs": [
    {
     "data": {
      "text/plain": [
       "\n",
       "Call:\n",
       "lm(formula = Weekly_Sales ~ Temperature, data = sales_all)\n",
       "\n",
       "Residuals:\n",
       "   Min     1Q Median     3Q    Max \n",
       "-17919 -13811  -8288   4185 677172 \n",
       "\n",
       "Coefficients:\n",
       "             Estimate Std. Error t value Pr(>|t|)    \n",
       "(Intercept) 16581.750    159.534 103.939  < 2e-16 ***\n",
       "Temperature   -11.825      2.515  -4.701 2.59e-06 ***\n",
       "---\n",
       "Signif. codes:  0 ‘***’ 0.001 ‘**’ 0.01 ‘*’ 0.05 ‘.’ 0.1 ‘ ’ 1\n",
       "\n",
       "Residual standard error: 22750 on 252359 degrees of freedom\n",
       "  (171781 observations deleted due to missingness)\n",
       "Multiple R-squared:  8.757e-05,\tAdjusted R-squared:  8.361e-05 \n",
       "F-statistic:  22.1 on 1 and 252359 DF,  p-value: 2.588e-06\n"
      ]
     },
     "metadata": {},
     "output_type": "display_data"
    },
    {
     "name": "stdout",
     "output_type": "stream",
     "text": [
      "       1 \n",
      "15872.23 \n"
     ]
    }
   ],
   "source": [
    " #model 2 : based on Temperature \n",
    "\n",
    "mod2<-lm(Weekly_Sales~Temperature,data=sales_all)\n",
    "summary(mod2) # display summary \n",
    "new<-data.frame(Temperature=60) # predication value \n",
    "res<-predict(mod2,newdata=new) # predication result \n",
    "print (res) # print the predicated value"
   ]
  },
  {
   "cell_type": "markdown",
   "metadata": {},
   "source": [
    "### Linear Regression Model: 3 - based on Unemployment"
   ]
  },
  {
   "cell_type": "code",
   "execution_count": 25,
   "metadata": {},
   "outputs": [
    {
     "data": {
      "text/plain": [
       "\n",
       "Call:\n",
       "lm(formula = Weekly_Sales ~ Unemployment, data = sales_all)\n",
       "\n",
       "Residuals:\n",
       "   Min     1Q Median     3Q    Max \n",
       "-34888 -12794  -6319   4458 669497 \n",
       "\n",
       "Coefficients:\n",
       "                   Estimate Std. Error t value Pr(>|t|)    \n",
       "(Intercept)         8002.51    1373.89   5.825 5.73e-09 ***\n",
       "Unemployment10.115 -1094.34    2213.23  -0.494 0.620988    \n",
       "Unemployment10.148  6449.94    1550.53   4.160 3.19e-05 ***\n",
       "Unemployment10.16     93.14    1679.46   0.055 0.955772    \n",
       "Unemployment10.199  5416.09    1780.15   3.042 0.002347 ** \n",
       "Unemployment10.21   6374.48    1548.97   4.115 3.87e-05 ***\n",
       "Unemployment10.256  -807.16    1721.57  -0.469 0.639177    \n",
       "Unemployment10.398  4837.04    1571.98   3.077 0.002091 ** \n",
       "Unemployment10.409  -354.63    1678.93  -0.211 0.832712    \n",
       "Unemployment10.524  2158.29    1674.27   1.289 0.197365    \n",
       "Unemployment10.581  5325.23    1550.01   3.436 0.000591 ***\n",
       "Unemployment10.641  4643.62    1551.42   2.993 0.002761 ** \n",
       "Unemployment10.926  5237.37    1473.85   3.554 0.000380 ***\n",
       "Unemployment11.627  5579.47    1485.27   3.757 0.000172 ***\n",
       "Unemployment12.187  5934.45    1485.41   3.995 6.47e-05 ***\n",
       "Unemployment12.89   7654.77    1486.18   5.151 2.60e-07 ***\n",
       "Unemployment13.503  4819.59    1486.25   3.243 0.001184 ** \n",
       "Unemployment13.736  5490.93    1486.68   3.693 0.000221 ***\n",
       "Unemployment13.975  6434.61    1591.37   4.043 5.27e-05 ***\n",
       "Unemployment14.021  5462.60    1503.49   3.633 0.000280 ***\n",
       "Unemployment14.099  5495.68    1488.35   3.692 0.000222 ***\n",
       "Unemployment14.18   5025.52    1488.71   3.376 0.000736 ***\n",
       "Unemployment14.313  7366.98    1487.91   4.951 7.38e-07 ***\n",
       "Unemployment3.879  21695.82    2306.40   9.407  < 2e-16 ***\n",
       "Unemployment4.077  21486.37    1626.68  13.209  < 2e-16 ***\n",
       "Unemployment4.125   8695.59    1524.91   5.702 1.18e-08 ***\n",
       "Unemployment4.145   8247.65    1907.96   4.323 1.54e-05 ***\n",
       "Unemployment4.156   8975.62    1509.30   5.947 2.74e-09 ***\n",
       "Unemployment4.261   6727.81    1524.78   4.412 1.02e-05 ***\n",
       "Unemployment4.308  21919.20    1655.17  13.243  < 2e-16 ***\n",
       "Unemployment4.42   11358.52    1522.02   7.463 8.50e-14 ***\n",
       "Unemployment4.584   8200.89    1523.01   5.385 7.27e-08 ***\n",
       "Unemployment4.607  21587.94    1656.97  13.029  < 2e-16 ***\n",
       "Unemployment4.781   8184.61    1524.78   5.368 7.98e-08 ***\n",
       "Unemployment4.954    731.41    2411.16   0.303 0.761627    \n",
       "Unemployment5.114   6254.62    1544.93   4.048 5.16e-05 ***\n",
       "Unemployment5.124   4889.44    2327.71   2.101 0.035683 *  \n",
       "Unemployment5.143  26897.82    1654.72  16.255  < 2e-16 ***\n",
       "Unemployment5.217  -1480.29    2561.55  -0.578 0.563340    \n",
       "Unemployment5.277    547.21    1661.57   0.329 0.741903    \n",
       "Unemployment5.287  11135.66    1526.33   7.296 2.98e-13 ***\n",
       "Unemployment5.326   8369.04    1527.65   5.478 4.30e-08 ***\n",
       "Unemployment5.329  12055.60    2306.40   5.227 1.72e-07 ***\n",
       "Unemployment5.401   4923.27    1635.64   3.010 0.002613 ** \n",
       "Unemployment5.407  -1552.25    1711.59  -0.907 0.364455    \n",
       "Unemployment5.422  -2939.24    2411.16  -1.219 0.222839    \n",
       "Unemployment5.435   8392.02    1525.94   5.500 3.81e-08 ***\n",
       "Unemployment5.527   5383.56    2311.63   2.329 0.019865 *  \n",
       "Unemployment5.539    850.69    1691.54   0.503 0.615029    \n",
       "Unemployment5.603  -2883.64    1664.88  -1.732 0.083267 .  \n",
       "Unemployment5.621   4084.87    1664.88   2.454 0.014146 *  \n",
       "Unemployment5.644  20701.89    1658.33  12.484  < 2e-16 ***\n",
       "Unemployment5.667    601.14    1691.54   0.355 0.722306    \n",
       "Unemployment5.668  12876.90    1627.40   7.913 2.53e-15 ***\n",
       "Unemployment5.679   5097.07    1668.76   3.054 0.002255 ** \n",
       "Unemployment5.765  19455.98    1623.83  11.982  < 2e-16 ***\n",
       "Unemployment5.774  -1720.32    1764.79  -0.975 0.329660    \n",
       "Unemployment5.801  -2668.51    1693.84  -1.575 0.115161    \n",
       "Unemployment5.825   4808.80    1663.93   2.890 0.003852 ** \n",
       "Unemployment5.847   -427.20    2327.71  -0.184 0.854385    \n",
       "Unemployment5.892   7257.12    1660.64   4.370 1.24e-05 ***\n",
       "Unemployment5.936   5485.73    1634.87   3.355 0.000792 ***\n",
       "Unemployment5.943  -3069.42    1685.93  -1.821 0.068668 .  \n",
       "Unemployment5.946  20194.76    1655.62  12.198  < 2e-16 ***\n",
       "Unemployment5.964  14141.23    1659.25   8.523  < 2e-16 ***\n",
       "Unemployment5.965  20298.63    1652.95  12.280  < 2e-16 ***\n",
       "Unemployment6.034   4171.92    1928.41   2.163 0.030512 *  \n",
       "Unemployment6.054   1964.52    1684.29   1.166 0.243461    \n",
       "Unemployment6.061   -113.18    1641.16  -0.069 0.945017    \n",
       "Unemployment6.078  -1842.58    1763.06  -1.045 0.295975    \n",
       "Unemployment6.104  18350.46    1652.08  11.108  < 2e-16 ***\n",
       "Unemployment6.123   6803.02    1664.88   4.086 4.39e-05 ***\n",
       "Unemployment6.132  12653.68    1656.52   7.639 2.20e-14 ***\n",
       "Unemployment6.162   -731.90    1672.24  -0.438 0.661619    \n",
       "Unemployment6.169   -668.70    1668.27  -0.401 0.688541    \n",
       "Unemployment6.17    8686.70    1685.38   5.154 2.55e-07 ***\n",
       "Unemployment6.195  10478.18    2306.40   4.543 5.55e-06 ***\n",
       "Unemployment6.228   6479.50    1835.82   3.529 0.000416 ***\n",
       "Unemployment6.232   1184.89    1667.29   0.711 0.477289    \n",
       "Unemployment6.235   5983.78    1663.45   3.597 0.000322 ***\n",
       "Unemployment6.262   4675.03    1704.01   2.744 0.006078 ** \n",
       "Unemployment6.29    4193.49    1665.36   2.518 0.011801 *  \n",
       "Unemployment6.297   4865.58    1667.29   2.918 0.003520 ** \n",
       "Unemployment6.299   4358.51    1912.92   2.278 0.022700 *  \n",
       "Unemployment6.3    -2483.91    1679.46  -1.479 0.139142    \n",
       "Unemployment6.315   4083.31    1666.81   2.450 0.014295 *  \n",
       "Unemployment6.334   4978.23    1514.98   3.286 0.001016 ** \n",
       "Unemployment6.338    376.21    1682.66   0.224 0.823083    \n",
       "Unemployment6.339   -968.02    1685.93  -0.574 0.565849    \n",
       "Unemployment6.38     739.98    1697.35   0.436 0.662865    \n",
       "Unemployment6.384    461.33    1707.12   0.270 0.786975    \n",
       "Unemployment6.392  24342.05    1649.91  14.754  < 2e-16 ***\n",
       "Unemployment6.403   4076.86    1661.10   2.454 0.014116 *  \n",
       "Unemployment6.404    212.81    1696.17   0.125 0.900155    \n",
       "Unemployment6.415   -302.54    1954.41  -0.155 0.876978    \n",
       "Unemployment6.416    147.08    1739.61   0.085 0.932619    \n",
       "Unemployment6.425   4326.55    1667.29   2.595 0.009461 ** \n",
       "Unemployment6.432  11098.80    1627.76   6.818 9.22e-12 ***\n",
       "Unemployment6.433   6650.06    1664.40   3.995 6.46e-05 ***\n",
       "Unemployment6.442    -48.97    1706.49  -0.029 0.977108    \n",
       "Unemployment6.465  -3100.58    1698.54  -1.825 0.067937 .  \n",
       "Unemployment6.489  -3220.15    1688.15  -1.908 0.056457 .  \n",
       "Unemployment6.496  -3404.41    1698.54  -2.004 0.045038 *  \n",
       "Unemployment6.51   19984.25    1693.26  11.802  < 2e-16 ***\n",
       "Unemployment6.529  -3339.62    1694.42  -1.971 0.048730 *  \n",
       "Unemployment6.547  10759.13    1658.33   6.488 8.72e-11 ***\n",
       "Unemployment6.548   3092.09    1909.60   1.619 0.105398    \n",
       "Unemployment6.551  16695.58    1654.28  10.092  < 2e-16 ***\n",
       "Unemployment6.56      31.68    1562.12   0.020 0.983821    \n",
       "Unemployment6.565   8704.10    1448.51   6.009 1.87e-09 ***\n",
       "Unemployment6.566  -3558.74    1954.41  -1.821 0.068626 .  \n",
       "Unemployment6.573  12988.59    2306.40   5.632 1.79e-08 ***\n",
       "Unemployment6.589   8767.46    1658.33   5.287 1.24e-07 ***\n",
       "Unemployment6.614   -726.29    1722.26  -0.422 0.673237    \n",
       "Unemployment6.617   6142.72    1662.04   3.696 0.000219 ***\n",
       "Unemployment6.623   6405.39    1488.86   4.302 1.69e-05 ***\n",
       "Unemployment6.634  -3354.01    1728.56  -1.940 0.052339 .  \n",
       "Unemployment6.635   4573.03    1670.74   2.737 0.006198 ** \n",
       "Unemployment6.664   5210.30    1532.02   3.401 0.000672 ***\n",
       "Unemployment6.697   4357.23    1672.24   2.606 0.009171 ** \n",
       "Unemployment6.745   4791.41    1664.40   2.879 0.003993 ** \n",
       "Unemployment6.759  13159.44    1657.42   7.940 2.03e-15 ***\n",
       "Unemployment6.768  -2577.29    1688.71  -1.526 0.126964    \n",
       "Unemployment6.774   5029.66    1669.25   3.013 0.002586 ** \n",
       "Unemployment6.833   4821.25    1530.49   3.150 0.001632 ** \n",
       "Unemployment6.842   -970.61    1687.59  -0.575 0.565192    \n",
       "Unemployment6.855  12992.05    1655.17   7.849 4.20e-15 ***\n",
       "Unemployment6.858  11983.54    1694.42   7.072 1.53e-12 ***\n",
       "Unemployment6.866   3375.26    1707.12   1.977 0.048024 *  \n",
       "Unemployment6.868    641.77    1687.59   0.380 0.703734    \n",
       "Unemployment6.877  18819.20    1653.39  11.382  < 2e-16 ***\n",
       "Unemployment6.885   5338.43    1668.76   3.199 0.001379 ** \n",
       "Unemployment6.891   9248.01    1457.77   6.344 2.24e-10 ***\n",
       "Unemployment6.895  -2228.16    2732.11  -0.816 0.414762    \n",
       "Unemployment6.901   9864.86    1661.10   5.939 2.88e-09 ***\n",
       "Unemployment6.906  -2142.63    1761.34  -1.216 0.223804    \n",
       "Unemployment6.908  13048.23    1627.04   8.020 1.07e-15 ***\n",
       "Unemployment6.925  12184.88    1659.25   7.344 2.09e-13 ***\n",
       "Unemployment6.934   9955.67    1663.93   5.983 2.19e-09 ***\n",
       "Unemployment6.943  10359.21    1968.37   5.263 1.42e-07 ***\n",
       "Unemployment6.961  10866.43    1525.17   7.125 1.05e-12 ***\n",
       "Unemployment6.973  12919.74    1660.64   7.780 7.28e-15 ***\n",
       "Unemployment6.986   1210.43    1680.52   0.720 0.471359    \n",
       "Unemployment6.989   6315.92    1503.30   4.201 2.65e-05 ***\n",
       "Unemployment7.007  16875.67    1658.79  10.173  < 2e-16 ***\n",
       "Unemployment7.039   -607.20    1948.63  -0.312 0.755342    \n",
       "Unemployment7.057   8780.21    1456.76   6.027 1.67e-09 ***\n",
       "Unemployment7.082  15362.43    1523.26  10.085  < 2e-16 ***\n",
       "Unemployment7.092  14257.24    1660.17   8.588  < 2e-16 ***\n",
       "Unemployment7.127  24592.96    1656.52  14.846  < 2e-16 ***\n",
       "Unemployment7.138   6013.41    2333.20   2.577 0.009957 ** \n",
       "Unemployment7.139  11536.33    1524.78   7.566 3.87e-14 ***\n",
       "Unemployment7.143  14053.70    1660.17   8.465  < 2e-16 ***\n",
       "Unemployment7.147  -2511.48    1746.57  -1.438 0.150449    \n",
       "Unemployment7.17   10720.51    1527.52   7.018 2.25e-12 ***\n",
       "Unemployment7.193  18833.27    1650.34  11.412  < 2e-16 ***\n",
       "Unemployment7.197   6678.35    1528.85   4.368 1.25e-05 ***\n",
       "Unemployment7.224  -2202.59    1825.10  -1.207 0.227497    \n",
       "Unemployment7.241   7765.39    1699.74   4.569 4.91e-06 ***\n",
       "Unemployment7.244   5818.55    1503.02   3.871 0.000108 ***\n",
       "Unemployment7.259  13330.30    1893.60   7.040 1.93e-12 ***\n",
       "Unemployment7.274  10733.74    1525.55   7.036 1.98e-12 ***\n",
       "Unemployment7.28   11455.49    1509.20   7.590 3.20e-14 ***\n",
       "Unemployment7.287  11393.60    1524.66   7.473 7.87e-14 ***\n",
       "Unemployment7.293  11582.58    1914.60   6.050 1.45e-09 ***\n",
       "Unemployment7.335   9421.76    1666.32   5.654 1.57e-08 ***\n",
       "Unemployment7.343   6971.22    1458.53   4.780 1.76e-06 ***\n",
       "Unemployment7.346   4495.06    1534.59   2.929 0.003399 ** \n",
       "Unemployment7.348  13586.88    1656.52   8.202 2.37e-16 ***\n",
       "Unemployment7.363   8384.11    1665.36   5.034 4.80e-07 ***\n",
       "Unemployment7.368   4961.74    1671.74   2.968 0.002998 ** \n",
       "Unemployment7.372  18270.13    1655.62  11.035  < 2e-16 ***\n",
       "Unemployment7.382  11305.30    1545.92   7.313 2.62e-13 ***\n",
       "Unemployment7.396  -2304.53    1783.94  -1.292 0.196421    \n",
       "Unemployment7.405   6813.84    1636.41   4.164 3.13e-05 ***\n",
       "Unemployment7.441  11368.55    1456.45   7.806 5.94e-15 ***\n",
       "Unemployment7.467   4804.60    1665.36   2.885 0.003914 ** \n",
       "Unemployment7.47   16618.94    1687.59   9.848  < 2e-16 ***\n",
       "Unemployment7.484  14942.72    1524.53   9.802  < 2e-16 ***\n",
       "Unemployment7.489   6400.68    1667.78   3.838 0.000124 ***\n",
       "Unemployment7.503   5592.25    1670.74   3.347 0.000817 ***\n",
       "Unemployment7.508  12299.13    1663.45   7.394 1.43e-13 ***\n",
       "Unemployment7.527  10963.57    1526.33   7.183 6.84e-13 ***\n",
       "Unemployment7.541   6313.58    1901.48   3.320 0.000899 ***\n",
       "Unemployment7.543   7236.09    2344.38   3.087 0.002025 ** \n",
       "Unemployment7.545  11824.44    1544.93   7.654 1.96e-14 ***\n",
       "Unemployment7.551   4613.66    1554.85   2.967 0.003005 ** \n",
       "Unemployment7.557   4251.91    1907.96   2.229 0.025847 *  \n",
       "Unemployment7.564   6520.35    1533.29   4.253 2.11e-05 ***\n",
       "Unemployment7.567   4430.04    1533.01   2.890 0.003856 ** \n",
       "Unemployment7.574   4633.77    1532.86   3.023 0.002503 ** \n",
       "Unemployment7.598   7562.12    1658.33   4.560 5.12e-06 ***\n",
       "Unemployment7.603  -2501.27    1790.76  -1.397 0.162485    \n",
       "Unemployment7.61   -2112.57    1772.77  -1.192 0.233388    \n",
       "Unemployment7.658   6516.04    1525.42   4.272 1.94e-05 ***\n",
       "Unemployment7.671   6821.32    1668.27   4.089 4.34e-05 ***\n",
       "Unemployment7.682  13063.54    1656.97   7.884 3.18e-15 ***\n",
       "Unemployment7.706  10037.16    1668.76   6.015 1.80e-09 ***\n",
       "Unemployment7.716   7930.12    1503.02   5.276 1.32e-07 ***\n",
       "Unemployment7.725  16825.82    1656.52  10.157  < 2e-16 ***\n",
       "Unemployment7.742  12550.15    1693.26   7.412 1.25e-13 ***\n",
       "Unemployment7.753   6397.57    1641.16   3.898 9.69e-05 ***\n",
       "Unemployment7.767   6324.29    1664.40   3.800 0.000145 ***\n",
       "Unemployment7.771   4963.93    1545.76   3.211 0.001321 ** \n",
       "Unemployment7.787  12100.33    1657.88   7.299 2.91e-13 ***\n",
       "Unemployment7.795  23283.29    1651.64  14.097  < 2e-16 ***\n",
       "Unemployment7.804  -2164.34    1770.97  -1.222 0.221663    \n",
       "Unemployment7.806   5990.04    1525.42   3.927 8.61e-05 ***\n",
       "Unemployment7.808  12376.27    1659.71   7.457 8.89e-14 ***\n",
       "Unemployment7.818   5733.51    1668.76   3.436 0.000591 ***\n",
       "Unemployment7.827  14182.11    1695.00   8.367  < 2e-16 ***\n",
       "Unemployment7.838  15004.05    1654.72   9.067  < 2e-16 ***\n",
       "Unemployment7.85   16209.73    1656.07   9.788  < 2e-16 ***\n",
       "Unemployment7.852   8517.09    1457.93   5.842 5.17e-09 ***\n",
       "Unemployment7.856  11538.59    1526.46   7.559 4.07e-14 ***\n",
       "Unemployment7.866  11231.54    1474.52   7.617 2.60e-14 ***\n",
       "Unemployment7.872   4884.16    1509.71   3.235 0.001216 ** \n",
       "Unemployment7.874  15100.14    1546.76   9.762  < 2e-16 ***\n",
       "Unemployment7.896  17929.09    1656.07  10.826  < 2e-16 ***\n",
       "Unemployment7.906  19564.73    1654.72  11.824  < 2e-16 ***\n",
       "Unemployment7.907   4783.01    1708.39   2.800 0.005115 ** \n",
       "Unemployment7.931   8925.84    1456.80   6.127 8.97e-10 ***\n",
       "Unemployment7.943   5109.32    1524.66   3.351 0.000805 ***\n",
       "Unemployment7.951  17573.98    1651.64  10.640  < 2e-16 ***\n",
       "Unemployment7.962  12188.28    1658.33   7.350 1.99e-13 ***\n",
       "Unemployment7.972  -2211.40    1773.68  -1.247 0.212476    \n",
       "Unemployment7.982  17224.13    1657.42  10.392  < 2e-16 ***\n",
       "Unemployment7.992   5368.83    1906.32   2.816 0.004858 ** \n",
       "Unemployment8      15401.87    2311.63   6.663 2.69e-11 ***\n",
       "Unemployment8.009  13719.88    1656.97   8.280  < 2e-16 ***\n",
       "Unemployment8.01   -2719.43    1788.79  -1.520 0.128446    \n",
       "Unemployment8.021  20617.13    1657.88  12.436  < 2e-16 ***\n",
       "Unemployment8.023   6527.20    1673.25   3.901 9.59e-05 ***\n",
       "Unemployment8.028   8855.24    1468.95   6.028 1.66e-09 ***\n",
       "Unemployment8.058  18321.92    1657.88  11.051  < 2e-16 ***\n",
       "Unemployment8.067   9615.27    1524.78   6.306 2.87e-10 ***\n",
       "Unemployment8.075   6024.87    1662.04   3.625 0.000289 ***\n",
       "Unemployment8.09    4491.00    1525.55   2.944 0.003242 ** \n",
       "Unemployment8.099   8064.79    1429.19   5.643 1.67e-08 ***\n",
       "Unemployment8.106  12408.01    1893.60   6.553 5.66e-11 ***\n",
       "Unemployment8.107  17607.45    1649.05  10.677  < 2e-16 ***\n",
       "Unemployment8.117  10888.43    1659.71   6.560 5.38e-11 ***\n",
       "Unemployment8.119  -2370.71    2104.85  -1.126 0.260037    \n",
       "Unemployment8.149   7723.53    1669.25   4.627 3.71e-06 ***\n",
       "Unemployment8.15    6227.67    1525.30   4.083 4.45e-05 ***\n",
       "Unemployment8.163  11650.39    1457.23   7.995 1.30e-15 ***\n",
       "Unemployment8.177   6061.10    1504.63   4.028 5.62e-05 ***\n",
       "Unemployment8.185   6917.02    1524.02   4.539 5.66e-06 ***\n",
       "Unemployment8.187  10734.36    1660.64   6.464 1.02e-10 ***\n",
       "Unemployment8.193   6037.40    1509.92   3.998 6.38e-05 ***\n",
       "Unemployment8.2     9049.12    1457.73   6.208 5.39e-10 ***\n",
       "Unemployment8.211  10615.73    1656.97   6.407 1.49e-10 ***\n",
       "Unemployment8.212   9907.78    1655.62   5.984 2.18e-09 ***\n",
       "Unemployment8.237  15946.43    1896.72   8.407  < 2e-16 ***\n",
       "Unemployment8.239  15291.71    1628.13   9.392  < 2e-16 ***\n",
       "Unemployment8.243   7653.77    2327.71   3.288 0.001009 ** \n",
       "Unemployment8.252   7885.65    1536.64   5.132 2.87e-07 ***\n",
       "Unemployment8.253  16101.86    1656.07   9.723  < 2e-16 ***\n",
       "Unemployment8.256   4285.43    1525.30   2.810 0.004961 ** \n",
       "Unemployment8.257  10925.84    1548.80   7.054 1.74e-12 ***\n",
       "Unemployment8.275  13329.37    1659.25   8.033 9.52e-16 ***\n",
       "Unemployment8.283   6057.30    1916.29   3.161 0.001573 ** \n",
       "Unemployment8.3     5918.38    1503.11   3.937 8.24e-05 ***\n",
       "Unemployment8.304   6919.14    1662.51   4.162 3.16e-05 ***\n",
       "Unemployment8.316  17418.41    1881.48   9.258  < 2e-16 ***\n",
       "Unemployment8.324   9261.40    1536.35   6.028 1.66e-09 ***\n",
       "Unemployment8.326   9505.88    1896.72   5.012 5.40e-07 ***\n",
       "Unemployment8.348   6930.57    1669.25   4.152 3.30e-05 ***\n",
       "Unemployment8.35    6289.60    1660.64   3.787 0.000152 ***\n",
       "Unemployment8.358  10329.92    1656.97   6.234 4.55e-10 ***\n",
       "Unemployment8.36    6052.59    1505.69   4.020 5.83e-05 ***\n",
       "Unemployment8.395   5454.74    1523.52   3.580 0.000343 ***\n",
       "Unemployment8.424  11147.71    1542.02   7.229 4.87e-13 ***\n",
       "Unemployment8.433   6446.69    1670.74   3.859 0.000114 ***\n",
       "Unemployment8.442  -2699.70    1797.81  -1.502 0.133186    \n",
       "Unemployment8.445   6350.80    1670.74   3.801 0.000144 ***\n",
       "Unemployment8.454  13184.40    1656.52   7.959 1.74e-15 ***\n",
       "Unemployment8.458   5236.44    1712.88   3.057 0.002235 ** \n",
       "Unemployment8.464   6269.39    1507.57   4.159 3.20e-05 ***\n",
       "Unemployment8.471  10210.76    1662.51   6.142 8.17e-10 ***\n",
       "Unemployment8.476   7622.55    1505.11   5.064 4.10e-07 ***\n",
       "Unemployment8.488   5039.32    1907.96   2.641 0.008261 ** \n",
       "Unemployment8.494  11329.25    1547.77   7.320 2.49e-13 ***\n",
       "Unemployment8.512   5206.78    1530.21   3.403 0.000667 ***\n",
       "Unemployment8.513   6761.76    1523.89   4.437 9.12e-06 ***\n",
       "Unemployment8.521  13064.60    1541.08   8.478  < 2e-16 ***\n",
       "Unemployment8.523  16411.04    1540.92  10.650  < 2e-16 ***\n",
       "Unemployment8.535   6763.29    1634.87   4.137 3.52e-05 ***\n",
       "Unemployment8.549   8312.16    1502.09   5.534 3.14e-08 ***\n",
       "Unemployment8.554   5874.08    1634.48   3.594 0.000326 ***\n",
       "Unemployment8.567  11429.21    1542.02   7.412 1.25e-13 ***\n",
       "Unemployment8.572   9931.23    1670.24   5.946 2.75e-09 ***\n",
       "Unemployment8.595   3746.92    1525.68   2.456 0.014054 *  \n",
       "Unemployment8.622   4800.29    1527.52   3.143 0.001675 ** \n",
       "Unemployment8.623  17968.77    1885.96   9.528  < 2e-16 ***\n",
       "Unemployment8.625  11554.98    1540.14   7.503 6.28e-14 ***\n",
       "Unemployment8.659   8989.79    1657.88   5.422 5.88e-08 ***\n",
       "Unemployment8.665   4548.76    2350.08   1.936 0.052920 .  \n",
       "Unemployment8.667  10006.07    1976.66   5.062 4.15e-07 ***\n",
       "Unemployment8.684   7283.49    1478.11   4.928 8.33e-07 ***\n",
       "Unemployment8.687  -2487.06    1798.84  -1.383 0.166791    \n",
       "Unemployment8.693  10171.93    2316.93   4.390 1.13e-05 ***\n",
       "Unemployment8.724  17074.12    1542.18  11.071  < 2e-16 ***\n",
       "Unemployment8.743  12603.44    1542.18   8.172 3.04e-16 ***\n",
       "Unemployment8.744   8398.24    1498.42   5.605 2.09e-08 ***\n",
       "Unemployment8.745   7771.40    1672.24   4.647 3.36e-06 ***\n",
       "Unemployment8.763   8445.34    1675.29   5.041 4.63e-07 ***\n",
       "Unemployment8.818   3730.88    1546.59   2.412 0.015852 *  \n",
       "Unemployment8.839   4816.54    1572.86   3.062 0.002197 ** \n",
       "Unemployment8.861   7180.85    1678.40   4.278 1.88e-05 ***\n",
       "Unemployment8.876   4238.65    1672.74   2.534 0.011279 *  \n",
       "Unemployment8.89    6077.80    1674.27   3.630 0.000283 ***\n",
       "Unemployment8.899  13931.56    1540.45   9.044  < 2e-16 ***\n",
       "Unemployment8.951  -2672.98    1847.07  -1.447 0.147858    \n",
       "Unemployment8.953  10473.02    1627.40   6.435 1.23e-10 ***\n",
       "Unemployment8.963   3039.38    1525.17   1.993 0.046282 *  \n",
       "Unemployment8.975   6895.07    1666.32   4.138 3.51e-05 ***\n",
       "Unemployment8.983  10700.84    1658.79   6.451 1.11e-10 ***\n",
       "Unemployment8.988   -784.38    1675.80  -0.468 0.639740    \n",
       "Unemployment8.992  13273.29    1687.03   7.868 3.62e-15 ***\n",
       "Unemployment9.003  15599.73    1550.18  10.063  < 2e-16 ***\n",
       "Unemployment9.014   3161.76    1657.88   1.907 0.056507 .  \n",
       "Unemployment9.017   4068.13    1526.99   2.664 0.007719 ** \n",
       "Unemployment9.051   9381.78    1679.99   5.584 2.35e-08 ***\n",
       "Unemployment9.131   5615.31    1707.12   3.289 0.001004 ** \n",
       "Unemployment9.137   6041.94    1524.66   3.963 7.41e-05 ***\n",
       "Unemployment9.14     207.09    1678.93   0.123 0.901831    \n",
       "Unemployment9.151     88.87    2379.64   0.037 0.970209    \n",
       "Unemployment9.199  11594.38    1550.36   7.479 7.54e-14 ***\n",
       "Unemployment9.202   7936.01    1914.60   4.145 3.40e-05 ***\n",
       "Unemployment9.262   8932.38    1933.78   4.619 3.86e-06 ***\n",
       "Unemployment9.265  -2758.65    1806.17  -1.527 0.126676    \n",
       "Unemployment9.269   8816.51    1669.25   5.282 1.28e-07 ***\n",
       "Unemployment9.285   5090.49    1532.30   3.322 0.000893 ***\n",
       "Unemployment9.331  10699.74    1666.32   6.421 1.35e-10 ***\n",
       "Unemployment9.342   7983.99    1672.74   4.773 1.82e-06 ***\n",
       "Unemployment9.357   1770.74    1675.29   1.057 0.290524    \n",
       "Unemployment9.419   -275.20    1650.77  -0.167 0.867599    \n",
       "Unemployment9.495  -2442.26    1808.31  -1.351 0.176834    \n",
       "Unemployment9.521   5006.73    1706.49   2.934 0.003347 ** \n",
       "Unemployment9.524  11577.23    1549.66   7.471 8.00e-14 ***\n",
       "Unemployment9.575   5807.42    1554.30   3.736 0.000187 ***\n",
       "Unemployment9.593   5244.58    1550.53   3.382 0.000719 ***\n",
       "Unemployment9.653   5473.10    1551.95   3.527 0.000421 ***\n",
       "Unemployment9.765  12280.29    1699.14   7.227 4.94e-13 ***\n",
       "Unemployment9.816   5231.30    1549.14   3.377 0.000733 ***\n",
       "Unemployment9.849  -1286.55    1825.10  -0.705 0.480862    \n",
       "Unemployment9.863   -530.74    1675.29  -0.317 0.751393    \n",
       "Unemployment9.966     50.37    1676.84   0.030 0.976039    \n",
       "---\n",
       "Signif. codes:  0 ‘***’ 0.001 ‘**’ 0.01 ‘*’ 0.05 ‘.’ 0.1 ‘ ’ 1\n",
       "\n",
       "Residual standard error: 22150 on 252012 degrees of freedom\n",
       "  (171781 observations deleted due to missingness)\n",
       "Multiple R-squared:  0.0529,\tAdjusted R-squared:  0.05159 \n",
       "F-statistic: 40.45 on 348 and 252012 DF,  p-value: < 2.2e-16\n"
      ]
     },
     "metadata": {},
     "output_type": "display_data"
    }
   ],
   "source": [
    "# model 3 : based on Unemployment \n",
    "mod3<-lm(Weekly_Sales~Unemployment,data=sales_all)\n",
    "summary(mod3) # display summary"
   ]
  },
  {
   "cell_type": "markdown",
   "metadata": {},
   "source": [
    "### Linear Regression Model: 4 - based on Size "
   ]
  },
  {
   "cell_type": "code",
   "execution_count": 56,
   "metadata": {},
   "outputs": [
    {
     "data": {
      "text/plain": [
       "\n",
       "Call:\n",
       "lm(formula = Weekly_Sales ~ Size, data = sales_all)\n",
       "\n",
       "Residuals:\n",
       "   Min     1Q Median     3Q    Max \n",
       "-21650 -12019  -4725  11752  72192 \n",
       "\n",
       "Coefficients:\n",
       "             Estimate Std. Error t value Pr(>|t|)    \n",
       "(Intercept) 2.401e+04  1.698e+02   141.4   <2e-16 ***\n",
       "Size        2.620e-17  1.173e-03     0.0        1    \n",
       "---\n",
       "Signif. codes:  0 ‘***’ 0.001 ‘**’ 0.01 ‘*’ 0.05 ‘.’ 0.1 ‘ ’ 1\n",
       "\n",
       "Residual standard error: 15700 on 44998 degrees of freedom\n",
       "Multiple R-squared:  1.75e-30,\tAdjusted R-squared:  -2.222e-05 \n",
       "F-statistic: 7.874e-26 on 1 and 44998 DF,  p-value: 1\n"
      ]
     },
     "metadata": {},
     "output_type": "display_data"
    },
    {
     "name": "stdout",
     "output_type": "stream",
     "text": [
      "       1 \n",
      "24006.23 \n"
     ]
    }
   ],
   "source": [
    "mod4<-lm(Weekly_Sales~Size,data=sales_all)\n",
    "summary(mod4) # display summary \n",
    "new4<-data.frame(Size=1000) # predication value \n",
    "res4<-predict(mod4,newdata=new4) # predication result \n",
    "print (res4) # print the predicated value"
   ]
  },
  {
   "cell_type": "markdown",
   "metadata": {},
   "source": [
    "### Linear Regression Model: 5 - based on CPI "
   ]
  },
  {
   "cell_type": "code",
   "execution_count": 57,
   "metadata": {},
   "outputs": [
    {
     "data": {
      "text/plain": [
       "\n",
       "Call:\n",
       "lm(formula = Weekly_Sales ~ CPI, data = sales_all)\n",
       "\n",
       "Residuals:\n",
       "   Min     1Q Median     3Q    Max \n",
       "-32759 -10182  -2079  12804  51452 \n",
       "\n",
       "Coefficients:\n",
       "                 Estimate Std. Error t value Pr(>|t|)    \n",
       "(Intercept)     2.382e+04  8.230e+02  28.941  < 2e-16 ***\n",
       "CPI126.1454667 -2.887e+03  1.164e+03  -2.481 0.013107 *  \n",
       "CPI126.1498065 -1.556e+03  1.164e+03  -1.337 0.181381    \n",
       "CPI126.2085484 -2.842e+03  1.164e+03  -2.442 0.014599 *  \n",
       "CPI126.3266774 -1.491e+03  1.164e+03  -1.281 0.200025    \n",
       "CPI126.5621    -3.459e+03  1.164e+03  -2.972 0.002961 ** \n",
       "CPI126.8794839  2.093e+04  1.164e+03  17.982  < 2e-16 ***\n",
       "CPI127.3009355 -4.466e+03  1.164e+03  -3.837 0.000125 ***\n",
       "CPI127.99525    5.315e+03  1.164e+03   4.567 4.97e-06 ***\n",
       "CPI128.5121935 -1.404e+03  1.164e+03  -1.206 0.227719    \n",
       "CPI128.9107333 -7.632e+02  1.164e+03  -0.656 0.511994    \n",
       "CPI129.0432    -1.902e+03  1.164e+03  -1.635 0.102137    \n",
       "CPI129.089     -3.131e+03  1.164e+03  -2.690 0.007152 ** \n",
       "CPI129.1338387 -3.699e+03  1.164e+03  -3.178 0.001483 ** \n",
       "CPI129.4306    -3.223e+03  1.164e+03  -2.769 0.005622 ** \n",
       "CPI129.7706452 -2.057e+03  1.164e+03  -1.768 0.077134 .  \n",
       "CPI129.8980645  1.495e+04  1.164e+03  12.845  < 2e-16 ***\n",
       "CPI130.244     -3.590e+03  1.164e+03  -3.085 0.002037 ** \n",
       "CPI130.4546207  6.786e+03  1.164e+03   5.831 5.55e-09 ***\n",
       "CPI130.683     -2.179e+03  1.164e+03  -1.872 0.061228 .  \n",
       "CPI130.7909677  1.992e+02  1.164e+03   0.171 0.864130    \n",
       "CPI130.8261935  5.576e+02  1.164e+03   0.479 0.631854    \n",
       "CPI130.8295333 -5.395e+02  1.164e+03  -0.464 0.642973    \n",
       "CPI130.9776667 -2.187e+03  1.164e+03  -1.879 0.060197 .  \n",
       "CPI131.108      2.273e+02  1.164e+03   0.195 0.845184    \n",
       "CPI209.9984585 -2.842e+03  1.164e+03  -2.442 0.014599 *  \n",
       "CPI210.1495463 -3.459e+03  1.164e+03  -2.972 0.002961 ** \n",
       "CPI210.3374261 -2.842e+03  1.164e+03  -2.442 0.014599 *  \n",
       "CPI210.4887    -3.459e+03  1.164e+03  -2.972 0.002961 ** \n",
       "CPI210.7577954 -1.556e+03  1.164e+03  -1.337 0.181381    \n",
       "CPI210.8872772 -2.842e+03  1.164e+03  -2.442 0.014599 *  \n",
       "CPI211.0388528 -3.459e+03  1.164e+03  -2.972 0.002961 ** \n",
       "CPI211.0645458  2.093e+04  1.164e+03  17.982  < 2e-16 ***\n",
       "CPI211.1003854 -1.556e+03  1.164e+03  -1.337 0.181381    \n",
       "CPI211.1176713 -4.466e+03  1.164e+03  -3.837 0.000125 ***\n",
       "CPI211.1806415 -2.887e+03  1.164e+03  -2.481 0.013107 *  \n",
       "CPI211.2951413 -2.731e-11  1.164e+03   0.000 1.000000    \n",
       "CPI211.4053124  2.093e+04  1.164e+03  17.982  < 2e-16 ***\n",
       "CPI211.4574109 -4.466e+03  1.164e+03  -3.837 0.000125 ***\n",
       "CPI211.4713286 -1.491e+03  1.164e+03  -1.281 0.200025    \n",
       "CPI211.5224596 -2.887e+03  1.164e+03  -2.481 0.013107 *  \n",
       "CPI211.6394211 -4.352e-11  1.164e+03   0.000 1.000000    \n",
       "CPI211.6561123 -1.556e+03  1.164e+03  -1.337 0.181381    \n",
       "CPI211.8137436 -1.491e+03  1.164e+03  -1.281 0.200025    \n",
       "CPI211.8421769 -2.842e+03  1.164e+03  -2.442 0.014599 *  \n",
       "CPI211.9580815  2.093e+04  1.164e+03  17.982  < 2e-16 ***\n",
       "CPI211.9942765 -3.459e+03  1.164e+03  -2.972 0.002961 ** \n",
       "CPI212.008514  -4.466e+03  1.164e+03  -3.837 0.000125 ***\n",
       "CPI212.0769346 -2.887e+03  1.164e+03  -2.481 0.013107 *  \n",
       "CPI212.1978889 -3.875e-11  1.164e+03   0.000 1.000000    \n",
       "CPI212.3691867 -1.491e+03  1.164e+03  -1.281 0.200025    \n",
       "CPI212.6212163 -1.556e+03  1.164e+03  -1.337 0.181381    \n",
       "CPI212.9033115  5.315e+03  1.164e+03   4.567 4.97e-06 ***\n",
       "CPI212.918049   2.093e+04  1.164e+03  17.982  < 2e-16 ***\n",
       "CPI212.9655882 -4.466e+03  1.164e+03  -3.837 0.000125 ***\n",
       "CPI213.0398643 -2.887e+03  1.164e+03  -2.481 0.013107 *  \n",
       "CPI213.1677529 -1.728e-11  1.164e+03   0.000 1.000000    \n",
       "CPI213.2478853  5.315e+03  1.164e+03   4.567 4.97e-06 ***\n",
       "CPI213.3337977 -1.491e+03  1.164e+03  -1.281 0.200025    \n",
       "CPI213.6196139 -2.842e+03  1.164e+03  -2.442 0.014599 *  \n",
       "CPI213.7726889 -3.459e+03  1.164e+03  -2.972 0.002961 ** \n",
       "CPI213.8068304  5.315e+03  1.164e+03   4.567 4.97e-06 ***\n",
       "CPI214.0156238 -1.404e+03  1.164e+03  -1.206 0.227719    \n",
       "CPI214.3627114 -1.404e+03  1.164e+03  -1.206 0.227719    \n",
       "CPI214.4176476 -1.556e+03  1.164e+03  -1.337 0.181381    \n",
       "CPI214.6513538 -1.902e+03  1.164e+03  -1.635 0.102137    \n",
       "CPI214.704919   2.093e+04  1.164e+03  17.982  < 2e-16 ***\n",
       "CPI214.7470729 -4.466e+03  1.164e+03  -3.837 0.000125 ***\n",
       "CPI214.7775231  5.315e+03  1.164e+03   4.567 4.97e-06 ***\n",
       "CPI214.8322484 -2.887e+03  1.164e+03  -2.481 0.013107 *  \n",
       "CPI214.9257339 -1.404e+03  1.164e+03  -1.206 0.227719    \n",
       "CPI214.9420631 -7.632e+02  1.164e+03  -0.656 0.511994    \n",
       "CPI214.9730444 -4.749e-11  1.164e+03   0.000 1.000000    \n",
       "CPI214.9980596 -1.902e+03  1.164e+03  -1.635 0.102137    \n",
       "CPI215.0134426 -3.699e+03  1.164e+03  -3.178 0.001483 ** \n",
       "CPI215.1293114 -1.491e+03  1.164e+03  -1.281 0.200025    \n",
       "CPI215.2918561 -7.632e+02  1.164e+03  -0.656 0.511994    \n",
       "CPI215.3611087 -3.699e+03  1.164e+03  -3.178 0.001483 ** \n",
       "CPI215.560463  -1.902e+03  1.164e+03  -1.635 0.102137    \n",
       "CPI215.6124735 -3.131e+03  1.164e+03  -2.690 0.007152 ** \n",
       "CPI215.6944378 -3.223e+03  1.164e+03  -2.769 0.005622 ** \n",
       "CPI215.8592673 -7.632e+02  1.164e+03  -0.656 0.511994    \n",
       "CPI215.9035078 -1.404e+03  1.164e+03  -1.206 0.227719    \n",
       "CPI215.9250696 -3.699e+03  1.164e+03  -3.178 0.001483 ** \n",
       "CPI215.9640526 -3.131e+03  1.164e+03  -2.690 0.007152 ** \n",
       "CPI216.0410526 -3.223e+03  1.164e+03  -2.769 0.005622 ** \n",
       "CPI216.5343611 -3.131e+03  1.164e+03  -2.690 0.007152 ** \n",
       "CPI216.5371616 -1.902e+03  1.164e+03  -1.635 0.102137    \n",
       "CPI216.5843571  5.315e+03  1.164e+03   4.567 4.97e-06 ***\n",
       "CPI216.6033083 -3.223e+03  1.164e+03  -2.769 0.005622 ** \n",
       "CPI216.8446627 -7.632e+02  1.164e+03  -0.656 0.511994    \n",
       "CPI216.9044732 -3.699e+03  1.164e+03  -3.178 0.001483 ** \n",
       "CPI217.0048261 -2.057e+03  1.164e+03  -1.768 0.077134 .  \n",
       "CPI217.3552733 -2.057e+03  1.164e+03  -1.768 0.077134 .  \n",
       "CPI217.5247882 -3.131e+03  1.164e+03  -2.690 0.007152 ** \n",
       "CPI217.5797506 -3.223e+03  1.164e+03  -2.769 0.005622 ** \n",
       "CPI217.7235226 -1.404e+03  1.164e+03  -1.206 0.227719    \n",
       "CPI217.9237458 -2.057e+03  1.164e+03  -1.768 0.077134 .  \n",
       "CPI218.3551748 -1.902e+03  1.164e+03  -1.635 0.102137    \n",
       "CPI218.6788642 -7.632e+02  1.164e+03  -0.656 0.511994    \n",
       "CPI218.7275216 -3.699e+03  1.164e+03  -3.178 0.001483 ** \n",
       "CPI218.8217928  1.495e+04  1.164e+03  12.845  < 2e-16 ***\n",
       "CPI218.9109844 -2.057e+03  1.164e+03  -1.768 0.077134 .  \n",
       "CPI219.1794533  1.495e+04  1.164e+03  12.845  < 2e-16 ***\n",
       "CPI219.3683556 -3.131e+03  1.164e+03  -2.690 0.007152 ** \n",
       "CPI219.3972867 -3.223e+03  1.164e+03  -2.769 0.005622 ** \n",
       "CPI219.5328198 -3.590e+03  1.164e+03  -3.085 0.002037 ** \n",
       "CPI219.7596266  1.495e+04  1.164e+03  12.845  < 2e-16 ***\n",
       "CPI219.8925263 -3.590e+03  1.164e+03  -3.085 0.002037 ** \n",
       "CPI220.0651993  6.786e+03  1.164e+03   5.831 5.55e-09 ***\n",
       "CPI220.4257586  6.786e+03  1.164e+03   5.831 5.55e-09 ***\n",
       "CPI220.4760185 -3.590e+03  1.164e+03  -3.085 0.002037 ** \n",
       "CPI220.7486167 -2.057e+03  1.164e+03  -1.768 0.077134 .  \n",
       "CPI220.8498468  5.576e+02  1.164e+03   0.479 0.631854    \n",
       "CPI221.0106341  6.786e+03  1.164e+03   5.831 5.55e-09 ***\n",
       "CPI221.1484028  2.273e+02  1.164e+03   0.195 0.845184    \n",
       "CPI221.2118132  5.576e+02  1.164e+03   0.479 0.631854    \n",
       "CPI221.380331  -2.497e+03  1.164e+03  -2.146 0.031908 *  \n",
       "CPI221.4009901 -5.395e+02  1.164e+03  -0.464 0.642973    \n",
       "CPI221.5102105  2.273e+02  1.164e+03   0.195 0.845184    \n",
       "CPI221.5616784 -2.179e+03  1.164e+03  -1.872 0.061228 .  \n",
       "CPI221.6751459  1.992e+02  1.164e+03   0.171 0.864130    \n",
       "CPI221.7626421 -5.395e+02  1.164e+03  -0.464 0.642973    \n",
       "CPI221.7989713  5.576e+02  1.164e+03   0.479 0.631854    \n",
       "CPI221.9241579 -2.179e+03  1.164e+03  -1.872 0.061228 .  \n",
       "CPI222.0384109  1.992e+02  1.164e+03   0.171 0.864130    \n",
       "CPI222.0971111  2.273e+02  1.164e+03   0.195 0.845184    \n",
       "CPI222.2174395 -2.187e+03  1.164e+03  -1.879 0.060197 .  \n",
       "CPI222.330443  -2.141e+03  1.211e+03  -1.767 0.077234 .  \n",
       "CPI222.3492901 -5.395e+02  1.164e+03  -0.464 0.642973    \n",
       "CPI222.5121481 -2.179e+03  1.164e+03  -1.872 0.061228 .  \n",
       "CPI222.5820193 -2.187e+03  1.164e+03  -1.879 0.060197 .  \n",
       "CPI222.6276753  1.992e+02  1.164e+03   0.171 0.864130    \n",
       "CPI222.6426418  1.495e+04  1.164e+03  12.845  < 2e-16 ***\n",
       "CPI223.1734167 -2.187e+03  1.164e+03  -1.879 0.060197 .  \n",
       "CPI223.3755259 -3.590e+03  1.164e+03  -3.085 0.002037 ** \n",
       "CPI223.9170153  6.786e+03  1.164e+03   5.831 5.55e-09 ***\n",
       "CPI224.7166953  5.576e+02  1.164e+03   0.479 0.631854    \n",
       "CPI225.0135556  2.273e+02  1.164e+03   0.195 0.845184    \n",
       "CPI225.2644795 -5.395e+02  1.164e+03  -0.464 0.642973    \n",
       "CPI225.4340074 -2.179e+03  1.164e+03  -1.872 0.061228 .  \n",
       "CPI225.5558664  1.992e+02  1.164e+03   0.171 0.864130    \n",
       "CPI226.1122067 -2.187e+03  1.164e+03  -1.879 0.060197 .  \n",
       "---\n",
       "Signif. codes:  0 ‘***’ 0.001 ‘**’ 0.01 ‘*’ 0.05 ‘.’ 0.1 ‘ ’ 1\n",
       "\n",
       "Residual standard error: 14610 on 44857 degrees of freedom\n",
       "Multiple R-squared:  0.1376,\tAdjusted R-squared:  0.1349 \n",
       "F-statistic: 50.42 on 142 and 44857 DF,  p-value: < 2.2e-16\n"
      ]
     },
     "metadata": {},
     "output_type": "display_data"
    }
   ],
   "source": [
    "mod5<-lm(Weekly_Sales~CPI,data=sales_all)\n",
    "summary(mod5) # display summary "
   ]
  },
  {
   "cell_type": "markdown",
   "metadata": {},
   "source": [
    "# 5. Model Comparison:"
   ]
  },
  {
   "cell_type": "markdown",
   "metadata": {},
   "source": [
    "The simple linear regression model 1 (independent variable fuel price) has adjusted R-square value 1.199e-05 and predicative model is weekly_sales=11060.34+668.29*Fuel_price.\n",
    "\n",
    "The simple linear regression model 2 (independent variable: Temperature) has adjusted R-square value 8.361e-05   and predicative model is weekly_sales=11187.880+36.503* Temperature.\n",
    "\n",
    "The simple linear regression model 3 (independent variable: Unemployment) has adjusted R-square value 0.05159 .\n",
    "\n",
    "The simple linear regression model 4 (independent variable: Size) has adjusted R-square value -2.222e-05  and predicative model is weekly_sales=1.34e04+9.12e-18* Size.\n",
    "\n",
    "The simple linear regression model 5 (independent variable: Size) has adjusted R-square value 0.1349 and predicative model is weekly_sales=2.382e+04-2.9603e03* CPI.\n",
    "\n",
    "By comparing the above 5 models, we can say that model 3 is more accurate and make sense. The unemployment rate has inversly connection to weekly sales.  \n",
    "\n",
    "\n"
   ]
  },
  {
   "cell_type": "markdown",
   "metadata": {},
   "source": [
    "# 6. Multiple Linear Regression:"
   ]
  },
  {
   "cell_type": "markdown",
   "metadata": {},
   "source": [
    "#### Model 1: Temperature + Fuel price \n"
   ]
  },
  {
   "cell_type": "code",
   "execution_count": 58,
   "metadata": {},
   "outputs": [
    {
     "data": {
      "text/plain": [
       "\n",
       "Call:\n",
       "lm(formula = Weekly_Sales ~ Fuel_Price + Temperature, data = sales_all)\n",
       "\n",
       "Residuals:\n",
       "   Min     1Q Median     3Q    Max \n",
       "-28145 -13163  -3706  11752  68920 \n",
       "\n",
       "Coefficients:\n",
       "             Estimate Std. Error t value Pr(>|t|)    \n",
       "(Intercept) 39388.463    650.102  60.588  < 2e-16 ***\n",
       "Fuel_Price  -1242.880    179.685  -6.917 4.67e-12 ***\n",
       "Temperature  -163.570      5.013 -32.626  < 2e-16 ***\n",
       "---\n",
       "Signif. codes:  0 ‘***’ 0.001 ‘**’ 0.01 ‘*’ 0.05 ‘.’ 0.1 ‘ ’ 1\n",
       "\n",
       "Residual standard error: 15500 on 44997 degrees of freedom\n",
       "Multiple R-squared:  0.02555,\tAdjusted R-squared:  0.02551 \n",
       "F-statistic: 589.9 on 2 and 44997 DF,  p-value: < 2.2e-16\n"
      ]
     },
     "metadata": {},
     "output_type": "display_data"
    }
   ],
   "source": [
    "# model 1 : based on Fuel_Price +temperature \n",
    "\n",
    "mod1_mlm<-lm(Weekly_Sales~Fuel_Price+Temperature,data=sales_all)\n",
    "summary(mod1_mlm) # display summary "
   ]
  },
  {
   "cell_type": "markdown",
   "metadata": {},
   "source": [
    "By combining, Fuel price and Temperature have shown better Adjusted R-squared value than simple linear regression model. The model can be expressed as weekly_sales=61459.74-5824.96* Fuel_Price-Temperature*345.73 "
   ]
  },
  {
   "cell_type": "markdown",
   "metadata": {},
   "source": [
    "#### Model 2:  Fuel price+Unemployment "
   ]
  },
  {
   "cell_type": "code",
   "execution_count": 59,
   "metadata": {},
   "outputs": [
    {
     "data": {
      "text/plain": [
       "\n",
       "Call:\n",
       "lm(formula = Weekly_Sales ~ Fuel_Price + Unemployment, data = sales_all)\n",
       "\n",
       "Residuals:\n",
       "   Min     1Q Median     3Q    Max \n",
       "-28263 -11483  -3478  12320  62413 \n",
       "\n",
       "Coefficients:\n",
       "                  Estimate Std. Error t value Pr(>|t|)    \n",
       "(Intercept)       10748.42    1803.11   5.961 2.52e-09 ***\n",
       "Fuel_Price         3342.90     496.12   6.738 1.62e-11 ***\n",
       "Unemployment4.308   789.88     787.61   1.003 0.315923    \n",
       "Unemployment4.607  2661.31     702.01   3.791 0.000150 ***\n",
       "Unemployment5.143  8764.49     796.89  10.998  < 2e-16 ***\n",
       "Unemployment5.603   -69.09     702.08  -0.098 0.921613    \n",
       "Unemployment5.644 -2250.89     785.31  -2.866 0.004156 ** \n",
       "Unemployment5.801   154.78     714.33   0.217 0.828456    \n",
       "Unemployment5.943  2614.51     702.02   3.724 0.000196 ***\n",
       "Unemployment5.946 -1358.81     712.37  -1.907 0.056468 .  \n",
       "Unemployment6.3    8762.82     796.85  10.997  < 2e-16 ***\n",
       "Unemployment6.334   -69.09     702.08  -0.098 0.921613    \n",
       "Unemployment6.465   454.63     851.00   0.534 0.593187    \n",
       "Unemployment6.489 -1431.24     714.27  -2.004 0.045101 *  \n",
       "Unemployment6.496  2788.40     821.92   3.393 0.000693 ***\n",
       "Unemployment6.51   2248.18     718.90   3.127 0.001766 ** \n",
       "Unemployment6.529 -2260.92     785.37  -2.879 0.003994 ** \n",
       "Unemployment6.551    67.13     998.77   0.067 0.946409    \n",
       "Unemployment6.565   -69.09     702.08  -0.098 0.921613    \n",
       "Unemployment6.634  2280.50     719.95   3.168 0.001538 ** \n",
       "Unemployment6.664   738.07     788.29   0.936 0.349130    \n",
       "Unemployment6.768 13445.90     858.16  15.668  < 2e-16 ***\n",
       "Unemployment6.833  2614.51     702.02   3.724 0.000196 ***\n",
       "Unemployment6.855 -1431.24     714.27  -2.004 0.045101 *  \n",
       "Unemployment6.858  2280.50     719.95   3.168 0.001538 ** \n",
       "Unemployment6.891   -28.92     705.63  -0.041 0.967304    \n",
       "Unemployment6.908   -69.09     702.08  -0.098 0.921613    \n",
       "Unemployment6.925 -2260.92     785.37  -2.879 0.003994 ** \n",
       "Unemployment6.973  2788.40     821.92   3.393 0.000693 ***\n",
       "Unemployment7.007 13445.90     858.16  15.668  < 2e-16 ***\n",
       "Unemployment7.057  2614.51     702.02   3.724 0.000196 ***\n",
       "Unemployment7.092   454.63     851.00   0.534 0.593187    \n",
       "Unemployment7.127 13400.77     855.48  15.665  < 2e-16 ***\n",
       "Unemployment7.143   738.07     788.29   0.936 0.349130    \n",
       "Unemployment7.197  8762.82     796.85  10.997  < 2e-16 ***\n",
       "Unemployment7.343   454.63     851.00   0.534 0.593187    \n",
       "Unemployment7.346  2788.40     821.92   3.393 0.000693 ***\n",
       "Unemployment7.348  2614.51     702.02   3.724 0.000196 ***\n",
       "Unemployment7.372  2770.57     820.55   3.376 0.000735 ***\n",
       "Unemployment7.441  8762.82     796.85  10.997  < 2e-16 ***\n",
       "Unemployment7.551  2280.50     719.95   3.168 0.001538 ** \n",
       "Unemployment7.564 13445.90     858.16  15.668  < 2e-16 ***\n",
       "Unemployment7.567 -2260.92     785.37  -2.879 0.003994 ** \n",
       "Unemployment7.574 -1431.24     714.27  -2.004 0.045101 *  \n",
       "Unemployment7.682 -1431.24     714.27  -2.004 0.045101 *  \n",
       "Unemployment7.742  2280.50     719.95   3.168 0.001538 ** \n",
       "Unemployment7.787  2788.40     821.92   3.393 0.000693 ***\n",
       "Unemployment7.808   454.63     851.00   0.534 0.593187    \n",
       "Unemployment7.838 13445.90     858.16  15.668  < 2e-16 ***\n",
       "Unemployment7.852 -2260.92     785.37  -2.879 0.003994 ** \n",
       "Unemployment7.866  8762.82     796.85  10.997  < 2e-16 ***\n",
       "Unemployment7.896   466.33     851.68   0.548 0.584008    \n",
       "Unemployment7.931 -1431.24     714.27  -2.004 0.045101 *  \n",
       "Unemployment7.962 -2260.92     785.37  -2.879 0.003994 ** \n",
       "Unemployment8.028  2280.50     719.95   3.168 0.001538 ** \n",
       "Unemployment8.099  2788.40     821.92   3.393 0.000693 ***\n",
       "Unemployment8.163 13445.90     858.16  15.668  < 2e-16 ***\n",
       "Unemployment8.2     454.63     851.00   0.534 0.593187    \n",
       "---\n",
       "Signif. codes:  0 ‘***’ 0.001 ‘**’ 0.01 ‘*’ 0.05 ‘.’ 0.1 ‘ ’ 1\n",
       "\n",
       "Residual standard error: 15260 on 44942 degrees of freedom\n",
       "Multiple R-squared:  0.05701,\tAdjusted R-squared:  0.05582 \n",
       "F-statistic: 47.67 on 57 and 44942 DF,  p-value: < 2.2e-16\n"
      ]
     },
     "metadata": {},
     "output_type": "display_data"
    }
   ],
   "source": [
    "# model 2 : based on Fuel_Price +Unemployment \n",
    "\n",
    "mod2_mlm<-lm(Weekly_Sales~Fuel_Price+Unemployment,data=sales_all)\n",
    "summary(mod2_mlm)"
   ]
  },
  {
   "cell_type": "markdown",
   "metadata": {},
   "source": [
    "By combining, Fuel price and Unemployment have shown better Adjusted R-squared value than multiple  linear regression model1.  \n",
    "\n"
   ]
  },
  {
   "cell_type": "markdown",
   "metadata": {},
   "source": [
    "#### Model 3:  Fuel price+Store size "
   ]
  },
  {
   "cell_type": "code",
   "execution_count": 60,
   "metadata": {},
   "outputs": [
    {
     "data": {
      "text/plain": [
       "\n",
       "Call:\n",
       "lm(formula = Weekly_Sales ~ Fuel_Price + Size, data = sales_all)\n",
       "\n",
       "Residuals:\n",
       "   Min     1Q Median     3Q    Max \n",
       "-22185 -12681  -4868  11947  71468 \n",
       "\n",
       "Coefficients:\n",
       "              Estimate Std. Error t value Pr(>|t|)    \n",
       "(Intercept)  3.026e+04  6.130e+02   49.36   <2e-16 ***\n",
       "Fuel_Price  -1.917e+03  1.806e+02  -10.61   <2e-16 ***\n",
       "Size         2.688e-17  1.172e-03    0.00        1    \n",
       "---\n",
       "Signif. codes:  0 ‘***’ 0.001 ‘**’ 0.01 ‘*’ 0.05 ‘.’ 0.1 ‘ ’ 1\n",
       "\n",
       "Residual standard error: 15680 on 44997 degrees of freedom\n",
       "Multiple R-squared:  0.002497,\tAdjusted R-squared:  0.002452 \n",
       "F-statistic: 56.31 on 2 and 44997 DF,  p-value: < 2.2e-16\n"
      ]
     },
     "metadata": {},
     "output_type": "display_data"
    }
   ],
   "source": [
    "# model 3 : based on Fuel_Price + store size  \n",
    "\n",
    "mod3_mlm<-lm(Weekly_Sales~Fuel_Price+Size,data=sales_all)\n",
    "summary(mod3_mlm)"
   ]
  },
  {
   "cell_type": "markdown",
   "metadata": {},
   "source": [
    "The Adjusted R-squared:  0.02429 of model 3 have shown lower performance than model 1 7 model 2."
   ]
  },
  {
   "cell_type": "markdown",
   "metadata": {},
   "source": [
    "#### Model 4:  Temperature+Uemployment "
   ]
  },
  {
   "cell_type": "code",
   "execution_count": 61,
   "metadata": {},
   "outputs": [
    {
     "data": {
      "text/plain": [
       "\n",
       "Call:\n",
       "lm(formula = Weekly_Sales ~ Temperature + Unemployment, data = sales_all)\n",
       "\n",
       "Residuals:\n",
       "   Min     1Q Median     3Q    Max \n",
       "-26895 -12113  -3429  12653  61045 \n",
       "\n",
       "Coefficients:\n",
       "                   Estimate Std. Error t value Pr(>|t|)    \n",
       "(Intercept)       38215.717    900.880  42.420  < 2e-16 ***\n",
       "Temperature        -209.130      9.978 -20.960  < 2e-16 ***\n",
       "Unemployment4.308  1091.656    781.481   1.397 0.162448    \n",
       "Unemployment4.607 -4195.610    771.295  -5.440 5.36e-08 ***\n",
       "Unemployment5.143  2524.320    821.503   3.073 0.002122 ** \n",
       "Unemployment5.603  1288.238    701.649   1.836 0.066362 .  \n",
       "Unemployment5.644 -1543.997    781.857  -1.975 0.048299 *  \n",
       "Unemployment5.801   410.592    707.717   0.580 0.561807    \n",
       "Unemployment5.943 -1947.467    732.420  -2.659 0.007841 ** \n",
       "Unemployment5.946 -1238.144    699.738  -1.769 0.076827 .  \n",
       "Unemployment6.3    5304.697    790.722   6.709 1.99e-11 ***\n",
       "Unemployment6.334  1500.853    702.610   2.136 0.032676 *  \n",
       "Unemployment6.465 -2900.427    783.338  -3.703 0.000214 ***\n",
       "Unemployment6.489   137.928    699.706   0.197 0.843732    \n",
       "Unemployment6.496  1804.036    704.781   2.560 0.010479 *  \n",
       "Unemployment6.51  -5407.198    766.828  -7.051 1.80e-12 ***\n",
       "Unemployment6.529   145.769    788.583   0.185 0.853348    \n",
       "Unemployment6.551 -1557.105    989.376  -1.574 0.115535    \n",
       "Unemployment6.565  1001.730    700.584   1.430 0.152767    \n",
       "Unemployment6.634 -3368.185    732.202  -4.600 4.23e-06 ***\n",
       "Unemployment6.664  1913.535    782.126   2.447 0.014426 *  \n",
       "Unemployment6.768  7838.846    796.860   9.837  < 2e-16 ***\n",
       "Unemployment6.833 -1418.369    725.277  -1.956 0.050515 .  \n",
       "Unemployment6.855   204.849    699.862   0.293 0.769753    \n",
       "Unemployment6.858 -3216.915    730.084  -4.406 1.05e-05 ***\n",
       "Unemployment6.891    -4.842    699.292  -0.007 0.994475    \n",
       "Unemployment6.908   729.862    699.818   1.043 0.296986    \n",
       "Unemployment6.925   321.438    789.751   0.407 0.684001    \n",
       "Unemployment6.973  1712.716    704.235   2.432 0.015019 *  \n",
       "Unemployment7.007  7990.465    795.476  10.045  < 2e-16 ***\n",
       "Unemployment7.057 -2447.287    739.896  -3.308 0.000942 ***\n",
       "Unemployment7.092 -2843.962    783.155  -3.631 0.000282 ***\n",
       "Unemployment7.127  6676.086    809.547   8.247  < 2e-16 ***\n",
       "Unemployment7.143   965.133    781.556   1.235 0.216879    \n",
       "Unemployment7.197  5819.156    787.349   7.391 1.48e-13 ***\n",
       "Unemployment7.343 -2474.848    782.192  -3.164 0.001557 ** \n",
       "Unemployment7.346  1786.608    704.675   2.535 0.011236 *  \n",
       "Unemployment7.348 -2091.766    734.507  -2.848 0.004404 ** \n",
       "Unemployment7.372  -437.136    699.145  -0.625 0.531815    \n",
       "Unemployment7.441  4783.964    794.895   6.018 1.78e-09 ***\n",
       "Unemployment7.551 -2327.417    718.972  -3.237 0.001208 ** \n",
       "Unemployment7.564  8067.843    794.794  10.151  < 2e-16 ***\n",
       "Unemployment7.567    -2.713    787.663  -0.003 0.997252    \n",
       "Unemployment7.574   588.951    701.035   0.840 0.400848    \n",
       "Unemployment7.682   -65.625    699.323  -0.094 0.925236    \n",
       "Unemployment7.742 -3741.830    737.709  -5.072 3.95e-07 ***\n",
       "Unemployment7.787  1705.745    704.195   2.422 0.015428 *  \n",
       "Unemployment7.808 -2794.816    783.004  -3.569 0.000358 ***\n",
       "Unemployment7.838  7556.521    799.606   9.450  < 2e-16 ***\n",
       "Unemployment7.852  -221.253    786.425  -0.281 0.778451    \n",
       "Unemployment7.866  4948.131    793.498   6.236 4.53e-10 ***\n",
       "Unemployment7.896 -5149.615    797.993  -6.453 1.11e-10 ***\n",
       "Unemployment7.931  -253.841    699.088  -0.363 0.716529    \n",
       "Unemployment7.962  -242.166    786.313  -0.308 0.758102    \n",
       "Unemployment8.028 -3905.648    740.246  -5.276 1.33e-07 ***\n",
       "Unemployment8.099  1995.738    706.014   2.827 0.004704 ** \n",
       "Unemployment8.163  7172.769    803.684   8.925  < 2e-16 ***\n",
       "Unemployment8.2   -2765.538    782.918  -3.532 0.000412 ***\n",
       "---\n",
       "Signif. codes:  0 ‘***’ 0.001 ‘**’ 0.01 ‘*’ 0.05 ‘.’ 0.1 ‘ ’ 1\n",
       "\n",
       "Residual standard error: 15190 on 44942 degrees of freedom\n",
       "Multiple R-squared:  0.0652,\tAdjusted R-squared:  0.06401 \n",
       "F-statistic: 54.99 on 57 and 44942 DF,  p-value: < 2.2e-16\n"
      ]
     },
     "metadata": {},
     "output_type": "display_data"
    }
   ],
   "source": [
    "# model 4 : based on Temperature+Unemployment\n",
    "\n",
    "mod5_mlm<-lm(Weekly_Sales~Temperature+Unemployment,data=sales_all)\n",
    "summary(mod5_mlm)"
   ]
  },
  {
   "cell_type": "markdown",
   "metadata": {},
   "source": [
    "The Adjusted R-squared:  0.4657  of model 4 have shown better performance than model all multiple linear regression model."
   ]
  },
  {
   "cell_type": "markdown",
   "metadata": {},
   "source": [
    "Simple Linear Regression and Multiple Linear Regression Model Comparison: We have made 5 simple linear regression model but those model's adjusted R value is close to zero. Those model shows poor performance. By adding multiple variable, the adjusted R value becomes better. "
   ]
  },
  {
   "cell_type": "markdown",
   "metadata": {},
   "source": [
    "# Plot "
   ]
  },
  {
   "cell_type": "code",
   "execution_count": 11,
   "metadata": {},
   "outputs": [
    {
     "name": "stderr",
     "output_type": "stream",
     "text": [
      "Updating HTML index of packages in '.Library'\n",
      "Making 'packages.html' ... done\n"
     ]
    }
   ],
   "source": [
    "install.packages(\"ggplot2\")\n",
    "library(ggplot2)"
   ]
  },
  {
   "cell_type": "code",
   "execution_count": 23,
   "metadata": {},
   "outputs": [
    {
     "name": "stdout",
     "output_type": "stream",
     "text": [
      "       1 \n",
      "16321.59 \n"
     ]
    },
    {
     "name": "stderr",
     "output_type": "stream",
     "text": [
      "Warning message:\n",
      "“Removed 171781 rows containing non-finite values (stat_smooth).”Warning message:\n",
      "“Removed 171781 rows containing missing values (geom_point).”Warning message:\n",
      "“Removed 171781 rows containing missing values (geom_point).”"
     ]
    },
    {
     "data": {},
     "metadata": {},
     "output_type": "display_data"
    },
    {
     "data": {
      "image/png": "[encoded data removed]",
      "text/plain": [
       "plot without title"
      ]
     },
     "metadata": {},
     "output_type": "display_data"
    }
   ],
   "source": [
    "new<-data.frame(Temperature=22) # predication value \n",
    "res<-predict(mod2,newdata=new) # predication result \n",
    "print (res) # print the predicated value \n",
    "\n",
    "# plot usign ggplot \n",
    "ggplot(sales_all,aes(x=Temperature,y=Weekly_Sales))+geom_point(shape=0.01,size=.01)+geom_point(x=new$Temperature,y=res,size=10,shape=19,color=\"red\")+geom_smooth(method=lm)+geom_point(shape=0.01,size=.010)+labs(x=\"Temperature \",y=\"Sales\")\n",
    "\n"
   ]
  },
  {
   "cell_type": "markdown",
   "metadata": {},
   "source": [
    "# 7.Summary"
   ]
  },
  {
   "cell_type": "markdown",
   "metadata": {},
   "source": [
    "The analysis of dataset represents a good insight of Amazon weekly sales. The datasets are reliable. Therefore, the chance to get almost optimal solution for small projects is moderate. \n",
    "\n",
    "Simple Linear Regression models do not show better adjusted R value. That means the model performance will be poor. \n",
    "The weekly sales has no relation with store size (model 4). But unemployment rate and CPI are related to weekly sales. \n",
    "\n",
    "On the other hand, multiple linear regression models have shown better adjusted R values with compare to linear regression model. The Model 4(  Temperature+Unemployment) has high adjusted values than other models. Therefore, model 4 is the best suit model. \n",
    "\n"
   ]
  },
  {
   "cell_type": "markdown",
   "metadata": {},
   "source": [
    "# 8. Recommendations"
   ]
  },
  {
   "cell_type": "markdown",
   "metadata": {},
   "source": [
    "These are the following recommendation:\n",
    "1. Low unemployment rate means higher sales\n",
    "2. High temperature means low weekly sales\n",
    "\n"
   ]
  },
  {
   "cell_type": "code",
   "execution_count": null,
   "metadata": {},
   "outputs": [],
   "source": []
  }
 ],
 "metadata": {
  "kernelspec": {
   "display_name": "R",
   "language": "R",
   "name": "ir"
  },
  "language_info": {
   "codemirror_mode": "r",
   "file_extension": ".r",
   "mimetype": "text/x-r-source",
   "name": "R",
   "pygments_lexer": "r",
   "version": "3.5.1"
  }
 },
 "nbformat": 4,
 "nbformat_minor": 2
}
