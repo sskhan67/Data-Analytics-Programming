{
 "cells": [
  {
   "cell_type": "markdown",
   "metadata": {},
   "source": [
    "# Name: \n",
    "Syeduzzaman Khan\n",
    "# Project Title:  \n",
    "Selection of right Sport events and Athlete by analyzing Olympic Games data\n",
    "# 1. Objectives: \n",
    "<p style='text-align: justify;'>\n",
    "The Olympic Games are considered the world's foremost sports competition with more than 200 nations participating. The Olympic Games are held every four years, with the Summer and Winter Games alternating by occurring every four years but two years apart. The given dataset contains almost all necessary information from Athens 1896 to Rio 2016.</p>\n",
    "<p style='text-align: justify;'>\n",
    "The purpose of this project is to analysis the Olympics dataset and help Kellogg's to find appropriate sport event and athlete so that Kellogg's can be sponsor for the sport event and athlete on the next Olympics. <br>\n",
    "</p>\n",
    "<p style='text-align: justify;'>\n",
    "To achieve Kellogg's goals, we have to carefully analyze the dataset considering different perspectives. In the beginning of the project, we will get to familiar with dataset and look into different columns. Then, we will pick the relevant columns that will lead us to reach our goals. The obtained results will be visualized using plot and table.  \n",
    "</p>"
   ]
  },
  {
   "cell_type": "markdown",
   "metadata": {},
   "source": [
    "# 2. Data Exploration: "
   ]
  },
  {
   "cell_type": "markdown",
   "metadata": {},
   "source": [
    "\n",
    "Read dataset"
   ]
  },
  {
   "cell_type": "code",
   "execution_count": 1,
   "metadata": {},
   "outputs": [],
   "source": [
    "# read csv file \n",
    "dataset <- read.csv (\"athlete_events.csv\", na.strings=\"\",stringsAsFactors=FALSE)"
   ]
  },
  {
   "cell_type": "markdown",
   "metadata": {},
   "source": [
    "\n",
    "Print top 10 rows, Number of rows, Number of columns, and Percantile"
   ]
  },
  {
   "cell_type": "code",
   "execution_count": 2,
   "metadata": {},
   "outputs": [
    {
     "name": "stdout",
     "output_type": "stream",
     "text": [
      "Display top 10 rows:"
     ]
    },
    {
     "data": {
      "text/html": [
       "<table>\n",
       "<thead><tr><th scope=col>ID</th><th scope=col>Name</th><th scope=col>Sex</th><th scope=col>Age</th><th scope=col>Height</th><th scope=col>Weight</th><th scope=col>Team</th><th scope=col>NOC</th><th scope=col>Games</th><th scope=col>Year</th><th scope=col>Season</th><th scope=col>City</th><th scope=col>Sport</th><th scope=col>Event</th><th scope=col>Medal</th></tr></thead>\n",
       "<tbody>\n",
       "\t<tr><td>1                                 </td><td>A Dijiang                         </td><td>M                                 </td><td>24                                </td><td>180                               </td><td>80                                </td><td>China                             </td><td>CHN                               </td><td>1992 Summer                       </td><td>1992                              </td><td>Summer                            </td><td>Barcelona                         </td><td>Basketball                        </td><td>Basketball Men's Basketball       </td><td>NA                                </td></tr>\n",
       "\t<tr><td>2                                 </td><td>A Lamusi                          </td><td>M                                 </td><td>23                                </td><td>170                               </td><td>60                                </td><td>China                             </td><td>CHN                               </td><td>2012 Summer                       </td><td>2012                              </td><td>Summer                            </td><td>London                            </td><td>Judo                              </td><td>Judo Men's Extra-Lightweight      </td><td>NA                                </td></tr>\n",
       "\t<tr><td>3                                 </td><td>Gunnar Nielsen Aaby               </td><td>M                                 </td><td>24                                </td><td>NA                                </td><td>NA                                </td><td>Denmark                           </td><td>DEN                               </td><td>1920 Summer                       </td><td>1920                              </td><td>Summer                            </td><td>Antwerpen                         </td><td>Football                          </td><td>Football Men's Football           </td><td>NA                                </td></tr>\n",
       "\t<tr><td>4                                 </td><td>Edgar Lindenau Aabye              </td><td>M                                 </td><td>34                                </td><td>NA                                </td><td>NA                                </td><td>Denmark/Sweden                    </td><td>DEN                               </td><td>1900 Summer                       </td><td>1900                              </td><td>Summer                            </td><td>Paris                             </td><td>Tug-Of-War                        </td><td>Tug-Of-War Men's Tug-Of-War       </td><td>Gold                              </td></tr>\n",
       "\t<tr><td>5                                 </td><td>Christine Jacoba Aaftink          </td><td>F                                 </td><td>21                                </td><td>185                               </td><td>82                                </td><td>Netherlands                       </td><td>NED                               </td><td>1988 Winter                       </td><td>1988                              </td><td>Winter                            </td><td>Calgary                           </td><td>Speed Skating                     </td><td>Speed Skating Women's 500 metres  </td><td>NA                                </td></tr>\n",
       "\t<tr><td>5                                 </td><td>Christine Jacoba Aaftink          </td><td>F                                 </td><td>21                                </td><td>185                               </td><td>82                                </td><td>Netherlands                       </td><td>NED                               </td><td>1988 Winter                       </td><td>1988                              </td><td>Winter                            </td><td>Calgary                           </td><td>Speed Skating                     </td><td>Speed Skating Women's 1,000 metres</td><td>NA                                </td></tr>\n",
       "\t<tr><td>5                                 </td><td>Christine Jacoba Aaftink          </td><td>F                                 </td><td>25                                </td><td>185                               </td><td>82                                </td><td>Netherlands                       </td><td>NED                               </td><td>1992 Winter                       </td><td>1992                              </td><td>Winter                            </td><td>Albertville                       </td><td>Speed Skating                     </td><td>Speed Skating Women's 500 metres  </td><td>NA                                </td></tr>\n",
       "\t<tr><td>5                                 </td><td>Christine Jacoba Aaftink          </td><td>F                                 </td><td>25                                </td><td>185                               </td><td>82                                </td><td>Netherlands                       </td><td>NED                               </td><td>1992 Winter                       </td><td>1992                              </td><td>Winter                            </td><td>Albertville                       </td><td>Speed Skating                     </td><td>Speed Skating Women's 1,000 metres</td><td>NA                                </td></tr>\n",
       "\t<tr><td>5                                 </td><td>Christine Jacoba Aaftink          </td><td>F                                 </td><td>27                                </td><td>185                               </td><td>82                                </td><td>Netherlands                       </td><td>NED                               </td><td>1994 Winter                       </td><td>1994                              </td><td>Winter                            </td><td>Lillehammer                       </td><td>Speed Skating                     </td><td>Speed Skating Women's 500 metres  </td><td>NA                                </td></tr>\n",
       "\t<tr><td>5                                 </td><td>Christine Jacoba Aaftink          </td><td>F                                 </td><td>27                                </td><td>185                               </td><td>82                                </td><td>Netherlands                       </td><td>NED                               </td><td>1994 Winter                       </td><td>1994                              </td><td>Winter                            </td><td>Lillehammer                       </td><td>Speed Skating                     </td><td>Speed Skating Women's 1,000 metres</td><td>NA                                </td></tr>\n",
       "</tbody>\n",
       "</table>\n"
      ],
      "text/latex": [
       "\\begin{tabular}{r|lllllllllllllll}\n",
       " ID & Name & Sex & Age & Height & Weight & Team & NOC & Games & Year & Season & City & Sport & Event & Medal\\\\\n",
       "\\hline\n",
       "\t 1                                  & A Dijiang                          & M                                  & 24                                 & 180                                & 80                                 & China                              & CHN                                & 1992 Summer                        & 1992                               & Summer                             & Barcelona                          & Basketball                         & Basketball Men's Basketball        & NA                                \\\\\n",
       "\t 2                                  & A Lamusi                           & M                                  & 23                                 & 170                                & 60                                 & China                              & CHN                                & 2012 Summer                        & 2012                               & Summer                             & London                             & Judo                               & Judo Men's Extra-Lightweight       & NA                                \\\\\n",
       "\t 3                                  & Gunnar Nielsen Aaby                & M                                  & 24                                 & NA                                 & NA                                 & Denmark                            & DEN                                & 1920 Summer                        & 1920                               & Summer                             & Antwerpen                          & Football                           & Football Men's Football            & NA                                \\\\\n",
       "\t 4                                  & Edgar Lindenau Aabye               & M                                  & 34                                 & NA                                 & NA                                 & Denmark/Sweden                     & DEN                                & 1900 Summer                        & 1900                               & Summer                             & Paris                              & Tug-Of-War                         & Tug-Of-War Men's Tug-Of-War        & Gold                              \\\\\n",
       "\t 5                                  & Christine Jacoba Aaftink           & F                                  & 21                                 & 185                                & 82                                 & Netherlands                        & NED                                & 1988 Winter                        & 1988                               & Winter                             & Calgary                            & Speed Skating                      & Speed Skating Women's 500 metres   & NA                                \\\\\n",
       "\t 5                                  & Christine Jacoba Aaftink           & F                                  & 21                                 & 185                                & 82                                 & Netherlands                        & NED                                & 1988 Winter                        & 1988                               & Winter                             & Calgary                            & Speed Skating                      & Speed Skating Women's 1,000 metres & NA                                \\\\\n",
       "\t 5                                  & Christine Jacoba Aaftink           & F                                  & 25                                 & 185                                & 82                                 & Netherlands                        & NED                                & 1992 Winter                        & 1992                               & Winter                             & Albertville                        & Speed Skating                      & Speed Skating Women's 500 metres   & NA                                \\\\\n",
       "\t 5                                  & Christine Jacoba Aaftink           & F                                  & 25                                 & 185                                & 82                                 & Netherlands                        & NED                                & 1992 Winter                        & 1992                               & Winter                             & Albertville                        & Speed Skating                      & Speed Skating Women's 1,000 metres & NA                                \\\\\n",
       "\t 5                                  & Christine Jacoba Aaftink           & F                                  & 27                                 & 185                                & 82                                 & Netherlands                        & NED                                & 1994 Winter                        & 1994                               & Winter                             & Lillehammer                        & Speed Skating                      & Speed Skating Women's 500 metres   & NA                                \\\\\n",
       "\t 5                                  & Christine Jacoba Aaftink           & F                                  & 27                                 & 185                                & 82                                 & Netherlands                        & NED                                & 1994 Winter                        & 1994                               & Winter                             & Lillehammer                        & Speed Skating                      & Speed Skating Women's 1,000 metres & NA                                \\\\\n",
       "\\end{tabular}\n"
      ],
      "text/markdown": [
       "\n",
       "ID | Name | Sex | Age | Height | Weight | Team | NOC | Games | Year | Season | City | Sport | Event | Medal | \n",
       "|---|---|---|---|---|---|---|---|---|---|\n",
       "| 1                                  | A Dijiang                          | M                                  | 24                                 | 180                                | 80                                 | China                              | CHN                                | 1992 Summer                        | 1992                               | Summer                             | Barcelona                          | Basketball                         | Basketball Men's Basketball        | NA                                 | \n",
       "| 2                                  | A Lamusi                           | M                                  | 23                                 | 170                                | 60                                 | China                              | CHN                                | 2012 Summer                        | 2012                               | Summer                             | London                             | Judo                               | Judo Men's Extra-Lightweight       | NA                                 | \n",
       "| 3                                  | Gunnar Nielsen Aaby                | M                                  | 24                                 | NA                                 | NA                                 | Denmark                            | DEN                                | 1920 Summer                        | 1920                               | Summer                             | Antwerpen                          | Football                           | Football Men's Football            | NA                                 | \n",
       "| 4                                  | Edgar Lindenau Aabye               | M                                  | 34                                 | NA                                 | NA                                 | Denmark/Sweden                     | DEN                                | 1900 Summer                        | 1900                               | Summer                             | Paris                              | Tug-Of-War                         | Tug-Of-War Men's Tug-Of-War        | Gold                               | \n",
       "| 5                                  | Christine Jacoba Aaftink           | F                                  | 21                                 | 185                                | 82                                 | Netherlands                        | NED                                | 1988 Winter                        | 1988                               | Winter                             | Calgary                            | Speed Skating                      | Speed Skating Women's 500 metres   | NA                                 | \n",
       "| 5                                  | Christine Jacoba Aaftink           | F                                  | 21                                 | 185                                | 82                                 | Netherlands                        | NED                                | 1988 Winter                        | 1988                               | Winter                             | Calgary                            | Speed Skating                      | Speed Skating Women's 1,000 metres | NA                                 | \n",
       "| 5                                  | Christine Jacoba Aaftink           | F                                  | 25                                 | 185                                | 82                                 | Netherlands                        | NED                                | 1992 Winter                        | 1992                               | Winter                             | Albertville                        | Speed Skating                      | Speed Skating Women's 500 metres   | NA                                 | \n",
       "| 5                                  | Christine Jacoba Aaftink           | F                                  | 25                                 | 185                                | 82                                 | Netherlands                        | NED                                | 1992 Winter                        | 1992                               | Winter                             | Albertville                        | Speed Skating                      | Speed Skating Women's 1,000 metres | NA                                 | \n",
       "| 5                                  | Christine Jacoba Aaftink           | F                                  | 27                                 | 185                                | 82                                 | Netherlands                        | NED                                | 1994 Winter                        | 1994                               | Winter                             | Lillehammer                        | Speed Skating                      | Speed Skating Women's 500 metres   | NA                                 | \n",
       "| 5                                  | Christine Jacoba Aaftink           | F                                  | 27                                 | 185                                | 82                                 | Netherlands                        | NED                                | 1994 Winter                        | 1994                               | Winter                             | Lillehammer                        | Speed Skating                      | Speed Skating Women's 1,000 metres | NA                                 | \n",
       "\n",
       "\n"
      ],
      "text/plain": [
       "   ID Name                     Sex Age Height Weight Team           NOC\n",
       "1  1  A Dijiang                M   24  180    80     China          CHN\n",
       "2  2  A Lamusi                 M   23  170    60     China          CHN\n",
       "3  3  Gunnar Nielsen Aaby      M   24  NA     NA     Denmark        DEN\n",
       "4  4  Edgar Lindenau Aabye     M   34  NA     NA     Denmark/Sweden DEN\n",
       "5  5  Christine Jacoba Aaftink F   21  185    82     Netherlands    NED\n",
       "6  5  Christine Jacoba Aaftink F   21  185    82     Netherlands    NED\n",
       "7  5  Christine Jacoba Aaftink F   25  185    82     Netherlands    NED\n",
       "8  5  Christine Jacoba Aaftink F   25  185    82     Netherlands    NED\n",
       "9  5  Christine Jacoba Aaftink F   27  185    82     Netherlands    NED\n",
       "10 5  Christine Jacoba Aaftink F   27  185    82     Netherlands    NED\n",
       "   Games       Year Season City        Sport        \n",
       "1  1992 Summer 1992 Summer Barcelona   Basketball   \n",
       "2  2012 Summer 2012 Summer London      Judo         \n",
       "3  1920 Summer 1920 Summer Antwerpen   Football     \n",
       "4  1900 Summer 1900 Summer Paris       Tug-Of-War   \n",
       "5  1988 Winter 1988 Winter Calgary     Speed Skating\n",
       "6  1988 Winter 1988 Winter Calgary     Speed Skating\n",
       "7  1992 Winter 1992 Winter Albertville Speed Skating\n",
       "8  1992 Winter 1992 Winter Albertville Speed Skating\n",
       "9  1994 Winter 1994 Winter Lillehammer Speed Skating\n",
       "10 1994 Winter 1994 Winter Lillehammer Speed Skating\n",
       "   Event                              Medal\n",
       "1  Basketball Men's Basketball        NA   \n",
       "2  Judo Men's Extra-Lightweight       NA   \n",
       "3  Football Men's Football            NA   \n",
       "4  Tug-Of-War Men's Tug-Of-War        Gold \n",
       "5  Speed Skating Women's 500 metres   NA   \n",
       "6  Speed Skating Women's 1,000 metres NA   \n",
       "7  Speed Skating Women's 500 metres   NA   \n",
       "8  Speed Skating Women's 1,000 metres NA   \n",
       "9  Speed Skating Women's 500 metres   NA   \n",
       "10 Speed Skating Women's 1,000 metres NA   "
      ]
     },
     "metadata": {},
     "output_type": "display_data"
    },
    {
     "name": "stdout",
     "output_type": "stream",
     "text": [
      "\n",
      " \n",
      "Number of Rows:  271116\n",
      "Number of Columns:  15\n",
      "Percentiles of Height [cm]: \n"
     ]
    },
    {
     "data": {
      "text/html": [
       "<dl class=dl-horizontal>\n",
       "\t<dt>25%</dt>\n",
       "\t\t<dd>157</dd>\n",
       "\t<dt>50%</dt>\n",
       "\t\t<dd>171</dd>\n",
       "\t<dt>75%</dt>\n",
       "\t\t<dd>180</dd>\n",
       "</dl>\n"
      ],
      "text/latex": [
       "\\begin{description*}\n",
       "\\item[25\\textbackslash{}\\%] 157\n",
       "\\item[50\\textbackslash{}\\%] 171\n",
       "\\item[75\\textbackslash{}\\%] 180\n",
       "\\end{description*}\n"
      ],
      "text/markdown": [
       "25%\n",
       ":   15750%\n",
       ":   17175%\n",
       ":   180\n",
       "\n"
      ],
      "text/plain": [
       "25% 50% 75% \n",
       "157 171 180 "
      ]
     },
     "metadata": {},
     "output_type": "display_data"
    },
    {
     "name": "stdout",
     "output_type": "stream",
     "text": [
      "\n",
      "Percentiles of Age [year]: \n"
     ]
    },
    {
     "data": {
      "text/html": [
       "<dl class=dl-horizontal>\n",
       "\t<dt>25%</dt>\n",
       "\t\t<dd>21</dd>\n",
       "\t<dt>50%</dt>\n",
       "\t\t<dd>24</dd>\n",
       "\t<dt>75%</dt>\n",
       "\t\t<dd>28</dd>\n",
       "</dl>\n"
      ],
      "text/latex": [
       "\\begin{description*}\n",
       "\\item[25\\textbackslash{}\\%] 21\n",
       "\\item[50\\textbackslash{}\\%] 24\n",
       "\\item[75\\textbackslash{}\\%] 28\n",
       "\\end{description*}\n"
      ],
      "text/markdown": [
       "25%\n",
       ":   2150%\n",
       ":   2475%\n",
       ":   28\n",
       "\n"
      ],
      "text/plain": [
       "25% 50% 75% \n",
       " 21  24  28 "
      ]
     },
     "metadata": {},
     "output_type": "display_data"
    },
    {
     "name": "stdout",
     "output_type": "stream",
     "text": [
      "\n",
      "Percentiles of weights [kg]: \n"
     ]
    },
    {
     "data": {
      "text/html": [
       "<dl class=dl-horizontal>\n",
       "\t<dt>25%</dt>\n",
       "\t\t<dd>47</dd>\n",
       "\t<dt>50%</dt>\n",
       "\t\t<dd>64</dd>\n",
       "\t<dt>75%</dt>\n",
       "\t\t<dd>75</dd>\n",
       "</dl>\n"
      ],
      "text/latex": [
       "\\begin{description*}\n",
       "\\item[25\\textbackslash{}\\%] 47\n",
       "\\item[50\\textbackslash{}\\%] 64\n",
       "\\item[75\\textbackslash{}\\%] 75\n",
       "\\end{description*}\n"
      ],
      "text/markdown": [
       "25%\n",
       ":   4750%\n",
       ":   6475%\n",
       ":   75\n",
       "\n"
      ],
      "text/plain": [
       "25% 50% 75% \n",
       " 47  64  75 "
      ]
     },
     "metadata": {},
     "output_type": "display_data"
    }
   ],
   "source": [
    "cat(\"Display top 10 rows:\") # print message \n",
    "head (dataset,n=10) # print top 10 rows \n",
    "cat(\"\\n \\n\")\n",
    "cat (\"Number of Rows: \",nrow(dataset)) # calculate number of rows\n",
    "cat (\"\\nNumber of Columns: \",ncol(dataset)) # calculate number of coloumns \n",
    "\n",
    "# Percentiles of the numerical values\n",
    "\n",
    "Height<-dataset$Height # sotre Height to Height variable \n",
    "Height[Height==\"NA\"] <- \"0\" # missing values set to zero \n",
    "Height<-as.numeric(Height)# convert to number\n",
    "cat(\"\\nPercentiles of Height [cm]: \\n\")\n",
    "quantile(Height, prob = c(0.25, 0.50, 0.75)) # percentiles of Age\n",
    "\n",
    "Age<-dataset$Age # sotre age to age variable \n",
    "Age[Age==\"NA\"] <- \"0\" # missing values set to zero \n",
    "Age<-as.numeric(Age)# convert to number\n",
    "cat(\"\\nPercentiles of Age [year]: \\n\")\n",
    "quantile(Age, prob = c(0.25, 0.50, 0.75)) # percentiles of Age\n",
    "\n",
    "Weight<-dataset$Weight # sotre weight to weight variable \n",
    "Weight[Weight==\"NA\"] <- \"0\" # missing values set to zero \n",
    "Weight<-as.numeric(Weight)# convert to number\n",
    "cat(\"\\nPercentiles of weights [kg]: \\n\")\n",
    "quantile(Weight, prob = c(0.25, 0.50, 0.75)) # percentiles of weights"
   ]
  },
  {
   "cell_type": "markdown",
   "metadata": {},
   "source": [
    "# 3. One column selection"
   ]
  },
  {
   "cell_type": "code",
   "execution_count": 3,
   "metadata": {},
   "outputs": [
    {
     "name": "stdout",
     "output_type": "stream",
     "text": [
      "10 largest values [Weight]: 214 214 198 190 182 182 180 178 176.5 176.5"
     ]
    }
   ],
   "source": [
    "# select a column from dataset \n",
    "Weight <- dataset$Weight # select column \"Weight\" and store it variable name Weight\n",
    "Weight[Weight==\"NA\"] <- \"0\" # missing values are replaced by zero \n",
    "Weight<-as.numeric(Weight) # factor to interger conversion  \n",
    "cat(\"10 largest values [Weight]:\",head(sort(Weight,decreasing=TRUE),10)) # print 10 largest values "
   ]
  },
  {
   "cell_type": "markdown",
   "metadata": {},
   "source": [
    "# 4. Sort"
   ]
  },
  {
   "cell_type": "code",
   "execution_count": 4,
   "metadata": {},
   "outputs": [
    {
     "name": "stdout",
     "output_type": "stream",
     "text": [
      "Dataset based on Gold medal: "
     ]
    },
    {
     "data": {
      "text/html": [
       "<table>\n",
       "<thead><tr><th></th><th scope=col>Age</th><th scope=col>Height</th><th scope=col>Weight</th><th scope=col>Sport</th><th scope=col>Medal</th></tr></thead>\n",
       "<tbody>\n",
       "\t<tr><th scope=row>4</th><td>34           </td><td>NA           </td><td>NA           </td><td>Tug-Of-War   </td><td>Gold         </td></tr>\n",
       "\t<tr><th scope=row>43</th><td>28           </td><td>175          </td><td>64           </td><td>Gymnastics   </td><td>Gold         </td></tr>\n",
       "\t<tr><th scope=row>45</th><td>28           </td><td>175          </td><td>64           </td><td>Gymnastics   </td><td>Gold         </td></tr>\n",
       "\t<tr><th scope=row>49</th><td>28           </td><td>175          </td><td>64           </td><td>Gymnastics   </td><td>Gold         </td></tr>\n",
       "\t<tr><th scope=row>61</th><td>20           </td><td>176          </td><td>85           </td><td>Alpine Skiing</td><td>Gold         </td></tr>\n",
       "</tbody>\n",
       "</table>\n"
      ],
      "text/latex": [
       "\\begin{tabular}{r|lllll}\n",
       "  & Age & Height & Weight & Sport & Medal\\\\\n",
       "\\hline\n",
       "\t4 & 34            & NA            & NA            & Tug-Of-War    & Gold         \\\\\n",
       "\t43 & 28            & 175           & 64            & Gymnastics    & Gold         \\\\\n",
       "\t45 & 28            & 175           & 64            & Gymnastics    & Gold         \\\\\n",
       "\t49 & 28            & 175           & 64            & Gymnastics    & Gold         \\\\\n",
       "\t61 & 20            & 176           & 85            & Alpine Skiing & Gold         \\\\\n",
       "\\end{tabular}\n"
      ],
      "text/markdown": [
       "\n",
       "| <!--/--> | Age | Height | Weight | Sport | Medal | \n",
       "|---|---|---|---|---|\n",
       "| 4 | 34            | NA            | NA            | Tug-Of-War    | Gold          | \n",
       "| 43 | 28            | 175           | 64            | Gymnastics    | Gold          | \n",
       "| 45 | 28            | 175           | 64            | Gymnastics    | Gold          | \n",
       "| 49 | 28            | 175           | 64            | Gymnastics    | Gold          | \n",
       "| 61 | 20            | 176           | 85            | Alpine Skiing | Gold          | \n",
       "\n",
       "\n"
      ],
      "text/plain": [
       "   Age Height Weight Sport         Medal\n",
       "4  34  NA     NA     Tug-Of-War    Gold \n",
       "43 28  175    64     Gymnastics    Gold \n",
       "45 28  175    64     Gymnastics    Gold \n",
       "49 28  175    64     Gymnastics    Gold \n",
       "61 20  176    85     Alpine Skiing Gold "
      ]
     },
     "metadata": {},
     "output_type": "display_data"
    },
    {
     "name": "stdout",
     "output_type": "stream",
     "text": [
      "Sorted column [Age-> top 5 values: year]: 64 64 63 63 63\n",
      "Sorted column [Height-> top 5 values in S.I unit: cm]: 223 220 219 216 216\n",
      "\n",
      "Results Explaination:\n",
      "The extracted new dataset will give a summary of original dataset. Here, all the required columns are gathered together for achieving our main research goals.  By analyzing it, we can get the idea regarding participants age, height, \n",
      "weight, sports, and medals."
     ]
    }
   ],
   "source": [
    "# create new dataset: 5 columns \n",
    "new_dataset<-dataset [dataset$Medal==\"Gold\",c(\"Age\", \"Height\",\"Weight\",\"Sport\",\"Medal\")] # dataset based on gold medal\n",
    "cat(\"Dataset based on Gold medal: \")\n",
    "head(new_dataset,5) # print top 5 rows of new dataset\n",
    "# sorting columns : Age \n",
    "Age <- new_dataset$Age # select column \"Weight\" and store it variable name Weight\n",
    "Age[Age==\"NA\"] <- \"0\" # missing values are replaced by zero \n",
    "Age<-as.numeric(Age) # factor to interger conversion  \n",
    "cat(\"Sorted column [Age-> top 5 values: year]:\",head(sort(Age,decreasing=TRUE),5)) # print 5 largest values \n",
    "\n",
    "# sorting columns : Height\n",
    "Height <- new_dataset$Height # select column \"Weight\" and store it variable name Weight\n",
    "Height[Height==\"NA\"] <- \"0\" # missing values are replaced by zero \n",
    "Height<-as.numeric(Height) # factor to interger conversion \n",
    "# comments on result\n",
    "cat(\"\\nSorted column [Height-> top 5 values in S.I unit: cm]:\",head(sort(Height,decreasing=TRUE),5)) # print 5 largest values \n",
    "cat(\"\\n\\nResults Explaination:\")\n",
    "cat(\"\\nThe extracted new dataset will give a summary of original dataset. Here, all the required columns are gathered together for achieving our main research goals.  By analyzing it, we can get the idea regarding participants age, height, \n",
    "weight, sports, and medals.\")\n",
    "\n",
    "\n",
    "\n"
   ]
  },
  {
   "cell_type": "markdown",
   "metadata": {},
   "source": [
    "# 5. Series:"
   ]
  },
  {
   "cell_type": "code",
   "execution_count": 5,
   "metadata": {},
   "outputs": [
    {
     "name": "stdout",
     "output_type": "stream",
     "text": [
      "List of most Olympic gold medals:     \n",
      " \tSports Name: Athletics Swimming Rowing Gymnastics Fencing\n",
      "\tTotal Number: 1339 1099 978 791 594\n",
      "Average Age [year]: 25.61434\n",
      "Average Height [cm]: 140.2088\n",
      "A\u000b",
      "erage Weight [kg]: 54.30567\n",
      "\n",
      "Comments: The top five gold medal winning sports are Athletics, Swimming, Rowing, Gymnastics, and Fencing. Olympic gold medal winner can be categorized as their average age (25 years), height (140.20 cm), and weight (54 kg). By using the above data, Kellogg's can get idea to select the right sport and athletes."
     ]
    }
   ],
   "source": [
    "# Top medal numbers and Sports \n",
    "medal_table<-as.data.frame(table(new_dataset$Sport, useNA=\"ifany\")) # create dataframe for new dataset based on Sport\n",
    "frequency<-as.numeric(tail(sort(medal_table$Freq),5)) # top frequency calculation \n",
    "cat(\"List of most Olympic gold medals: \")\n",
    "cat(\"    \\n \\tSports Name:\",head(names(sort(table(new_dataset$Sport),decreasing=TRUE)), 5))# print top 5 sports that has won highest number of medal\n",
    "cat(\"\\n\\tTotal Number:\",sort(frequency,decreasing=TRUE))\n",
    "\n",
    "# Avg. Age \n",
    "cat(\"\\nAverage Age [year]:\",mean(Age))\n",
    "# Avg. Height\n",
    "cat(\"\\nAverage Height [cm]:\",mean(Height))\n",
    "# Avg. Weight \n",
    "cat(\"\\nA\\verage Weight [kg]:\",mean(Weight))\n",
    "\n",
    "# comments on result\n",
    "cat(\"\\n\\nComments: The top five gold medal winning sports are Athletics, Swimming, Rowing, Gymnastics, and Fencing. Olympic gold medal winner can be categorized as their average age (25 years), height (140.20 cm), and weight (54 kg). By using the above data, Kellogg's can get idea to select the right sport and athletes.\")\n"
   ]
  },
  {
   "cell_type": "markdown",
   "metadata": {},
   "source": [
    "# 6. Plot:"
   ]
  },
  {
   "cell_type": "code",
   "execution_count": 6,
   "metadata": {
    "scrolled": true
   },
   "outputs": [
    {
     "data": {
      "image/png": "[encoded data removed]",
      "text/plain": [
       "Plot with title “Most Olympic gold medals based on Sports”"
      ]
     },
     "metadata": {},
     "output_type": "display_data"
    }
   ],
   "source": [
    "# plot top sports that have won most gold medals \n",
    "sport_name<-tail(names(sort(table(new_dataset$Sport))), 5) # sports name \n",
    "# plot bar chart \n",
    "barplot(frequency,names.arg=sport_name,xlab=\"Sports Name\",ylab=\"Gold medal numbers\",col=\"green\",main=\"Most Olympic gold medals based on Sports\")\n",
    "\n",
    "\n",
    "\n"
   ]
  },
  {
   "cell_type": "markdown",
   "metadata": {},
   "source": [
    "# Advanced Level"
   ]
  },
  {
   "cell_type": "code",
   "execution_count": 7,
   "metadata": {},
   "outputs": [
    {
     "name": "stdout",
     "output_type": "stream",
     "text": [
      "Sorted column [Age]:\t15 Largest value [year] 64 64 63 63 63 63 60 60 60 60 59 59 58 58 58\n",
      "\t\t\t15 Smallest value [year] 13 13 13 13 13 13 13 14 14 14 14 14 14 14 14\n",
      "Sorted column [Height]:\t15 Largest value [cm] 223 220 219 216 216 216 216 216 214 213 213 213 213 213 213\n",
      "\t\t\t15 Smallest value [cm] 136 136 136 137 138 139 139 139 140 140 142 142 142 142 142\n",
      "\n",
      "Comments: In according to the data, the oldest gold medalist was 64 years old where as the yougest winner was only 13 years old. The age of oldest winner is fascinating that is quite impossible at the present days. Also, the height range varies from 136 to 223 cm."
     ]
    }
   ],
   "source": [
    "# sorting columns : Age \n",
    "Age <- new_dataset$Age # select column \"Age\" and store it variable name Age\n",
    "Age<-Age[Age!=\"NA\"] # missing values are deleted \n",
    "Age<-as.numeric(Age) # factor to interger conversion \n",
    "cat(\"Sorted column [Age]:\")\n",
    "cat(\"\\t15 Largest value [year]\",head(sort(Age,decreasing=TRUE),15)) # print 5 largest values \n",
    "cat(\"\\n\\t\\t\\t15 Smallest value [year]\",head(sort(Age,decreasing=FALSE),15)) # print 5 largest values \n",
    "\n",
    "\n",
    "# sorting columns : Height\n",
    "\n",
    "Height <- new_dataset$Height # select column \"Height\" and store it variable name Height\n",
    "Height<-Height[Height!=\"NA\"] # missing values are deleted \n",
    "Height<-as.numeric(Height) # factor to interger conversion \n",
    "cat(\"\\nSorted column [Height]:\")\n",
    "cat(\"\\t15 Largest value [cm]\",head(sort(Height,decreasing=TRUE),15)) # print 5 largest values \n",
    "cat(\"\\n\\t\\t\\t15 Smallest value [cm]\",head(sort(Height,decreasing=FALSE),15)) # print 5 largest values \n",
    "\n",
    "#comments on result\n",
    "cat(\"\\n\\nComments: In according to the data, the oldest gold medalist was 64 years old where as the yougest winner was only 13 years old. The age of oldest winner is fascinating that is quite impossible at the present days. Also, the height range varies from 136 to 223 cm.\")   "
   ]
  },
  {
   "cell_type": "markdown",
   "metadata": {},
   "source": [
    "# 7. Summery:\n",
    "<p style='text-align: justify;'>\n",
    "The analysis of dataset represents a good insight of Olympic history. The dataset is reliable ( by size, rows: 271116, columns: 15). Therefore, the chance to get almost optimal solution for small projects is moderate. <br>\n",
    "The contestants age range is 51 whereas the 75% percentile belongs to 28 years that is reasonable for athletes.  The other data columns such as weight and height are also acceptable.\n",
    "</p>\n",
    "<p style='text-align: justify;'>\n",
    "The list of top five Olympic gold medals by sports category are Athletics, Swimming, Rowing, Gymnastics, and Fencing and the total obtained medals are 1339, 1099, 978, 791, and 594 respectively. Those are popular and oldest events in Olympics. The above described result could help to choose a sport. </p>\n",
    "<p style='text-align: justify;'>\n",
    "In order to select an athlete, we can set categories based on age, height and weight. In my opinion, it will not wise to select participants in according to their achieved medal. Because Olympics holds every 4 yours and athlete performance is mainly age dependents. If we select an athlete based on present performance, he will get older over the years that will slow down his reflex. So, Kellogg's can select athlete based on the winner athletes average age, weight and height.</p>        \n"
   ]
  },
  {
   "cell_type": "markdown",
   "metadata": {},
   "source": [
    "# 8. Recommendations: \n",
    "<p style='text-align: justify;'>\n",
    "Kellogg's can sponsor sports: Athletics or Swimming. When it comes to select an individual athletes, the following can be considered:<br>\n",
    "a. Age nearby: 25.61434 year <br>\n",
    "b. Height: 140.2088 cm <br>\n",
    "c. Weight: 54.30567 kg\n",
    "    </p>  "
   ]
  }
 ],
 "metadata": {
  "kernelspec": {
   "display_name": "R",
   "language": "R",
   "name": "ir"
  },
  "language_info": {
   "codemirror_mode": "r",
   "file_extension": ".r",
   "mimetype": "text/x-r-source",
   "name": "R",
   "pygments_lexer": "r",
   "version": "3.5.1"
  }
 },
 "nbformat": 4,
 "nbformat_minor": 2
}
